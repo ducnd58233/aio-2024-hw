{
 "cells": [
  {
   "cell_type": "markdown",
   "metadata": {},
   "source": [
    "# 0. Download Dataset"
   ]
  },
  {
   "cell_type": "code",
   "execution_count": 1,
   "metadata": {},
   "outputs": [],
   "source": [
    "import sys\n",
    "sys.path.append('../..')\n",
    "from utils.gdrive_downloader import GDriveDownloader\n",
    "from utils.memory_tracker import MemoryTracker, safe_to_device\n",
    "\n",
    "root_dir = './data/weather_cls'"
   ]
  },
  {
   "cell_type": "code",
   "execution_count": 2,
   "metadata": {},
   "outputs": [],
   "source": [
    "# gdrive_downloader = GDriveDownloader(cache_dir='./cache')\n",
    "# success, message = gdrive_downloader.download_and_extract(\n",
    "#     gdrive_url='https://drive.google.com/file/d/1fnJMMw0LvDgl-GS4FTou5qAgLxOE2KQ0/view?usp=drive_link',\n",
    "#     extract_dir=root_dir,\n",
    "#     keep_zip=False\n",
    "# )\n",
    "# if success:\n",
    "#     print(f'Success: {message}')\n",
    "# else:\n",
    "#     print(f'Error: {message}')"
   ]
  },
  {
   "cell_type": "code",
   "execution_count": 3,
   "metadata": {},
   "outputs": [],
   "source": [
    "import torch\n",
    "import torch.nn as nn\n",
    "import os\n",
    "import random\n",
    "import numpy as np\n",
    "import pandas as pd\n",
    "import matplotlib.pyplot as plt\n",
    "\n",
    "from PIL import Image\n",
    "from torch.utils.data import Dataset, DataLoader\n",
    "from sklearn.model_selection import train_test_split"
   ]
  },
  {
   "cell_type": "code",
   "execution_count": 4,
   "metadata": {},
   "outputs": [],
   "source": [
    "def set_seed(seed):\n",
    "    random.seed(seed)\n",
    "    np.random.seed(seed)\n",
    "    torch.manual_seed(seed)\n",
    "    torch.cuda.manual_seed(seed)\n",
    "    torch.cuda.manual_seed_all(seed)\n",
    "    torch.backends.cudnn.deterministic = True\n",
    "    torch.backends.cudnn.benchmark = False\n",
    "\n",
    "seed = 59\n",
    "set_seed(seed)"
   ]
  },
  {
   "cell_type": "code",
   "execution_count": 5,
   "metadata": {},
   "outputs": [],
   "source": [
    "import torch.backends.cudnn as cudnn\n",
    "cudnn.benchmark = False\n",
    "cudnn.deterministic = True\n",
    "cudnn.enabled = False"
   ]
  },
  {
   "cell_type": "markdown",
   "metadata": {},
   "source": [
    "# 1. Load data"
   ]
  },
  {
   "cell_type": "code",
   "execution_count": 6,
   "metadata": {},
   "outputs": [
    {
     "data": {
      "text/plain": [
       "{0: 'dew',\n",
       " 1: 'fogsmog',\n",
       " 2: 'frost',\n",
       " 3: 'glaze',\n",
       " 4: 'hail',\n",
       " 5: 'lightning',\n",
       " 6: 'rain',\n",
       " 7: 'rainbow',\n",
       " 8: 'rime',\n",
       " 9: 'sandstorm',\n",
       " 10: 'snow'}"
      ]
     },
     "execution_count": 6,
     "metadata": {},
     "output_type": "execute_result"
    }
   ],
   "source": [
    "data_dir = os.path.join(root_dir, 'weather-dataset/dataset')\n",
    "img_paths = []\n",
    "labels = []\n",
    "classes = {\n",
    "    label_idx: class_name \\\n",
    "    for label_idx, class_name in enumerate(\n",
    "        sorted(os.listdir(data_dir))\n",
    "    )\n",
    "}\n",
    "classes"
   ]
  },
  {
   "cell_type": "code",
   "execution_count": 7,
   "metadata": {},
   "outputs": [],
   "source": [
    "for label_idx, class_name in classes.items():\n",
    "    class_dir = os.path.join(data_dir, class_name)\n",
    "    for img_filename in os.listdir(class_dir):\n",
    "        img_path = os.path.join(class_dir, img_filename)\n",
    "        img_paths.append(img_path)\n",
    "        labels.append(label_idx)"
   ]
  },
  {
   "cell_type": "code",
   "execution_count": 8,
   "metadata": {},
   "outputs": [],
   "source": [
    "# Split train, val, test\n",
    "val_size = 0.2\n",
    "test_size = 0.125\n",
    "is_shuffle = True\n",
    "\n",
    "X_train, X_val, y_train, y_val = train_test_split(\n",
    "    img_paths, labels,\n",
    "    test_size=val_size,\n",
    "    random_state=seed,\n",
    "    shuffle=is_shuffle\n",
    ")\n",
    "\n",
    "X_train, X_test, y_train, y_test = train_test_split(\n",
    "    X_train, y_train,\n",
    "    test_size=test_size,\n",
    "    random_state=seed,\n",
    "    shuffle=is_shuffle\n",
    ")"
   ]
  },
  {
   "cell_type": "markdown",
   "metadata": {},
   "source": [
    "# 2. Preprocessing"
   ]
  },
  {
   "cell_type": "code",
   "execution_count": 9,
   "metadata": {},
   "outputs": [],
   "source": [
    "class WeatherDataset(Dataset):\n",
    "    def __init__(\n",
    "        self,\n",
    "        X, y,\n",
    "        transform=None,\n",
    "    ):\n",
    "        self.transform = transform\n",
    "        self.img_paths = X\n",
    "        self.labels = y\n",
    "\n",
    "    def __len__(self):\n",
    "        return len(self.img_paths)\n",
    "    \n",
    "    def __getitem__(self, idx):\n",
    "        img_path = self.img_paths[idx]\n",
    "        img = Image.open(img_path).convert('RGB')\n",
    "\n",
    "        if self.transform:\n",
    "            img = self.transform(img)\n",
    "\n",
    "        return img, self.labels[idx]"
   ]
  },
  {
   "cell_type": "code",
   "execution_count": 10,
   "metadata": {},
   "outputs": [],
   "source": [
    "def transform(img, img_size=(224, 224)):\n",
    "    img = img.resize(img_size)\n",
    "    img = np.array(img)[..., :3]\n",
    "    img = torch.tensor(img).permute(2, 0, 1).float()\n",
    "    normalized_img = img / 255.0\n",
    "\n",
    "    return normalized_img"
   ]
  },
  {
   "cell_type": "code",
   "execution_count": 11,
   "metadata": {},
   "outputs": [],
   "source": [
    "# Define datasets object\n",
    "\n",
    "train_dataset = WeatherDataset(\n",
    "    X_train, y_train,\n",
    "    transform=transform\n",
    ")\n",
    "val_dataset = WeatherDataset(\n",
    "    X_val, y_val,\n",
    "    transform=transform\n",
    ")\n",
    "test_dataset = WeatherDataset(\n",
    "    X_test, y_test,\n",
    "    transform=transform\n",
    ")"
   ]
  },
  {
   "cell_type": "code",
   "execution_count": 12,
   "metadata": {},
   "outputs": [],
   "source": [
    "# Define dataloader\n",
    "train_batch_size = 16\n",
    "test_batch_size = 8\n",
    "\n",
    "train_loader = DataLoader(\n",
    "    train_dataset,\n",
    "    batch_size=train_batch_size,\n",
    "    shuffle=True\n",
    ")\n",
    "val_loader = DataLoader(\n",
    "    val_dataset,\n",
    "    batch_size=test_batch_size,\n",
    "    shuffle=False\n",
    ")\n",
    "test_loader = DataLoader(\n",
    "    test_dataset,\n",
    "    batch_size=test_batch_size,\n",
    "    shuffle=False\n",
    ")"
   ]
  },
  {
   "cell_type": "markdown",
   "metadata": {},
   "source": [
    "# 3. Build Models"
   ]
  },
  {
   "cell_type": "markdown",
   "metadata": {},
   "source": [
    "![Resnet layer structure](public/images/resnet_structure.png)"
   ]
  },
  {
   "cell_type": "markdown",
   "metadata": {},
   "source": [
    "![Residual Block](public/images/residual_connection.png)"
   ]
  },
  {
   "cell_type": "code",
   "execution_count": 13,
   "metadata": {},
   "outputs": [],
   "source": [
    "class ResidualBlock(nn.Module):\n",
    "    def __init__(self, in_channels, out_channels, stride=1):\n",
    "        super(ResidualBlock, self).__init__()\n",
    "        self.conv1 = nn.Conv2d(in_channels, out_channels, kernel_size=3, stride=stride, padding=1)\n",
    "        self.batch_norm1 = nn.BatchNorm2d(out_channels)\n",
    "        self.conv2 = nn.Conv2d(out_channels, out_channels, kernel_size=3, stride=1, padding=1)\n",
    "        self.batch_norm2 = nn.BatchNorm2d(out_channels)\n",
    "\n",
    "        self.downsample = nn.Sequential()\n",
    "        if stride != 1 or in_channels != out_channels:\n",
    "            self.downsample = nn.Sequential(\n",
    "                nn.Conv2d(in_channels, out_channels, kernel_size=1, stride=stride),\n",
    "                nn.BatchNorm2d(out_channels)\n",
    "            )\n",
    "        self.relu = nn.ReLU()\n",
    "    \n",
    "    def forward(self, x):\n",
    "        shortcut = x.clone()\n",
    "        x = self.conv1(x)\n",
    "        x = self.batch_norm1(x)\n",
    "        x = self.relu(x)\n",
    "        x = self.conv2(x)\n",
    "        x = self.batch_norm2(x)\n",
    "        x += self.downsample(shortcut)\n",
    "        x = self.relu(x)\n",
    "\n",
    "        return x"
   ]
  },
  {
   "cell_type": "code",
   "execution_count": 14,
   "metadata": {},
   "outputs": [],
   "source": [
    "class ResNet(nn.Module):\n",
    "    def __init__(self, residual_block, n_blocks_lst, n_classes):\n",
    "        super(ResNet, self).__init__()\n",
    "        self.conv1 = nn.Conv2d(3, 64, kernel_size=7, stride=2, padding=3)\n",
    "        self.batch_norm1 = nn.BatchNorm2d(64)\n",
    "        self.relu = nn.ReLU()\n",
    "        self.maxpool = nn.MaxPool2d(kernel_size=3, stride=2, padding=1)\n",
    "        self.conv2 = self.create_layer(residual_block, 64, 64, n_blocks_lst[0], 1)\n",
    "        self.conv3 = self.create_layer(residual_block, 64, 128, n_blocks_lst[1], 2)\n",
    "        self.conv4 = self.create_layer(residual_block, 128, 256, n_blocks_lst[2], 2)\n",
    "        self.conv5 = self.create_layer(residual_block, 256, 512, n_blocks_lst[3], 2)\n",
    "        self.avgpool = nn.AdaptiveAvgPool2d(1)\n",
    "        self.flatten = nn.Flatten()\n",
    "        self.fc1 = nn.Linear(512, n_classes)\n",
    "\n",
    "    def create_layer(self, residual_block, in_channels, out_channels, n_blocks, stride):\n",
    "        blocks = []\n",
    "        first_block = residual_block(in_channels, out_channels, stride)\n",
    "        blocks.append(first_block)\n",
    "\n",
    "        for _ in range(1, n_blocks):\n",
    "            block = residual_block(out_channels, out_channels, stride)\n",
    "            blocks.append(block)\n",
    "\n",
    "        block_sequential = nn.Sequential(*blocks)\n",
    "        return block_sequential\n",
    "\n",
    "    def forward(self, x):\n",
    "        x = self.conv1(x)\n",
    "        x = self.batch_norm1(x)\n",
    "        x = self.maxpool(x)\n",
    "        x = self.relu(x)\n",
    "        x = self.conv2(x)\n",
    "        x = self.conv3(x)\n",
    "        x = self.conv4(x)\n",
    "        x = self.conv5(x)\n",
    "        x = self.avgpool(x)\n",
    "        x = self.flatten(x)\n",
    "        x = self.fc1(x)\n",
    "\n",
    "        return x"
   ]
  },
  {
   "cell_type": "code",
   "execution_count": 15,
   "metadata": {},
   "outputs": [],
   "source": [
    "n_classes = len(list(classes.keys()))\n",
    "device = 'cuda' if torch.cuda.is_available() else 'cpu'\n",
    "\n",
    "model = ResNet(\n",
    "    residual_block=ResidualBlock,\n",
    "    n_blocks_lst=[2, 2, 2, 2],\n",
    "    n_classes=n_classes\n",
    ").to(device)"
   ]
  },
  {
   "cell_type": "markdown",
   "metadata": {},
   "source": [
    "# 4. Evaluate and Train Model"
   ]
  },
  {
   "cell_type": "code",
   "execution_count": 16,
   "metadata": {},
   "outputs": [
    {
     "name": "stderr",
     "output_type": "stream",
     "text": [
      "/home/jiggle/miniconda3/envs/aio2024-hw/lib/python3.12/site-packages/tqdm/auto.py:21: TqdmWarning: IProgress not found. Please update jupyter and ipywidgets. See https://ipywidgets.readthedocs.io/en/stable/user_install.html\n",
      "  from .autonotebook import tqdm as notebook_tqdm\n"
     ]
    }
   ],
   "source": [
    "import torch\n",
    "from tqdm.auto import tqdm\n",
    "from typing import Dict, List, Tuple\n",
    "import time\n",
    "\n",
    "save_model = './model'\n",
    "if not os.path.exists(save_model):\n",
    "    os.makedirs(save_model)\n"
   ]
  },
  {
   "cell_type": "code",
   "execution_count": 17,
   "metadata": {},
   "outputs": [],
   "source": [
    "def evaluate(\n",
    "    model: torch.nn.Module,\n",
    "    criterion: torch.nn.Module,\n",
    "    dataloader: torch.utils.data.DataLoader,\n",
    "    device: torch.device,\n",
    "    desc: str = \"Validating\",\n",
    "    position: int = 1,\n",
    "    is_leaving=False\n",
    ") -> Tuple[float, float]:\n",
    "    model.eval()\n",
    "    total_acc = total_loss = total_count = 0\n",
    "\n",
    "    try:\n",
    "        with torch.no_grad(), tqdm(\n",
    "            dataloader,\n",
    "            desc=desc,\n",
    "            unit=\"sample\",\n",
    "            unit_scale=dataloader.batch_size,\n",
    "            position=position,\n",
    "            leave=is_leaving,\n",
    "        ) as pbar:\n",
    "            for batch_idx, (inputs, labels) in enumerate(pbar):\n",
    "                MemoryTracker.clear_memory(model)\n",
    "\n",
    "                try:\n",
    "                    inputs = safe_to_device(inputs, device)\n",
    "                    labels = safe_to_device(labels, device)\n",
    "\n",
    "                    outputs = model(inputs)\n",
    "                    loss = criterion(outputs, labels)\n",
    "\n",
    "                    total_loss += float(loss.detach().item() * labels.size(0))  # Weighted by batch size\n",
    "                    _, predicted = torch.max(outputs.data, 1)\n",
    "                    total_count += labels.size(0)\n",
    "                    total_acc += (predicted == labels).sum().item()\n",
    "\n",
    "                    del outputs, loss, predicted\n",
    "                except RuntimeError as e:\n",
    "                    print(f\"\\nError in validation batch {batch_idx}: {str(e)}\")\n",
    "                    MemoryTracker.clear_memory(model)\n",
    "                    continue\n",
    "\n",
    "                allocated, reserved = MemoryTracker.get_memory_stats()\n",
    "                pbar.set_postfix({\n",
    "                    'loss': f'{total_loss/max(1, total_count):.4f}',\n",
    "                    'acc': f'{100.*total_acc/max(1, total_count):.2f}%',\n",
    "                    'GPU': f'{allocated:.0f}MB',\n",
    "                })\n",
    "\n",
    "    except Exception as e:\n",
    "        print(f\"\\nEvaluation error: {str(e)}\")\n",
    "        MemoryTracker.clear_memory(model)\n",
    "        raise\n",
    "\n",
    "    \n",
    "    epoch_loss = total_loss / max(1, total_count)\n",
    "    epoch_acc = total_acc / max(1, total_count)\n",
    "    \n",
    "    return epoch_acc, epoch_loss"
   ]
  },
  {
   "cell_type": "code",
   "execution_count": 18,
   "metadata": {},
   "outputs": [],
   "source": [
    "def train(\n",
    "    model: torch.nn.Module,\n",
    "    optimizer: torch.optim.Optimizer,\n",
    "    criterion: torch.nn.Module,\n",
    "    dataloader: torch.utils.data.DataLoader,\n",
    "    device: torch.device,\n",
    "    desc: str = \"Training\",\n",
    "    position: int = 1,\n",
    ") -> Tuple[float, float]:\n",
    "    model.train()\n",
    "    total_loss = total_acc = total_count = 0\n",
    "\n",
    "    try:\n",
    "        with tqdm(\n",
    "            dataloader, \n",
    "            desc=desc,\n",
    "            unit=\"batch\",\n",
    "            total=len(dataloader),\n",
    "            position=position, \n",
    "            leave=True,\n",
    "        ) as pbar:\n",
    "            for batch_idx, (inputs, labels) in enumerate(pbar):\n",
    "                MemoryTracker.clear_memory(model)\n",
    "                \n",
    "                try:\n",
    "                    inputs = safe_to_device(inputs, device)\n",
    "                    labels = safe_to_device(labels, device)\n",
    "\n",
    "                    predictions = model(inputs)\n",
    "                    loss = criterion(predictions, labels)\n",
    "                    loss.backward()\n",
    "                    optimizer.step()\n",
    "\n",
    "                    total_loss += float(loss.item() * labels.size(0))\n",
    "                    total_acc += (predictions.argmax(1) == labels).sum().item()\n",
    "                    total_count += labels.size(0)\n",
    "\n",
    "                    del predictions, loss\n",
    "\n",
    "                except RuntimeError as e:\n",
    "                    print(f\"\\nError in training batch {batch_idx}: {str(e)}\")\n",
    "                    MemoryTracker.clear_memory(model)\n",
    "                    optimizer.zero_grad()\n",
    "                    continue\n",
    "\n",
    "                allocated, reserved = MemoryTracker.get_memory_stats()\n",
    "                pbar.set_postfix({\n",
    "                    'loss': f'{total_loss/max(1, total_count):.4f}',\n",
    "                    'acc': f'{100.*total_acc/max(1, total_count):.2f}%',\n",
    "                    'GPU': f'{allocated:.0f}MB'\n",
    "                })\n",
    "\n",
    "    except Exception as e:\n",
    "        print(f\"\\nTraining error: {str(e)}\")\n",
    "        MemoryTracker.clear_memory(model)\n",
    "        raise\n",
    "\n",
    "    epoch_loss = total_loss / max(1, total_count)\n",
    "    epoch_acc = total_acc / max(1, total_count)\n",
    "    \n",
    "    return epoch_acc, epoch_loss"
   ]
  },
  {
   "cell_type": "code",
   "execution_count": 19,
   "metadata": {},
   "outputs": [],
   "source": [
    "def fit(\n",
    "    model: torch.nn.Module,\n",
    "    criterion: torch.nn.Module,\n",
    "    optimizer: torch.optim.Optimizer,\n",
    "    train_loader: torch.utils.data.DataLoader,\n",
    "    val_loader: torch.utils.data.DataLoader,\n",
    "    device: torch.device,\n",
    "    epochs: int,\n",
    "    early_stopping_patience: int = None,\n",
    "    scheduler = None,\n",
    ") -> Dict[str, List[float]]:\n",
    "    history = {\n",
    "        'train_acc': [], 'train_loss': [],\n",
    "        'val_acc': [], 'val_loss': [],\n",
    "        'epoch_times': [], 'GPU': []\n",
    "    }\n",
    "    best_val_loss = float('inf')\n",
    "    patience_counter = 0\n",
    "\n",
    "    try:\n",
    "        with tqdm(range(epochs), desc=\"Epochs\", position=0, leave=True) as epoch_pbar:\n",
    "            for epoch in epoch_pbar:\n",
    "                MemoryTracker.clear_memory(model)\n",
    "                \n",
    "                try:\n",
    "                    epoch_start = time.time()\n",
    "\n",
    "                    train_acc, train_loss = train(\n",
    "                        model, optimizer, criterion, train_loader, device,\n",
    "                        desc=f\"Epoch {epoch+1}/{epochs} [Train]\",\n",
    "                        position=0,\n",
    "                    )\n",
    "\n",
    "                    val_acc, val_loss = evaluate(\n",
    "                        model, criterion, val_loader, device,\n",
    "                        desc=f\"Epoch {epoch+1}/{epochs} [Val]\",\n",
    "                        position=0,\n",
    "                        is_leaving=True,\n",
    "                    )\n",
    "\n",
    "                    if scheduler is not None:\n",
    "                        scheduler.step()\n",
    "\n",
    "                    epoch_time = time.time() - epoch_start\n",
    "                    allocated, _ = MemoryTracker.get_memory_stats()\n",
    "\n",
    "                    history['train_acc'].append(train_acc)\n",
    "                    history['train_loss'].append(train_loss)\n",
    "                    history['val_acc'].append(val_acc)\n",
    "                    history['val_loss'].append(val_loss)\n",
    "                    history['epoch_times'].append(epoch_time)\n",
    "                    history['GPU'].append(allocated)\n",
    "\n",
    "                    if early_stopping_patience is not None:\n",
    "                        if val_loss < best_val_loss:\n",
    "                            best_val_loss = val_loss\n",
    "                            patience_counter = 0\n",
    "                            torch.save(model.state_dict(), save_model + '/resnet_weather_cls.pt')\n",
    "                        else:\n",
    "                            patience_counter += 1\n",
    "                            if patience_counter >= early_stopping_patience:\n",
    "                                print(f'\\nEarly stopping triggered after {epoch + 1} epochs')\n",
    "                                break\n",
    "\n",
    "                except Exception as e:\n",
    "                    print(f\"\\nError in epoch {epoch + 1}: {str(e)}\")\n",
    "                    MemoryTracker.clear_memory(model)\n",
    "                    continue\n",
    "    \n",
    "    except Exception as e:\n",
    "        print(f\"\\nTraining loop error: {str(e)}\")\n",
    "        MemoryTracker.clear_memory(model)\n",
    "\n",
    "    return history"
   ]
  },
  {
   "cell_type": "code",
   "execution_count": 20,
   "metadata": {},
   "outputs": [
    {
     "name": "stderr",
     "output_type": "stream",
     "text": [
      "Epoch 1/5 [Train]: 100%|██████████| 301/301 [06:54<00:00,  1.38s/batch, loss=1.6644, acc=44.92%, GPU=106MB]\n",
      "Epoch 1/5 [Val]: 100%|██████████| 1376/1376 [03:00<00:00,  7.62sample/s, loss=1.4752, acc=54.99%, GPU=108MB]\n",
      "Epoch 2/5 [Train]: 100%|██████████| 301/301 [09:37<00:00,  1.92s/batch, loss=1.4491, acc=51.90%, GPU=106MB]\n",
      "Epoch 2/5 [Val]: 100%|██████████| 1376/1376 [02:40<00:00,  8.56sample/s, loss=1.4757, acc=55.50%, GPU=108MB]\n",
      "Epoch 3/5 [Train]: 100%|██████████| 301/301 [06:55<00:00,  1.38s/batch, loss=1.4023, acc=53.79%, GPU=106MB]\n",
      "Epoch 3/5 [Val]: 100%|██████████| 1376/1376 [02:37<00:00,  8.75sample/s, loss=1.3960, acc=55.21%, GPU=108MB]\n",
      "Epoch 4/5 [Train]: 100%|██████████| 301/301 [09:16<00:00,  1.85s/batch, loss=1.4095, acc=54.21%, GPU=106MB]\n",
      "Epoch 4/5 [Val]: 100%|██████████| 1376/1376 [02:45<00:00,  8.34sample/s, loss=1.2939, acc=57.90%, GPU=108MB]\n",
      "Epoch 5/5 [Train]: 100%|██████████| 301/301 [08:29<00:00,  1.69s/batch, loss=1.3018, acc=56.68%, GPU=106MB]\n",
      "Epoch 5/5 [Val]: 100%|██████████| 1376/1376 [01:42<00:00, 13.41sample/s, loss=1.2353, acc=59.43%, GPU=108MB]\n",
      "Epochs: 100%|██████████| 5/5 [54:02<00:00, 648.48s/it]\n"
     ]
    }
   ],
   "source": [
    "lr = 1e-4\n",
    "epochs = 5\n",
    "\n",
    "criterion = nn.CrossEntropyLoss()\n",
    "optimizer = torch.optim.SGD(\n",
    "    model.parameters(),\n",
    "    lr=lr\n",
    ")\n",
    "history = fit(\n",
    "    model,\n",
    "    criterion,\n",
    "    optimizer,\n",
    "    train_loader,\n",
    "    val_loader,\n",
    "    device,\n",
    "    epochs,\n",
    ")"
   ]
  },
  {
   "cell_type": "code",
   "execution_count": 23,
   "metadata": {},
   "outputs": [
    {
     "name": "stdout",
     "output_type": "stream",
     "text": [
      "Peak GPU memory usage: 104.69 MB\n"
     ]
    }
   ],
   "source": [
    "max_memory = max(history['GPU'])\n",
    "print(f\"Peak GPU memory usage: {max_memory:.2f} MB\")"
   ]
  },
  {
   "cell_type": "code",
   "execution_count": 22,
   "metadata": {},
   "outputs": [
    {
     "name": "stderr",
     "output_type": "stream",
     "text": []
    },
    {
     "data": {
      "text/plain": [
       "(0.5895196506550219, 1.200914534071821)"
      ]
     },
     "execution_count": 22,
     "metadata": {},
     "output_type": "execute_result"
    }
   ],
   "source": [
    "test_acc, test_loss = evaluate(\n",
    "    model,\n",
    "    criterion,\n",
    "    test_loader,\n",
    "    device\n",
    ")\n",
    "test_acc, test_loss"
   ]
  },
  {
   "cell_type": "code",
   "execution_count": null,
   "metadata": {},
   "outputs": [],
   "source": []
  }
 ],
 "metadata": {
  "kernelspec": {
   "display_name": "aio2024-hw",
   "language": "python",
   "name": "python3"
  },
  "language_info": {
   "codemirror_mode": {
    "name": "ipython",
    "version": 3
   },
   "file_extension": ".py",
   "mimetype": "text/x-python",
   "name": "python",
   "nbconvert_exporter": "python",
   "pygments_lexer": "ipython3",
   "version": "3.12.7"
  }
 },
 "nbformat": 4,
 "nbformat_minor": 2
}
