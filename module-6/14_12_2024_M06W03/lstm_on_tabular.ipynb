{
  "cells": [
    {
      "cell_type": "markdown",
      "id": "207bc665",
      "metadata": {
        "id": "207bc665"
      },
      "source": [
        "## 0. Download dataset"
      ]
    },
    {
      "cell_type": "code",
      "execution_count": 1,
      "id": "631a7fa8",
      "metadata": {
        "colab": {
          "base_uri": "https://localhost:8080/"
        },
        "id": "631a7fa8",
        "outputId": "fc391ca2-53bb-49a7-8b66-92ad55289a7d"
      },
      "outputs": [
        {
          "name": "stdout",
          "output_type": "stream",
          "text": [
            "d:\\AIVietNam\\2024\\aio-2024-hw\\module-6\\14_12_2024_M06W03\\data\n"
          ]
        },
        {
          "name": "stderr",
          "output_type": "stream",
          "text": [
            "A subdirectory or file data already exists.\n"
          ]
        },
        {
          "name": "stdout",
          "output_type": "stream",
          "text": [
            "d:\\AIVietNam\\2024\\aio-2024-hw\\module-6\\14_12_2024_M06W03\n"
          ]
        },
        {
          "name": "stderr",
          "output_type": "stream",
          "text": [
            "Downloading...\n",
            "From: https://drive.google.com/uc?id=178YSDYmlRh54IcxStgYA3UyKFRM9-3DO\n",
            "To: d:\\AIVietNam\\2024\\aio-2024-hw\\module-6\\14_12_2024_M06W03\\data\\dataset.zip\n",
            "\n",
            "  0%|          | 0.00/2.35M [00:00<?, ?B/s]\n",
            " 22%|██▏       | 524k/2.35M [00:00<00:00, 3.01MB/s]\n",
            "100%|██████████| 2.35M/2.35M [00:00<00:00, 8.88MB/s]\n"
          ]
        }
      ],
      "source": [
        "!mkdir data\n",
        "%cd data\n",
        "\n",
        "!gdown 178YSDYmlRh54IcxStgYA3UyKFRM9-3DO\n",
        "\n",
        "%cd .."
      ]
    },
    {
      "cell_type": "code",
      "execution_count": 2,
      "id": "X3uEXUrYAASw",
      "metadata": {
        "colab": {
          "base_uri": "https://localhost:8080/"
        },
        "id": "X3uEXUrYAASw",
        "outputId": "7290c0fe-4906-4a1d-ac18-7900bba7bf56"
      },
      "outputs": [],
      "source": [
        "import zipfile\n",
        "\n",
        "with zipfile.ZipFile('./data/dataset.zip', 'r') as zip_ref:\n",
        "    zip_ref.extractall('./data')"
      ]
    },
    {
      "cell_type": "markdown",
      "id": "138a5a26",
      "metadata": {
        "id": "138a5a26"
      },
      "source": [
        "## 1. Import libraries"
      ]
    },
    {
      "cell_type": "code",
      "execution_count": 3,
      "id": "5eefab75",
      "metadata": {
        "id": "5eefab75"
      },
      "outputs": [],
      "source": [
        "import torch\n",
        "import torch.nn as nn\n",
        "\n",
        "seed = 1\n",
        "torch.manual_seed(seed)\n",
        "\n",
        "import numpy as np\n",
        "import pandas as pd\n",
        "import matplotlib.pyplot as plt\n",
        "\n",
        "from torch.utils.data import Dataset, DataLoader"
      ]
    },
    {
      "cell_type": "markdown",
      "id": "2c44e3cb",
      "metadata": {
        "id": "2c44e3cb"
      },
      "source": [
        "## 2. Read dataset"
      ]
    },
    {
      "cell_type": "code",
      "execution_count": 5,
      "id": "0d4f054a",
      "metadata": {
        "id": "0d4f054a",
        "scrolled": false
      },
      "outputs": [],
      "source": [
        "dataset_filepath = './data/dataset/weatherHistory.csv'\n",
        "df = pd.read_csv(dataset_filepath)"
      ]
    },
    {
      "cell_type": "code",
      "execution_count": 6,
      "id": "7722ed65",
      "metadata": {
        "id": "7722ed65",
        "scrolled": false
      },
      "outputs": [],
      "source": [
        "univariate_df = df['Temperature (C)']\n",
        "univariate_df.index = df['Formatted Date']"
      ]
    },
    {
      "cell_type": "code",
      "execution_count": 7,
      "id": "51fbb257",
      "metadata": {
        "colab": {
          "base_uri": "https://localhost:8080/",
          "height": 489
        },
        "id": "51fbb257",
        "outputId": "fa52ae3e-5323-4391-b327-814252ffe254"
      },
      "outputs": [
        {
          "data": {
            "text/plain": [
              "Formatted Date\n",
              "2006-04-01 00:00:00.000 +0200     9.472222\n",
              "2006-04-01 01:00:00.000 +0200     9.355556\n",
              "2006-04-01 02:00:00.000 +0200     9.377778\n",
              "2006-04-01 03:00:00.000 +0200     8.288889\n",
              "2006-04-01 04:00:00.000 +0200     8.755556\n",
              "                                   ...    \n",
              "2016-09-09 19:00:00.000 +0200    26.016667\n",
              "2016-09-09 20:00:00.000 +0200    24.583333\n",
              "2016-09-09 21:00:00.000 +0200    22.038889\n",
              "2016-09-09 22:00:00.000 +0200    21.522222\n",
              "2016-09-09 23:00:00.000 +0200    20.438889\n",
              "Name: Temperature (C), Length: 96453, dtype: float64"
            ]
          },
          "execution_count": 7,
          "metadata": {},
          "output_type": "execute_result"
        }
      ],
      "source": [
        "univariate_df"
      ]
    },
    {
      "cell_type": "markdown",
      "id": "a94cee77",
      "metadata": {
        "id": "a94cee77"
      },
      "source": [
        "## 3. Data preprocessing"
      ]
    },
    {
      "cell_type": "markdown",
      "id": "e2372538",
      "metadata": {},
      "source": [
        "![Sliding Window](./assets/images/sliding_window.png)"
      ]
    },
    {
      "cell_type": "code",
      "execution_count": 8,
      "id": "c2b2e79d",
      "metadata": {
        "id": "c2b2e79d"
      },
      "outputs": [],
      "source": [
        "input_size = 6\n",
        "label_size = 1\n",
        "offset = 1\n",
        "\n",
        "def slicing_window(df, df_start_idx, df_end_idx, input_size, label_size, offset):\n",
        "    features = []\n",
        "    labels = []\n",
        "\n",
        "    window_size = input_size + offset\n",
        "\n",
        "    if df_end_idx == None:\n",
        "        df_end_idx = len(df) - window_size\n",
        "\n",
        "    for idx in range(df_start_idx, df_end_idx):\n",
        "        feature_end_idx = idx + input_size\n",
        "        label_start_idx = idx + window_size - label_size\n",
        "\n",
        "        feature = df[idx:feature_end_idx]\n",
        "        label = df[label_start_idx:(idx+window_size)]\n",
        "\n",
        "        features.append(feature)\n",
        "        labels.append(label)\n",
        "\n",
        "    features = np.expand_dims(np.array(features), -1)\n",
        "    labels = np.array(labels)\n",
        "\n",
        "    return features, labels"
      ]
    },
    {
      "cell_type": "markdown",
      "id": "a443009e",
      "metadata": {
        "id": "a443009e"
      },
      "source": [
        "## 4. Train, val, test split"
      ]
    },
    {
      "cell_type": "code",
      "execution_count": 9,
      "id": "08f3446b",
      "metadata": {
        "id": "08f3446b"
      },
      "outputs": [],
      "source": [
        "dataset_length = len(univariate_df)\n",
        "train_size = 0.7\n",
        "val_size = 0.2\n",
        "train_end_idx = int(train_size * dataset_length)\n",
        "val_end_idx = int(val_size * dataset_length) + train_end_idx\n",
        "\n",
        "X_train, y_train = slicing_window(\n",
        "    univariate_df,\n",
        "    df_start_idx=0,\n",
        "    df_end_idx=train_end_idx,\n",
        "    input_size=input_size,\n",
        "    label_size=label_size,\n",
        "    offset=offset\n",
        ")\n",
        "\n",
        "X_val, y_val = slicing_window(\n",
        "    univariate_df,\n",
        "    df_start_idx=train_end_idx,\n",
        "    df_end_idx=val_end_idx,\n",
        "    input_size=input_size,\n",
        "    label_size=label_size,\n",
        "    offset=offset\n",
        ")\n",
        "\n",
        "X_test, y_test = slicing_window(\n",
        "    univariate_df,\n",
        "    df_start_idx=val_end_idx,\n",
        "    df_end_idx=None,\n",
        "    input_size=input_size,\n",
        "    label_size=label_size,\n",
        "    offset=offset\n",
        ")"
      ]
    },
    {
      "cell_type": "markdown",
      "id": "e44f15c3",
      "metadata": {
        "id": "e44f15c3"
      },
      "source": [
        "## 5. Implement PyTorch dataset"
      ]
    },
    {
      "cell_type": "code",
      "execution_count": 10,
      "id": "9941afd8",
      "metadata": {
        "id": "9941afd8"
      },
      "outputs": [],
      "source": [
        "class WeatherForecast(Dataset):\n",
        "    def __init__(\n",
        "        self,\n",
        "        X, y,\n",
        "        transform=None\n",
        "    ):\n",
        "        self.X = X\n",
        "        self.y = y\n",
        "        self.transform = transform\n",
        "\n",
        "    def __len__(self):\n",
        "        return len(self.X)\n",
        "\n",
        "    def __getitem__(self, idx):\n",
        "        X = self.X[idx]\n",
        "        y = self.y[idx]\n",
        "\n",
        "        if self.transform:\n",
        "            X = self.transform(X)\n",
        "\n",
        "        X = torch.tensor(X, dtype=torch.float32)\n",
        "        y = torch.tensor(y, dtype=torch.float32)\n",
        "\n",
        "        return X, y"
      ]
    },
    {
      "cell_type": "markdown",
      "id": "35746976",
      "metadata": {
        "id": "35746976"
      },
      "source": [
        "## 6. Create dataloader"
      ]
    },
    {
      "cell_type": "code",
      "execution_count": 11,
      "id": "462de074",
      "metadata": {
        "id": "462de074"
      },
      "outputs": [],
      "source": [
        "train_dataset = WeatherForecast(\n",
        "    X_train, y_train\n",
        ")\n",
        "val_dataset = WeatherForecast(\n",
        "    X_val, y_val\n",
        ")\n",
        "test_dataset = WeatherForecast(\n",
        "    X_test, y_test\n",
        ")"
      ]
    },
    {
      "cell_type": "code",
      "execution_count": 12,
      "id": "8fd30115",
      "metadata": {
        "id": "8fd30115"
      },
      "outputs": [],
      "source": [
        "train_batch_size = 128\n",
        "test_batch_size = 8\n",
        "\n",
        "train_loader = DataLoader(\n",
        "    train_dataset,\n",
        "    batch_size=train_batch_size,\n",
        "    shuffle=True\n",
        ")\n",
        "val_loader = DataLoader(\n",
        "    val_dataset,\n",
        "    batch_size=test_batch_size,\n",
        "    shuffle=False\n",
        ")\n",
        "test_loader = DataLoader(\n",
        "    test_dataset,\n",
        "    batch_size=test_batch_size,\n",
        "    shuffle=False\n",
        ")"
      ]
    },
    {
      "cell_type": "markdown",
      "id": "c4275555",
      "metadata": {
        "id": "c4275555"
      },
      "source": [
        "## 7. Implement model"
      ]
    },
    {
      "cell_type": "code",
      "execution_count": 13,
      "id": "9ce5bfca",
      "metadata": {
        "id": "9ce5bfca"
      },
      "outputs": [],
      "source": [
        "class WeatherForecastor(nn.Module):\n",
        "    def __init__(\n",
        "        self, embedding_dim, hidden_size,\n",
        "        n_layers, dropout_prob\n",
        "    ):\n",
        "        super(WeatherForecastor, self).__init__()\n",
        "        self.lstm = nn.LSTM(embedding_dim, hidden_size, n_layers, batch_first=True, bidirectional=True)\n",
        "        self.norm = nn.LayerNorm(hidden_size * 2)\n",
        "\n",
        "        self.dropout = nn.Dropout(dropout_prob)\n",
        "        self.fc = nn.Linear(hidden_size * 2, 1)\n",
        "\n",
        "    def forward(self, x):\n",
        "        x, (hn, cn) = self.lstm(x)\n",
        "        x = x[:, -1, :]\n",
        "        x = self.norm(x)\n",
        "        x = self.dropout(x)\n",
        "        x = self.fc(x)\n",
        "\n",
        "        return x"
      ]
    },
    {
      "cell_type": "code",
      "execution_count": 14,
      "id": "3eb16c39",
      "metadata": {
        "id": "3eb16c39"
      },
      "outputs": [],
      "source": [
        "embedding_dim = 1\n",
        "hidden_size = 8\n",
        "n_layers = 3\n",
        "dropout_prob = 0.2\n",
        "device = 'cuda' if torch.cuda.is_available() else 'cpu'\n",
        "\n",
        "model = WeatherForecastor(\n",
        "    embedding_dim=embedding_dim,\n",
        "    hidden_size=hidden_size,\n",
        "    n_layers=n_layers,\n",
        "    dropout_prob=dropout_prob\n",
        ").to(device)"
      ]
    },
    {
      "cell_type": "code",
      "execution_count": 15,
      "id": "892152b6",
      "metadata": {
        "colab": {
          "base_uri": "https://localhost:8080/"
        },
        "id": "892152b6",
        "outputId": "1d200f47-d7dc-4032-ee30-c3d93af3c4bc"
      },
      "outputs": [
        {
          "name": "stdout",
          "output_type": "stream",
          "text": [
            "Output shape: torch.Size([1, 1])\n"
          ]
        }
      ],
      "source": [
        "model.eval()\n",
        "\n",
        "dummy_tensor = torch.randn((1, 6, 1)).to(device)\n",
        "\n",
        "with torch.no_grad():\n",
        "    output = model(dummy_tensor)\n",
        "\n",
        "print('Output shape:', output.shape)"
      ]
    },
    {
      "cell_type": "markdown",
      "id": "f1e9597f",
      "metadata": {
        "id": "f1e9597f"
      },
      "source": [
        "## 8. Training"
      ]
    },
    {
      "cell_type": "code",
      "execution_count": 16,
      "id": "682d2073",
      "metadata": {
        "id": "682d2073"
      },
      "outputs": [],
      "source": [
        "def evaluate(model, dataloader, criterion, device):\n",
        "    model.eval()\n",
        "\n",
        "    losses = []\n",
        "    with torch.no_grad():\n",
        "        for inputs, labels in dataloader:\n",
        "            inputs, labels = inputs.to(device), labels.to(device)\n",
        "            outputs = model(inputs)\n",
        "            loss = criterion(outputs, labels)\n",
        "            losses.append(loss.item())\n",
        "\n",
        "    loss = sum(losses) / len(losses)\n",
        "\n",
        "    return loss"
      ]
    },
    {
      "cell_type": "code",
      "execution_count": 17,
      "id": "81145eec",
      "metadata": {
        "id": "81145eec"
      },
      "outputs": [],
      "source": [
        "def fit(\n",
        "    model,\n",
        "    train_loader,\n",
        "    val_loader,\n",
        "    criterion,\n",
        "    optimizer,\n",
        "    device,\n",
        "    epochs\n",
        "):\n",
        "    train_losses = []\n",
        "    val_losses = []\n",
        "\n",
        "    for epoch in range(epochs):\n",
        "        batch_train_losses = []\n",
        "\n",
        "        model.train()\n",
        "        for idx, (inputs, labels) in enumerate(train_loader):\n",
        "            inputs, labels = inputs.to(device), labels.to(device)\n",
        "\n",
        "            optimizer.zero_grad()\n",
        "            outputs = model(inputs)\n",
        "            loss = criterion(outputs, labels)\n",
        "            loss.backward()\n",
        "            optimizer.step()\n",
        "\n",
        "            batch_train_losses.append(loss.item())\n",
        "\n",
        "        train_loss = sum(batch_train_losses) / len(batch_train_losses)\n",
        "        train_losses.append(train_loss)\n",
        "\n",
        "        val_loss = evaluate(\n",
        "            model, val_loader,\n",
        "            criterion, device\n",
        "        )\n",
        "        val_losses.append(val_loss)\n",
        "\n",
        "        print(f'EPOCH {epoch + 1}:\\tTrain loss: {train_loss:.4f}\\tVal loss: {val_loss:.4f}')\n",
        "\n",
        "    return train_losses, val_losses"
      ]
    },
    {
      "cell_type": "code",
      "execution_count": 18,
      "id": "a80115e1",
      "metadata": {
        "id": "a80115e1"
      },
      "outputs": [],
      "source": [
        "lr = 1e-3\n",
        "epochs = 50\n",
        "\n",
        "criterion = nn.MSELoss()\n",
        "optimizer = torch.optim.Adam(\n",
        "    model.parameters(),\n",
        "    lr=lr\n",
        ")"
      ]
    },
    {
      "cell_type": "code",
      "execution_count": 19,
      "id": "3558ed3f",
      "metadata": {
        "colab": {
          "base_uri": "https://localhost:8080/"
        },
        "id": "3558ed3f",
        "outputId": "78d66ddf-4e5b-40e7-a0a5-285b74e2148f",
        "scrolled": true
      },
      "outputs": [
        {
          "name": "stdout",
          "output_type": "stream",
          "text": [
            "EPOCH 1:\tTrain loss: 94.2250\tVal loss: 14.7659\n",
            "EPOCH 2:\tTrain loss: 12.9295\tVal loss: 3.1772\n",
            "EPOCH 3:\tTrain loss: 7.2709\tVal loss: 1.9607\n",
            "EPOCH 4:\tTrain loss: 6.4123\tVal loss: 1.6551\n",
            "EPOCH 5:\tTrain loss: 6.0912\tVal loss: 1.7010\n",
            "EPOCH 6:\tTrain loss: 5.9926\tVal loss: 1.7791\n",
            "EPOCH 7:\tTrain loss: 5.8509\tVal loss: 1.5406\n",
            "EPOCH 8:\tTrain loss: 5.8047\tVal loss: 1.5335\n",
            "EPOCH 9:\tTrain loss: 5.7127\tVal loss: 1.5268\n",
            "EPOCH 10:\tTrain loss: 5.6606\tVal loss: 1.5584\n",
            "EPOCH 11:\tTrain loss: 5.5821\tVal loss: 1.6399\n",
            "EPOCH 12:\tTrain loss: 5.4951\tVal loss: 1.5777\n",
            "EPOCH 13:\tTrain loss: 5.4052\tVal loss: 1.6152\n",
            "EPOCH 14:\tTrain loss: 5.3029\tVal loss: 1.5292\n",
            "EPOCH 15:\tTrain loss: 5.2040\tVal loss: 1.6688\n",
            "EPOCH 16:\tTrain loss: 5.1368\tVal loss: 1.4729\n",
            "EPOCH 17:\tTrain loss: 5.1003\tVal loss: 1.4486\n",
            "EPOCH 18:\tTrain loss: 5.0277\tVal loss: 1.4625\n",
            "EPOCH 19:\tTrain loss: 4.9373\tVal loss: 1.4453\n",
            "EPOCH 20:\tTrain loss: 4.9321\tVal loss: 1.5652\n",
            "EPOCH 21:\tTrain loss: 4.8144\tVal loss: 1.5291\n",
            "EPOCH 22:\tTrain loss: 4.7716\tVal loss: 1.5559\n",
            "EPOCH 23:\tTrain loss: 4.7720\tVal loss: 1.4672\n",
            "EPOCH 24:\tTrain loss: 4.6544\tVal loss: 1.4882\n",
            "EPOCH 25:\tTrain loss: 4.5917\tVal loss: 1.5674\n",
            "EPOCH 26:\tTrain loss: 4.6099\tVal loss: 1.4396\n",
            "EPOCH 27:\tTrain loss: 4.5370\tVal loss: 1.4850\n",
            "EPOCH 28:\tTrain loss: 4.5213\tVal loss: 1.4908\n",
            "EPOCH 29:\tTrain loss: 4.4216\tVal loss: 1.4604\n",
            "EPOCH 30:\tTrain loss: 4.4127\tVal loss: 1.4819\n",
            "EPOCH 31:\tTrain loss: 4.3109\tVal loss: 1.5774\n",
            "EPOCH 32:\tTrain loss: 4.3414\tVal loss: 1.5644\n",
            "EPOCH 33:\tTrain loss: 4.2386\tVal loss: 1.4340\n",
            "EPOCH 34:\tTrain loss: 4.2340\tVal loss: 1.4195\n",
            "EPOCH 35:\tTrain loss: 4.1515\tVal loss: 1.4314\n",
            "EPOCH 36:\tTrain loss: 4.1732\tVal loss: 1.4803\n",
            "EPOCH 37:\tTrain loss: 4.1020\tVal loss: 1.4262\n",
            "EPOCH 38:\tTrain loss: 4.1178\tVal loss: 1.5194\n",
            "EPOCH 39:\tTrain loss: 4.0319\tVal loss: 1.4680\n",
            "EPOCH 40:\tTrain loss: 4.0890\tVal loss: 1.4886\n",
            "EPOCH 41:\tTrain loss: 4.0385\tVal loss: 1.5358\n",
            "EPOCH 42:\tTrain loss: 3.9576\tVal loss: 1.4323\n",
            "EPOCH 43:\tTrain loss: 3.9741\tVal loss: 1.4402\n",
            "EPOCH 44:\tTrain loss: 3.9251\tVal loss: 1.4683\n",
            "EPOCH 45:\tTrain loss: 3.9409\tVal loss: 1.6177\n",
            "EPOCH 46:\tTrain loss: 3.9108\tVal loss: 1.6068\n",
            "EPOCH 47:\tTrain loss: 3.9476\tVal loss: 1.4670\n",
            "EPOCH 48:\tTrain loss: 3.8829\tVal loss: 1.4488\n",
            "EPOCH 49:\tTrain loss: 3.8885\tVal loss: 1.4417\n",
            "EPOCH 50:\tTrain loss: 3.8140\tVal loss: 1.4816\n"
          ]
        }
      ],
      "source": [
        "train_losses, val_losses = fit(\n",
        "    model,\n",
        "    train_loader,\n",
        "    val_loader,\n",
        "    criterion,\n",
        "    optimizer,\n",
        "    device,\n",
        "    epochs\n",
        ")"
      ]
    },
    {
      "cell_type": "code",
      "execution_count": 20,
      "id": "866ac448",
      "metadata": {
        "colab": {
          "base_uri": "https://localhost:8080/",
          "height": 487
        },
        "id": "866ac448",
        "outputId": "a822b800-7766-43fa-e8f2-818bf154f45c",
        "scrolled": true
      },
      "outputs": [
        {
          "data": {
            "image/png": "[encoded data removed]",
            "text/plain": [
              "<Figure size 1200x500 with 2 Axes>"
            ]
          },
          "metadata": {},
          "output_type": "display_data"
        }
      ],
      "source": [
        "fig, ax = plt.subplots(1, 2, figsize=(12, 5))\n",
        "ax[0].plot(train_losses)\n",
        "ax[0].set_title('Training Loss')\n",
        "ax[0].set_xlabel('Epoch')\n",
        "ax[0].set_ylabel('Loss')\n",
        "ax[1].plot(val_losses, color='orange')\n",
        "ax[1].set_title('Val Loss')\n",
        "ax[1].set_xlabel('Epoch')\n",
        "ax[1].set_ylabel('Loss')\n",
        "plt.show()"
      ]
    },
    {
      "cell_type": "markdown",
      "id": "5cbf04f6",
      "metadata": {
        "id": "5cbf04f6"
      },
      "source": [
        "## 9. Evaluation"
      ]
    },
    {
      "cell_type": "code",
      "execution_count": 21,
      "id": "e0a2d0fe",
      "metadata": {
        "colab": {
          "base_uri": "https://localhost:8080/"
        },
        "id": "e0a2d0fe",
        "outputId": "a706118d-2df8-400d-ad73-faa11fe4e704"
      },
      "outputs": [
        {
          "name": "stdout",
          "output_type": "stream",
          "text": [
            "Evaluation on val/test dataset\n",
            "Val loss:  1.4815546623940825\n",
            "Test loss:  1.248672906918397\n"
          ]
        }
      ],
      "source": [
        "val_loss = evaluate(\n",
        "    model,\n",
        "    val_loader,\n",
        "    criterion,\n",
        "    device\n",
        ")\n",
        "test_loss = evaluate(\n",
        "    model,\n",
        "    test_loader,\n",
        "    criterion,\n",
        "    device\n",
        ")\n",
        "\n",
        "print('Evaluation on val/test dataset')\n",
        "print('Val loss: ', val_loss)\n",
        "print('Test loss: ', test_loss)"
      ]
    },
    {
      "cell_type": "code",
      "execution_count": 22,
      "id": "6fb1b51a",
      "metadata": {
        "colab": {
          "base_uri": "https://localhost:8080/",
          "height": 405
        },
        "id": "6fb1b51a",
        "outputId": "87b7de93-f012-4585-d79f-e1fad9d76ec3"
      },
      "outputs": [
        {
          "data": {
            "image/png": "[encoded data removed]",
            "text/plain": [
              "<Figure size 2000x600 with 1 Axes>"
            ]
          },
          "metadata": {},
          "output_type": "display_data"
        }
      ],
      "source": [
        "def plot_difference(y, pred):\n",
        "    plt.figure(figsize=(20, 6))\n",
        "    times = range(len(y))\n",
        "    y_to_plot = y.flatten()\n",
        "    pred_to_plot = pred.flatten()\n",
        "\n",
        "    plt.plot(times, y_to_plot, color='steelblue', marker='o', label='True value')\n",
        "    plt.plot(times, pred_to_plot, color='orangered', marker='X', label='Prediction')\n",
        "\n",
        "    plt.title('Temperature in every hours')\n",
        "    plt.xlabel('Hour')\n",
        "    plt.ylabel('Temperature (C)')\n",
        "    plt.legend()\n",
        "    plt.show()\n",
        "\n",
        "inputs = torch.tensor(X_test[:100], dtype=torch.float32).to(device)\n",
        "model.eval()\n",
        "with torch.no_grad():\n",
        "    outputs = model(inputs).detach().cpu().numpy()\n",
        "plot_difference(y_test[:100], outputs)"
      ]
    },
    {
      "cell_type": "code",
      "execution_count": null,
      "id": "443f346d",
      "metadata": {},
      "outputs": [],
      "source": []
    }
  ],
  "metadata": {
    "colab": {
      "provenance": []
    },
    "kernelspec": {
      "display_name": "aio2024-hw",
      "language": "python",
      "name": "python3"
    },
    "language_info": {
      "codemirror_mode": {
        "name": "ipython",
        "version": 3
      },
      "file_extension": ".py",
      "mimetype": "text/x-python",
      "name": "python",
      "nbconvert_exporter": "python",
      "pygments_lexer": "ipython3",
      "version": "3.12.9"
    }
  },
  "nbformat": 4,
  "nbformat_minor": 5
}
