{
 "cells": [
  {
   "cell_type": "markdown",
   "metadata": {},
   "source": [
    "# 0. Download Dataset"
   ]
  },
  {
   "cell_type": "code",
   "execution_count": 1,
   "metadata": {},
   "outputs": [],
   "source": [
    "import sys\n",
    "sys.path.append('../..')\n",
    "from utils.gdrive_downloader import GDriveDownloader\n",
    "from utils.memory_tracker import MemoryTracker, safe_to_device\n",
    "\n",
    "root_dir = './data/scenes_cls'"
   ]
  },
  {
   "cell_type": "code",
   "execution_count": 2,
   "metadata": {},
   "outputs": [
    {
     "name": "stderr",
     "output_type": "stream",
     "text": [
      "2024-12-17 01:05:35 - INFO - Downloading file to cache/temp_1734372335.zip\n",
      "Downloading...\n",
      "From (original): https://drive.google.com/uc?id=1ZUCuYDOe4VVbZvNVZovpquaRQqqJQ639\n",
      "From (redirected): https://drive.google.com/uc?id=1ZUCuYDOe4VVbZvNVZovpquaRQqqJQ639&confirm=t&uuid=c08d510e-52ee-4780-8ec6-c35ae5c86976\n",
      "To: /home/jiggle/personal/aio2024/hw/aio-2024-hw/module-6/14_12_2024_M06W02/cache/temp_1734372335.zip\n",
      "100%|██████████| 255M/255M [00:03<00:00, 83.2MB/s] \n",
      "2024-12-17 01:06:37 - INFO - Extracting to data/scenes_cls\n",
      "Extracting: 100%|██████████| 258M/258M [00:08<00:00, 29.1MB/s] \n",
      "2024-12-17 01:06:46 - INFO - Removed archive file: cache/temp_1734372335.zip\n"
     ]
    },
    {
     "name": "stdout",
     "output_type": "stream",
     "text": [
      "Success: Download and extraction completed successfully\n"
     ]
    }
   ],
   "source": [
    "gdrive_downloader = GDriveDownloader(cache_dir='./cache')\n",
    "success, message = gdrive_downloader.download_and_extract(\n",
    "    gdrive_url='https://drive.google.com/file/d/1ZUCuYDOe4VVbZvNVZovpquaRQqqJQ639/view?usp=drive_link',\n",
    "    extract_dir=root_dir,\n",
    "    keep_zip=False\n",
    ")\n",
    "if success:\n",
    "    print(f'Success: {message}')\n",
    "else:\n",
    "    print(f'Error: {message}')"
   ]
  },
  {
   "cell_type": "code",
   "execution_count": 3,
   "metadata": {},
   "outputs": [
    {
     "name": "stderr",
     "output_type": "stream",
     "text": [
      "2024-12-17 01:06:47 - INFO - NumExpr defaulting to 12 threads.\n"
     ]
    }
   ],
   "source": [
    "import torch\n",
    "import torch.nn as nn\n",
    "import os\n",
    "import random\n",
    "import numpy as np\n",
    "import pandas as pd\n",
    "import matplotlib.pyplot as plt\n",
    "\n",
    "from PIL import Image\n",
    "from torch.utils.data import Dataset, DataLoader\n",
    "from sklearn.model_selection import train_test_split"
   ]
  },
  {
   "cell_type": "code",
   "execution_count": 4,
   "metadata": {},
   "outputs": [],
   "source": [
    "def set_seed(seed):\n",
    "    random.seed(seed)\n",
    "    np.random.seed(seed)\n",
    "    torch.manual_seed(seed)\n",
    "    torch.cuda.manual_seed(seed)\n",
    "    torch.cuda.manual_seed_all(seed)\n",
    "    torch.backends.cudnn.deterministic = True\n",
    "    torch.backends.cudnn.benchmark = False\n",
    "\n",
    "seed = 59\n",
    "set_seed(seed)"
   ]
  },
  {
   "cell_type": "code",
   "execution_count": 5,
   "metadata": {},
   "outputs": [],
   "source": [
    "import torch.backends.cudnn as cudnn\n",
    "cudnn.benchmark = False\n",
    "cudnn.deterministic = True\n",
    "cudnn.enabled = False"
   ]
  },
  {
   "cell_type": "markdown",
   "metadata": {},
   "source": [
    "# 1. Load data"
   ]
  },
  {
   "cell_type": "code",
   "execution_count": 6,
   "metadata": {},
   "outputs": [
    {
     "data": {
      "text/plain": [
       "{0: 'buildings',\n",
       " 1: 'forest',\n",
       " 2: 'glacier',\n",
       " 3: 'mountain',\n",
       " 4: 'sea',\n",
       " 5: 'street'}"
      ]
     },
     "execution_count": 6,
     "metadata": {},
     "output_type": "execute_result"
    }
   ],
   "source": [
    "data_dir = os.path.join(root_dir, 'scenes_classification')\n",
    "train_dir = os.path.join(data_dir, 'train')\n",
    "test_dir = os.path.join(data_dir, 'val')\n",
    "\n",
    "classes = {\n",
    "    label_idx: class_name \\\n",
    "    for label_idx, class_name in enumerate(\n",
    "        sorted(os.listdir(train_dir))\n",
    "    )\n",
    "}\n",
    "classes"
   ]
  },
  {
   "cell_type": "code",
   "execution_count": 7,
   "metadata": {},
   "outputs": [],
   "source": [
    "X_train, y_train = [], []\n",
    "X_test, y_test = [], []\n",
    "\n",
    "for dataset_path in [train_dir, test_dir]:\n",
    "    for label_idx, class_name in classes.items():\n",
    "        class_dir = os.path.join(dataset_path, class_name)\n",
    "        for img_filename in os.listdir(class_dir):\n",
    "            img_path = os.path.join(class_dir, img_filename)\n",
    "\n",
    "            if 'train' in dataset_path:\n",
    "                X_train.append(img_path)\n",
    "                y_train.append(label_idx)\n",
    "            else:\n",
    "                X_test.append(img_path)\n",
    "                y_test.append(label_idx)\n"
   ]
  },
  {
   "cell_type": "code",
   "execution_count": 8,
   "metadata": {},
   "outputs": [],
   "source": [
    "val_size = 0.2\n",
    "is_shuffle = True\n",
    "\n",
    "X_train, X_val, y_train, y_val = train_test_split(\n",
    "    X_train, y_train,\n",
    "    test_size=val_size,\n",
    "    random_state=seed,\n",
    "    shuffle=is_shuffle\n",
    ")"
   ]
  },
  {
   "cell_type": "markdown",
   "metadata": {},
   "source": [
    "# 2. Preprocessing"
   ]
  },
  {
   "cell_type": "code",
   "execution_count": 9,
   "metadata": {},
   "outputs": [],
   "source": [
    "class ScenesDataset(Dataset):\n",
    "    def __init__(\n",
    "        self,\n",
    "        X, y,\n",
    "        transform=None\n",
    "    ):\n",
    "        self.transform = transform\n",
    "        self.img_paths = X\n",
    "        self.labels = y\n",
    "    \n",
    "    def __len__(self):\n",
    "        return len(self.img_paths)\n",
    "    \n",
    "    def __getitem__(self, idx):\n",
    "        img_path = self.img_paths[idx]\n",
    "        img = Image.open(img_path).convert('RGB')\n",
    "\n",
    "        if self.transform:\n",
    "            img = self.transform(img)\n",
    "        \n",
    "        return img, self.labels[idx]"
   ]
  },
  {
   "cell_type": "code",
   "execution_count": 10,
   "metadata": {},
   "outputs": [],
   "source": [
    "def transform(img, img_size=(224, 224)):\n",
    "    img = img.resize(img_size)\n",
    "    img = np.array(img)[..., :3]\n",
    "    img = torch.tensor(img).permute(2, 0, 1).float()\n",
    "    normalized_img = img / 255.0\n",
    "\n",
    "    return normalized_img"
   ]
  },
  {
   "cell_type": "code",
   "execution_count": 11,
   "metadata": {},
   "outputs": [],
   "source": [
    "# Define datasets object\n",
    "\n",
    "train_dataset = ScenesDataset(\n",
    "    X_train, y_train,\n",
    "    transform=transform\n",
    ")\n",
    "val_dataset = ScenesDataset(\n",
    "    X_val, y_val,\n",
    "    transform=transform\n",
    ")\n",
    "test_dataset = ScenesDataset(\n",
    "    X_test, y_test,\n",
    "    transform=transform\n",
    ")"
   ]
  },
  {
   "cell_type": "code",
   "execution_count": 12,
   "metadata": {},
   "outputs": [],
   "source": [
    "# Define dataloader\n",
    "train_batch_size = 16\n",
    "test_batch_size = 8\n",
    "\n",
    "train_loader = DataLoader(\n",
    "    train_dataset,\n",
    "    batch_size=train_batch_size,\n",
    "    shuffle=True\n",
    ")\n",
    "val_loader = DataLoader(\n",
    "    val_dataset,\n",
    "    batch_size=test_batch_size,\n",
    "    shuffle=False\n",
    ")\n",
    "test_loader = DataLoader(\n",
    "    test_dataset,\n",
    "    batch_size=test_batch_size,\n",
    "    shuffle=False\n",
    ")"
   ]
  },
  {
   "cell_type": "markdown",
   "metadata": {},
   "source": [
    "# 3. Build Models"
   ]
  },
  {
   "cell_type": "markdown",
   "metadata": {},
   "source": [
    "![Densenet layout structure](public/images/densenet_structure_details.png)"
   ]
  },
  {
   "cell_type": "markdown",
   "metadata": {},
   "source": [
    "![Densenet Layer](public/images//densenet_layer.png)"
   ]
  },
  {
   "cell_type": "code",
   "execution_count": 13,
   "metadata": {},
   "outputs": [],
   "source": [
    "class BottleneckBlock(nn.Module):\n",
    "    def __init__(self, in_channels, growth_rate):\n",
    "        super(BottleneckBlock, self).__init__()\n",
    "        self.bn1 = nn.BatchNorm2d(in_channels)\n",
    "        self.conv1 = nn.Conv2d(in_channels, 4 * growth_rate, kernel_size=1, bias=False)\n",
    "        self.bn2 = nn.BatchNorm2d(4 * growth_rate)\n",
    "        self.conv2 = nn.Conv2d(4 * growth_rate, growth_rate, kernel_size=3, padding=1, bias=False)\n",
    "        self.relu = nn.ReLU()\n",
    "\n",
    "    def forward(self, x):\n",
    "        res = x.clone().detach()\n",
    "        x = self.bn1(x)\n",
    "        x = self.relu(x)\n",
    "        x = self.conv1(x)\n",
    "        x = self.bn2(x)\n",
    "        x = self.relu(x)\n",
    "        x = self.conv2(x)\n",
    "        x = torch.cat([res, x], 1)\n",
    "\n",
    "        return x"
   ]
  },
  {
   "cell_type": "code",
   "execution_count": 14,
   "metadata": {},
   "outputs": [],
   "source": [
    "class DenseBlock(nn.Module):\n",
    "    def __init__(self, num_layers, in_channels, growth_rate):\n",
    "        super(DenseBlock, self).__init__()\n",
    "        layers = []\n",
    "\n",
    "        for i in range(num_layers):\n",
    "            layers.append(BottleneckBlock(in_channels + i * growth_rate, growth_rate))\n",
    "        \n",
    "        self.block = nn.Sequential(*layers)\n",
    "\n",
    "    def forward(self, x):\n",
    "        return self.block(x)"
   ]
  },
  {
   "cell_type": "code",
   "execution_count": 15,
   "metadata": {},
   "outputs": [],
   "source": [
    "class DenseNet(nn.Module):\n",
    "    def __init__(self, num_blocks, growth_rate, num_classes):\n",
    "        super(DenseNet, self).__init__()\n",
    "        self.conv1 = nn.Conv2d(3, 2 * growth_rate, kernel_size=7, padding=3, stride=2, bias=False)\n",
    "        self.bn1 = nn.BatchNorm2d(2 * growth_rate)\n",
    "        self.pool1 = nn.MaxPool2d(kernel_size=3, stride=2, padding=1)\n",
    "\n",
    "        self.dense_blocks = nn.ModuleList()\n",
    "        in_channels = 2 * growth_rate\n",
    "        for i, num_layers in enumerate(num_blocks):\n",
    "            self.dense_blocks.append(DenseBlock(num_layers, in_channels, growth_rate))\n",
    "            in_channels += num_layers * growth_rate\n",
    "\n",
    "            if i != len(num_blocks) - 1:\n",
    "                out_channels = in_channels // 2\n",
    "                self.dense_blocks.append(nn.Sequential(\n",
    "                    nn.BatchNorm2d(in_channels),\n",
    "                    nn.Conv2d(in_channels, out_channels, kernel_size=1, bias=False),\n",
    "                    nn.AvgPool2d(kernel_size=2, stride=2)\n",
    "                ))\n",
    "                in_channels = out_channels\n",
    "        self.bn2 = nn.BatchNorm2d(in_channels)\n",
    "        self.pool2 = nn.AvgPool2d(kernel_size=7)\n",
    "        self.relu = nn.ReLU()\n",
    "        self.fc = nn.Linear(in_channels, num_classes)\n",
    "    \n",
    "    def forward(self, x):\n",
    "        x = self.conv1(x)\n",
    "        x = self.bn1(x)\n",
    "        x = self.relu(x)\n",
    "        x = self.pool1(x)\n",
    "\n",
    "        for block in self.dense_blocks:\n",
    "            x = block(x)\n",
    "        \n",
    "        x = self.bn2(x)\n",
    "        x = self.relu(x)\n",
    "        x = self.pool2(x)\n",
    "        x = x.view(x.size(0), -1)\n",
    "        x = self.fc(x)\n",
    "\n",
    "        return x"
   ]
  },
  {
   "cell_type": "code",
   "execution_count": 16,
   "metadata": {},
   "outputs": [],
   "source": [
    "n_classes = len(list(classes.keys()))\n",
    "device = 'cuda' if torch.cuda.is_available() else 'cpu'\n",
    "\n",
    "model = DenseNet(\n",
    "    [6, 12, 24, 16],\n",
    "    growth_rate=32,\n",
    "    num_classes=n_classes\n",
    ").to(device)"
   ]
  },
  {
   "cell_type": "markdown",
   "metadata": {},
   "source": [
    "# 4. Evaludate and Train Model"
   ]
  },
  {
   "cell_type": "code",
   "execution_count": 17,
   "metadata": {},
   "outputs": [
    {
     "name": "stderr",
     "output_type": "stream",
     "text": [
      "/home/jiggle/miniconda3/envs/aio2024-hw/lib/python3.12/site-packages/tqdm/auto.py:21: TqdmWarning: IProgress not found. Please update jupyter and ipywidgets. See https://ipywidgets.readthedocs.io/en/stable/user_install.html\n",
      "  from .autonotebook import tqdm as notebook_tqdm\n"
     ]
    }
   ],
   "source": [
    "import torch\n",
    "from tqdm.auto import tqdm\n",
    "from typing import Dict, List, Tuple\n",
    "import time\n",
    "\n",
    "save_model = './model'\n",
    "if not os.path.exists(save_model):\n",
    "    os.makedirs(save_model)\n"
   ]
  },
  {
   "cell_type": "code",
   "execution_count": 18,
   "metadata": {},
   "outputs": [],
   "source": [
    "def evaluate(\n",
    "    model: torch.nn.Module,\n",
    "    criterion: torch.nn.Module,\n",
    "    dataloader: torch.utils.data.DataLoader,\n",
    "    device: torch.device,\n",
    "    desc: str = \"Validating\",\n",
    "    position: int = 1,\n",
    "    is_leaving=False\n",
    ") -> Tuple[float, float]:\n",
    "    model.eval()\n",
    "    total_acc = total_loss = total_count = 0\n",
    "\n",
    "    try:\n",
    "        with torch.no_grad(), tqdm(\n",
    "            dataloader,\n",
    "            desc=desc,\n",
    "            unit=\"sample\",\n",
    "            unit_scale=dataloader.batch_size,\n",
    "            position=position,\n",
    "            leave=is_leaving,\n",
    "        ) as pbar:\n",
    "            for batch_idx, (inputs, labels) in enumerate(pbar):\n",
    "                MemoryTracker.clear_memory(model)\n",
    "\n",
    "                try:\n",
    "                    inputs = safe_to_device(inputs, device)\n",
    "                    labels = safe_to_device(labels, device)\n",
    "\n",
    "                    outputs = model(inputs)\n",
    "                    loss = criterion(outputs, labels)\n",
    "\n",
    "                    total_loss += float(loss.detach().item() * labels.size(0))  # Weighted by batch size\n",
    "                    _, predicted = torch.max(outputs.data, 1)\n",
    "                    total_count += labels.size(0)\n",
    "                    total_acc += (predicted == labels).sum().item()\n",
    "\n",
    "                    del outputs, loss, predicted\n",
    "                except RuntimeError as e:\n",
    "                    print(f\"\\nError in validation batch {batch_idx}: {str(e)}\")\n",
    "                    MemoryTracker.clear_memory(model)\n",
    "                    continue\n",
    "\n",
    "                allocated, reserved = MemoryTracker.get_memory_stats()\n",
    "                pbar.set_postfix({\n",
    "                    'loss': f'{total_loss/max(1, total_count):.4f}',\n",
    "                    'acc': f'{100.*total_acc/max(1, total_count):.2f}%',\n",
    "                    'GPU': f'{allocated:.0f}MB',\n",
    "                })\n",
    "\n",
    "    except Exception as e:\n",
    "        print(f\"\\nEvaluation error: {str(e)}\")\n",
    "        MemoryTracker.clear_memory(model)\n",
    "        raise\n",
    "\n",
    "    \n",
    "    epoch_loss = total_loss / max(1, total_count)\n",
    "    epoch_acc = total_acc / max(1, total_count)\n",
    "    \n",
    "    return epoch_acc, epoch_loss"
   ]
  },
  {
   "cell_type": "code",
   "execution_count": 19,
   "metadata": {},
   "outputs": [],
   "source": [
    "def train(\n",
    "    model: torch.nn.Module,\n",
    "    optimizer: torch.optim.Optimizer,\n",
    "    criterion: torch.nn.Module,\n",
    "    dataloader: torch.utils.data.DataLoader,\n",
    "    device: torch.device,\n",
    "    desc: str = \"Training\",\n",
    "    position: int = 1,\n",
    ") -> Tuple[float, float]:\n",
    "    model.train()\n",
    "    total_loss = total_acc = total_count = 0\n",
    "\n",
    "    try:\n",
    "        with tqdm(\n",
    "            dataloader, \n",
    "            desc=desc,\n",
    "            unit=\"batch\",\n",
    "            total=len(dataloader),\n",
    "            position=position, \n",
    "            leave=True,\n",
    "        ) as pbar:\n",
    "            for batch_idx, (inputs, labels) in enumerate(pbar):\n",
    "                MemoryTracker.clear_memory(model)\n",
    "                \n",
    "                try:\n",
    "                    inputs = safe_to_device(inputs, device)\n",
    "                    labels = safe_to_device(labels, device)\n",
    "\n",
    "                    predictions = model(inputs)\n",
    "                    loss = criterion(predictions, labels)\n",
    "                    loss.backward()\n",
    "                    optimizer.step()\n",
    "\n",
    "                    total_loss += float(loss.item() * labels.size(0))\n",
    "                    total_acc += (predictions.argmax(1) == labels).sum().item()\n",
    "                    total_count += labels.size(0)\n",
    "\n",
    "                    del predictions, loss\n",
    "\n",
    "                except RuntimeError as e:\n",
    "                    print(f\"\\nError in training batch {batch_idx}: {str(e)}\")\n",
    "                    MemoryTracker.clear_memory(model)\n",
    "                    optimizer.zero_grad()\n",
    "                    continue\n",
    "\n",
    "                allocated, reserved = MemoryTracker.get_memory_stats()\n",
    "                pbar.set_postfix({\n",
    "                    'loss': f'{total_loss/max(1, total_count):.4f}',\n",
    "                    'acc': f'{100.*total_acc/max(1, total_count):.2f}%',\n",
    "                    'GPU': f'{allocated:.0f}MB'\n",
    "                })\n",
    "\n",
    "    except Exception as e:\n",
    "        print(f\"\\nTraining error: {str(e)}\")\n",
    "        MemoryTracker.clear_memory(model)\n",
    "        raise\n",
    "\n",
    "    epoch_loss = total_loss / max(1, total_count)\n",
    "    epoch_acc = total_acc / max(1, total_count)\n",
    "    \n",
    "    return epoch_acc, epoch_loss"
   ]
  },
  {
   "cell_type": "code",
   "execution_count": 20,
   "metadata": {},
   "outputs": [],
   "source": [
    "def fit(\n",
    "    model: torch.nn.Module,\n",
    "    criterion: torch.nn.Module,\n",
    "    optimizer: torch.optim.Optimizer,\n",
    "    train_loader: torch.utils.data.DataLoader,\n",
    "    val_loader: torch.utils.data.DataLoader,\n",
    "    device: torch.device,\n",
    "    epochs: int,\n",
    "    early_stopping_patience: int = None,\n",
    "    scheduler = None,\n",
    ") -> Dict[str, List[float]]:\n",
    "    history = {\n",
    "        'train_acc': [], 'train_loss': [],\n",
    "        'val_acc': [], 'val_loss': [],\n",
    "        'epoch_times': [], 'GPU': []\n",
    "    }\n",
    "    best_val_loss = float('inf')\n",
    "    patience_counter = 0\n",
    "\n",
    "    try:\n",
    "        with tqdm(range(epochs), desc=\"Epochs\", position=0, leave=True) as epoch_pbar:\n",
    "            for epoch in epoch_pbar:\n",
    "                MemoryTracker.clear_memory(model)\n",
    "                \n",
    "                try:\n",
    "                    epoch_start = time.time()\n",
    "\n",
    "                    train_acc, train_loss = train(\n",
    "                        model, optimizer, criterion, train_loader, device,\n",
    "                        desc=f\"Epoch {epoch+1}/{epochs} [Train]\",\n",
    "                        position=0,\n",
    "                    )\n",
    "\n",
    "                    val_acc, val_loss = evaluate(\n",
    "                        model, criterion, val_loader, device,\n",
    "                        desc=f\"Epoch {epoch+1}/{epochs} [Val]\",\n",
    "                        position=0,\n",
    "                        is_leaving=True,\n",
    "                    )\n",
    "\n",
    "                    if scheduler is not None:\n",
    "                        scheduler.step()\n",
    "\n",
    "                    epoch_time = time.time() - epoch_start\n",
    "                    allocated, _ = MemoryTracker.get_memory_stats()\n",
    "\n",
    "                    history['train_acc'].append(train_acc)\n",
    "                    history['train_loss'].append(train_loss)\n",
    "                    history['val_acc'].append(val_acc)\n",
    "                    history['val_loss'].append(val_loss)\n",
    "                    history['epoch_times'].append(epoch_time)\n",
    "                    history['GPU'].append(allocated)\n",
    "\n",
    "                    if early_stopping_patience is not None:\n",
    "                        if val_loss < best_val_loss:\n",
    "                            best_val_loss = val_loss\n",
    "                            patience_counter = 0\n",
    "                            torch.save(model.state_dict(), save_model + '/resnet_weather_cls.pt')\n",
    "                        else:\n",
    "                            patience_counter += 1\n",
    "                            if patience_counter >= early_stopping_patience:\n",
    "                                print(f'\\nEarly stopping triggered after {epoch + 1} epochs')\n",
    "                                break\n",
    "\n",
    "                except Exception as e:\n",
    "                    print(f\"\\nError in epoch {epoch + 1}: {str(e)}\")\n",
    "                    MemoryTracker.clear_memory(model)\n",
    "                    continue\n",
    "    \n",
    "    except Exception as e:\n",
    "        print(f\"\\nTraining loop error: {str(e)}\")\n",
    "        MemoryTracker.clear_memory(model)\n",
    "\n",
    "    return history"
   ]
  },
  {
   "cell_type": "code",
   "execution_count": 21,
   "metadata": {},
   "outputs": [
    {
     "name": "stderr",
     "output_type": "stream",
     "text": [
      "Epoch 1/5 [Train]: 100%|██████████| 702/702 [22:56<00:00,  1.96s/batch, loss=1.4108, acc=47.52%, GPU=77MB]\n",
      "Epoch 1/5 [Val]: 100%|██████████| 2808/2808 [03:47<00:00, 12.37sample/s, loss=1.2681, acc=58.64%, GPU=74MB]\n",
      "Epoch 2/5 [Train]: 100%|██████████| 702/702 [22:32<00:00,  1.93s/batch, loss=1.2861, acc=58.56%, GPU=77MB]\n",
      "Epoch 2/5 [Val]: 100%|██████████| 2808/2808 [03:33<00:00, 13.18sample/s, loss=1.2547, acc=62.66%, GPU=74MB]\n",
      "Epoch 3/5 [Train]:  40%|███▉      | 279/702 [07:11<10:54,  1.55s/batch, loss=1.3423, acc=58.13%, GPU=80MB]\n",
      "Epochs:  40%|████      | 2/5 [1:00:01<1:30:02, 1800.76s/it]\n"
     ]
    },
    {
     "ename": "KeyboardInterrupt",
     "evalue": "",
     "output_type": "error",
     "traceback": [
      "\u001b[0;31m---------------------------------------------------------------------------\u001b[0m",
      "\u001b[0;31mKeyboardInterrupt\u001b[0m                         Traceback (most recent call last)",
      "Cell \u001b[0;32mIn[21], line 9\u001b[0m\n\u001b[1;32m      4\u001b[0m criterion \u001b[38;5;241m=\u001b[39m nn\u001b[38;5;241m.\u001b[39mCrossEntropyLoss()\n\u001b[1;32m      5\u001b[0m optimizer \u001b[38;5;241m=\u001b[39m torch\u001b[38;5;241m.\u001b[39moptim\u001b[38;5;241m.\u001b[39mSGD(\n\u001b[1;32m      6\u001b[0m     model\u001b[38;5;241m.\u001b[39mparameters(),\n\u001b[1;32m      7\u001b[0m     lr\u001b[38;5;241m=\u001b[39mlr\n\u001b[1;32m      8\u001b[0m )\n\u001b[0;32m----> 9\u001b[0m history \u001b[38;5;241m=\u001b[39m \u001b[43mfit\u001b[49m\u001b[43m(\u001b[49m\n\u001b[1;32m     10\u001b[0m \u001b[43m    \u001b[49m\u001b[43mmodel\u001b[49m\u001b[43m,\u001b[49m\n\u001b[1;32m     11\u001b[0m \u001b[43m    \u001b[49m\u001b[43mcriterion\u001b[49m\u001b[43m,\u001b[49m\n\u001b[1;32m     12\u001b[0m \u001b[43m    \u001b[49m\u001b[43moptimizer\u001b[49m\u001b[43m,\u001b[49m\n\u001b[1;32m     13\u001b[0m \u001b[43m    \u001b[49m\u001b[43mtrain_loader\u001b[49m\u001b[43m,\u001b[49m\n\u001b[1;32m     14\u001b[0m \u001b[43m    \u001b[49m\u001b[43mval_loader\u001b[49m\u001b[43m,\u001b[49m\n\u001b[1;32m     15\u001b[0m \u001b[43m    \u001b[49m\u001b[43mdevice\u001b[49m\u001b[43m,\u001b[49m\n\u001b[1;32m     16\u001b[0m \u001b[43m    \u001b[49m\u001b[43mepochs\u001b[49m\u001b[43m,\u001b[49m\n\u001b[1;32m     17\u001b[0m \u001b[43m)\u001b[49m\n",
      "Cell \u001b[0;32mIn[20], line 28\u001b[0m, in \u001b[0;36mfit\u001b[0;34m(model, criterion, optimizer, train_loader, val_loader, device, epochs, early_stopping_patience, scheduler)\u001b[0m\n\u001b[1;32m     25\u001b[0m \u001b[38;5;28;01mtry\u001b[39;00m:\n\u001b[1;32m     26\u001b[0m     epoch_start \u001b[38;5;241m=\u001b[39m time\u001b[38;5;241m.\u001b[39mtime()\n\u001b[0;32m---> 28\u001b[0m     train_acc, train_loss \u001b[38;5;241m=\u001b[39m \u001b[43mtrain\u001b[49m\u001b[43m(\u001b[49m\n\u001b[1;32m     29\u001b[0m \u001b[43m        \u001b[49m\u001b[43mmodel\u001b[49m\u001b[43m,\u001b[49m\u001b[43m \u001b[49m\u001b[43moptimizer\u001b[49m\u001b[43m,\u001b[49m\u001b[43m \u001b[49m\u001b[43mcriterion\u001b[49m\u001b[43m,\u001b[49m\u001b[43m \u001b[49m\u001b[43mtrain_loader\u001b[49m\u001b[43m,\u001b[49m\u001b[43m \u001b[49m\u001b[43mdevice\u001b[49m\u001b[43m,\u001b[49m\n\u001b[1;32m     30\u001b[0m \u001b[43m        \u001b[49m\u001b[43mdesc\u001b[49m\u001b[38;5;241;43m=\u001b[39;49m\u001b[38;5;124;43mf\u001b[39;49m\u001b[38;5;124;43m\"\u001b[39;49m\u001b[38;5;124;43mEpoch \u001b[39;49m\u001b[38;5;132;43;01m{\u001b[39;49;00m\u001b[43mepoch\u001b[49m\u001b[38;5;241;43m+\u001b[39;49m\u001b[38;5;241;43m1\u001b[39;49m\u001b[38;5;132;43;01m}\u001b[39;49;00m\u001b[38;5;124;43m/\u001b[39;49m\u001b[38;5;132;43;01m{\u001b[39;49;00m\u001b[43mepochs\u001b[49m\u001b[38;5;132;43;01m}\u001b[39;49;00m\u001b[38;5;124;43m [Train]\u001b[39;49m\u001b[38;5;124;43m\"\u001b[39;49m\u001b[43m,\u001b[49m\n\u001b[1;32m     31\u001b[0m \u001b[43m        \u001b[49m\u001b[43mposition\u001b[49m\u001b[38;5;241;43m=\u001b[39;49m\u001b[38;5;241;43m0\u001b[39;49m\u001b[43m,\u001b[49m\n\u001b[1;32m     32\u001b[0m \u001b[43m    \u001b[49m\u001b[43m)\u001b[49m\n\u001b[1;32m     34\u001b[0m     val_acc, val_loss \u001b[38;5;241m=\u001b[39m evaluate(\n\u001b[1;32m     35\u001b[0m         model, criterion, val_loader, device,\n\u001b[1;32m     36\u001b[0m         desc\u001b[38;5;241m=\u001b[39m\u001b[38;5;124mf\u001b[39m\u001b[38;5;124m\"\u001b[39m\u001b[38;5;124mEpoch \u001b[39m\u001b[38;5;132;01m{\u001b[39;00mepoch\u001b[38;5;241m+\u001b[39m\u001b[38;5;241m1\u001b[39m\u001b[38;5;132;01m}\u001b[39;00m\u001b[38;5;124m/\u001b[39m\u001b[38;5;132;01m{\u001b[39;00mepochs\u001b[38;5;132;01m}\u001b[39;00m\u001b[38;5;124m [Val]\u001b[39m\u001b[38;5;124m\"\u001b[39m,\n\u001b[1;32m     37\u001b[0m         position\u001b[38;5;241m=\u001b[39m\u001b[38;5;241m0\u001b[39m,\n\u001b[1;32m     38\u001b[0m         is_leaving\u001b[38;5;241m=\u001b[39m\u001b[38;5;28;01mTrue\u001b[39;00m,\n\u001b[1;32m     39\u001b[0m     )\n\u001b[1;32m     41\u001b[0m     \u001b[38;5;28;01mif\u001b[39;00m scheduler \u001b[38;5;129;01mis\u001b[39;00m \u001b[38;5;129;01mnot\u001b[39;00m \u001b[38;5;28;01mNone\u001b[39;00m:\n",
      "Cell \u001b[0;32mIn[19], line 31\u001b[0m, in \u001b[0;36mtrain\u001b[0;34m(model, optimizer, criterion, dataloader, device, desc, position)\u001b[0m\n\u001b[1;32m     29\u001b[0m predictions \u001b[38;5;241m=\u001b[39m model(inputs)\n\u001b[1;32m     30\u001b[0m loss \u001b[38;5;241m=\u001b[39m criterion(predictions, labels)\n\u001b[0;32m---> 31\u001b[0m \u001b[43mloss\u001b[49m\u001b[38;5;241;43m.\u001b[39;49m\u001b[43mbackward\u001b[49m\u001b[43m(\u001b[49m\u001b[43m)\u001b[49m\n\u001b[1;32m     32\u001b[0m optimizer\u001b[38;5;241m.\u001b[39mstep()\n\u001b[1;32m     34\u001b[0m total_loss \u001b[38;5;241m+\u001b[39m\u001b[38;5;241m=\u001b[39m \u001b[38;5;28mfloat\u001b[39m(loss\u001b[38;5;241m.\u001b[39mitem() \u001b[38;5;241m*\u001b[39m labels\u001b[38;5;241m.\u001b[39msize(\u001b[38;5;241m0\u001b[39m))\n",
      "File \u001b[0;32m~/miniconda3/envs/aio2024-hw/lib/python3.12/site-packages/torch/_tensor.py:525\u001b[0m, in \u001b[0;36mTensor.backward\u001b[0;34m(self, gradient, retain_graph, create_graph, inputs)\u001b[0m\n\u001b[1;32m    515\u001b[0m \u001b[38;5;28;01mif\u001b[39;00m has_torch_function_unary(\u001b[38;5;28mself\u001b[39m):\n\u001b[1;32m    516\u001b[0m     \u001b[38;5;28;01mreturn\u001b[39;00m handle_torch_function(\n\u001b[1;32m    517\u001b[0m         Tensor\u001b[38;5;241m.\u001b[39mbackward,\n\u001b[1;32m    518\u001b[0m         (\u001b[38;5;28mself\u001b[39m,),\n\u001b[0;32m   (...)\u001b[0m\n\u001b[1;32m    523\u001b[0m         inputs\u001b[38;5;241m=\u001b[39minputs,\n\u001b[1;32m    524\u001b[0m     )\n\u001b[0;32m--> 525\u001b[0m \u001b[43mtorch\u001b[49m\u001b[38;5;241;43m.\u001b[39;49m\u001b[43mautograd\u001b[49m\u001b[38;5;241;43m.\u001b[39;49m\u001b[43mbackward\u001b[49m\u001b[43m(\u001b[49m\n\u001b[1;32m    526\u001b[0m \u001b[43m    \u001b[49m\u001b[38;5;28;43mself\u001b[39;49m\u001b[43m,\u001b[49m\u001b[43m \u001b[49m\u001b[43mgradient\u001b[49m\u001b[43m,\u001b[49m\u001b[43m \u001b[49m\u001b[43mretain_graph\u001b[49m\u001b[43m,\u001b[49m\u001b[43m \u001b[49m\u001b[43mcreate_graph\u001b[49m\u001b[43m,\u001b[49m\u001b[43m \u001b[49m\u001b[43minputs\u001b[49m\u001b[38;5;241;43m=\u001b[39;49m\u001b[43minputs\u001b[49m\n\u001b[1;32m    527\u001b[0m \u001b[43m\u001b[49m\u001b[43m)\u001b[49m\n",
      "File \u001b[0;32m~/miniconda3/envs/aio2024-hw/lib/python3.12/site-packages/torch/autograd/__init__.py:267\u001b[0m, in \u001b[0;36mbackward\u001b[0;34m(tensors, grad_tensors, retain_graph, create_graph, grad_variables, inputs)\u001b[0m\n\u001b[1;32m    262\u001b[0m     retain_graph \u001b[38;5;241m=\u001b[39m create_graph\n\u001b[1;32m    264\u001b[0m \u001b[38;5;66;03m# The reason we repeat the same comment below is that\u001b[39;00m\n\u001b[1;32m    265\u001b[0m \u001b[38;5;66;03m# some Python versions print out the first line of a multi-line function\u001b[39;00m\n\u001b[1;32m    266\u001b[0m \u001b[38;5;66;03m# calls in the traceback and some print out the last line\u001b[39;00m\n\u001b[0;32m--> 267\u001b[0m \u001b[43m_engine_run_backward\u001b[49m\u001b[43m(\u001b[49m\n\u001b[1;32m    268\u001b[0m \u001b[43m    \u001b[49m\u001b[43mtensors\u001b[49m\u001b[43m,\u001b[49m\n\u001b[1;32m    269\u001b[0m \u001b[43m    \u001b[49m\u001b[43mgrad_tensors_\u001b[49m\u001b[43m,\u001b[49m\n\u001b[1;32m    270\u001b[0m \u001b[43m    \u001b[49m\u001b[43mretain_graph\u001b[49m\u001b[43m,\u001b[49m\n\u001b[1;32m    271\u001b[0m \u001b[43m    \u001b[49m\u001b[43mcreate_graph\u001b[49m\u001b[43m,\u001b[49m\n\u001b[1;32m    272\u001b[0m \u001b[43m    \u001b[49m\u001b[43minputs\u001b[49m\u001b[43m,\u001b[49m\n\u001b[1;32m    273\u001b[0m \u001b[43m    \u001b[49m\u001b[43mallow_unreachable\u001b[49m\u001b[38;5;241;43m=\u001b[39;49m\u001b[38;5;28;43;01mTrue\u001b[39;49;00m\u001b[43m,\u001b[49m\n\u001b[1;32m    274\u001b[0m \u001b[43m    \u001b[49m\u001b[43maccumulate_grad\u001b[49m\u001b[38;5;241;43m=\u001b[39;49m\u001b[38;5;28;43;01mTrue\u001b[39;49;00m\u001b[43m,\u001b[49m\n\u001b[1;32m    275\u001b[0m \u001b[43m\u001b[49m\u001b[43m)\u001b[49m\n",
      "File \u001b[0;32m~/miniconda3/envs/aio2024-hw/lib/python3.12/site-packages/torch/autograd/graph.py:744\u001b[0m, in \u001b[0;36m_engine_run_backward\u001b[0;34m(t_outputs, *args, **kwargs)\u001b[0m\n\u001b[1;32m    742\u001b[0m     unregister_hooks \u001b[38;5;241m=\u001b[39m _register_logging_hooks_on_whole_graph(t_outputs)\n\u001b[1;32m    743\u001b[0m \u001b[38;5;28;01mtry\u001b[39;00m:\n\u001b[0;32m--> 744\u001b[0m     \u001b[38;5;28;01mreturn\u001b[39;00m \u001b[43mVariable\u001b[49m\u001b[38;5;241;43m.\u001b[39;49m\u001b[43m_execution_engine\u001b[49m\u001b[38;5;241;43m.\u001b[39;49m\u001b[43mrun_backward\u001b[49m\u001b[43m(\u001b[49m\u001b[43m  \u001b[49m\u001b[38;5;66;43;03m# Calls into the C++ engine to run the backward pass\u001b[39;49;00m\n\u001b[1;32m    745\u001b[0m \u001b[43m        \u001b[49m\u001b[43mt_outputs\u001b[49m\u001b[43m,\u001b[49m\u001b[43m \u001b[49m\u001b[38;5;241;43m*\u001b[39;49m\u001b[43margs\u001b[49m\u001b[43m,\u001b[49m\u001b[43m \u001b[49m\u001b[38;5;241;43m*\u001b[39;49m\u001b[38;5;241;43m*\u001b[39;49m\u001b[43mkwargs\u001b[49m\n\u001b[1;32m    746\u001b[0m \u001b[43m    \u001b[49m\u001b[43m)\u001b[49m  \u001b[38;5;66;03m# Calls into the C++ engine to run the backward pass\u001b[39;00m\n\u001b[1;32m    747\u001b[0m \u001b[38;5;28;01mfinally\u001b[39;00m:\n\u001b[1;32m    748\u001b[0m     \u001b[38;5;28;01mif\u001b[39;00m attach_logging_hooks:\n",
      "\u001b[0;31mKeyboardInterrupt\u001b[0m: "
     ]
    }
   ],
   "source": [
    "lr = 1e-4\n",
    "epochs = 5\n",
    "\n",
    "criterion = nn.CrossEntropyLoss()\n",
    "optimizer = torch.optim.SGD(\n",
    "    model.parameters(),\n",
    "    lr=lr\n",
    ")\n",
    "history = fit(\n",
    "    model,\n",
    "    criterion,\n",
    "    optimizer,\n",
    "    train_loader,\n",
    "    val_loader,\n",
    "    device,\n",
    "    epochs,\n",
    ")"
   ]
  },
  {
   "cell_type": "code",
   "execution_count": null,
   "metadata": {},
   "outputs": [],
   "source": [
    "max_memory = max(history['GPU'])\n",
    "print(f\"Peak GPU memory usage: {max_memory:.2f} MB\")"
   ]
  },
  {
   "cell_type": "code",
   "execution_count": null,
   "metadata": {},
   "outputs": [],
   "source": [
    "test_acc, test_loss = evaluate(\n",
    "    model,\n",
    "    criterion,\n",
    "    test_loader,\n",
    "    device\n",
    ")\n",
    "test_acc, test_loss"
   ]
  },
  {
   "cell_type": "code",
   "execution_count": null,
   "metadata": {},
   "outputs": [],
   "source": []
  }
 ],
 "metadata": {
  "kernelspec": {
   "display_name": "aio2024-hw",
   "language": "python",
   "name": "python3"
  },
  "language_info": {
   "codemirror_mode": {
    "name": "ipython",
    "version": 3
   },
   "file_extension": ".py",
   "mimetype": "text/x-python",
   "name": "python",
   "nbconvert_exporter": "python",
   "pygments_lexer": "ipython3",
   "version": "3.12.7"
  }
 },
 "nbformat": 4,
 "nbformat_minor": 2
}
