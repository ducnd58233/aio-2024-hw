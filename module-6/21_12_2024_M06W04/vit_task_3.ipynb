{
 "cells": [
  {
   "cell_type": "markdown",
   "metadata": {},
   "source": [
    "# 1. Load Dataset"
   ]
  },
  {
   "cell_type": "code",
   "execution_count": 1,
   "metadata": {},
   "outputs": [
    {
     "name": "stdout",
     "output_type": "stream",
     "text": [
      "d:\\AIVietNam\\2024\\aio-2024-hw\\module-6\\21_12_2024_M06W04\\data\n",
      "d:\\AIVietNam\\2024\\aio-2024-hw\\module-6\\21_12_2024_M06W04\n"
     ]
    },
    {
     "name": "stderr",
     "output_type": "stream",
     "text": [
      "Downloading...\n",
      "From (original): https://drive.google.com/uc?id=1vSevps_hV5zhVf6aWuN8X7dd-qSAIgcc\n",
      "From (redirected): https://drive.google.com/uc?id=1vSevps_hV5zhVf6aWuN8X7dd-qSAIgcc&confirm=t&uuid=83b96fb4-26f6-4d94-a235-5329e8716943\n",
      "To: d:\\AIVietNam\\2024\\aio-2024-hw\\module-6\\21_12_2024_M06W04\\data\\flower_photos.zip\n",
      "\n",
      "  0%|          | 0.00/230M [00:00<?, ?B/s]\n",
      "  0%|          | 524k/230M [00:00<03:27, 1.10MB/s]\n",
      "  0%|          | 1.05M/230M [00:00<02:00, 1.90MB/s]\n",
      "  1%|          | 1.57M/230M [00:00<01:28, 2.58MB/s]\n",
      "  1%|          | 2.10M/230M [00:00<01:11, 3.18MB/s]\n",
      "  1%|▏         | 3.15M/230M [00:00<00:50, 4.52MB/s]\n",
      "  2%|▏         | 4.72M/230M [00:01<00:31, 7.20MB/s]\n",
      "  3%|▎         | 6.29M/230M [00:01<00:34, 6.49MB/s]\n",
      "  4%|▍         | 9.44M/230M [00:01<00:19, 11.3MB/s]\n",
      "  6%|▌         | 13.6M/230M [00:01<00:13, 16.0MB/s]\n",
      "  8%|▊         | 17.3M/230M [00:01<00:10, 20.0MB/s]\n",
      "  9%|▉         | 20.4M/230M [00:01<00:09, 22.1MB/s]\n",
      " 10%|█         | 23.1M/230M [00:02<00:10, 19.3MB/s]\n",
      " 11%|█         | 25.7M/230M [00:02<00:13, 14.7MB/s]\n",
      " 12%|█▏        | 27.8M/230M [00:02<00:17, 11.4MB/s]\n",
      " 13%|█▎        | 30.4M/230M [00:02<00:14, 13.7MB/s]\n",
      " 15%|█▍        | 34.1M/230M [00:02<00:13, 14.3MB/s]\n",
      " 16%|█▌        | 36.2M/230M [00:03<00:15, 12.2MB/s]\n",
      " 18%|█▊        | 41.9M/230M [00:03<00:11, 16.9MB/s]\n",
      " 20%|██        | 46.7M/230M [00:03<00:13, 14.0MB/s]\n",
      " 22%|██▏       | 50.3M/230M [00:03<00:10, 16.7MB/s]\n",
      " 23%|██▎       | 53.0M/230M [00:04<00:12, 13.7MB/s]\n",
      " 24%|██▍       | 56.1M/230M [00:04<00:11, 14.7MB/s]\n",
      " 26%|██▌       | 58.7M/230M [00:04<00:10, 16.5MB/s]\n",
      " 27%|██▋       | 61.3M/230M [00:04<00:09, 17.4MB/s]\n",
      " 28%|██▊       | 63.4M/230M [00:04<00:11, 14.6MB/s]\n",
      " 29%|██▉       | 67.1M/230M [00:05<00:08, 18.7MB/s]\n",
      " 31%|███▏      | 71.8M/230M [00:05<00:06, 24.1MB/s]\n",
      " 33%|███▎      | 75.0M/230M [00:05<00:06, 24.5MB/s]\n",
      " 34%|███▍      | 78.1M/230M [00:05<00:06, 24.1MB/s]\n",
      " 35%|███▌      | 81.3M/230M [00:05<00:06, 23.9MB/s]\n",
      " 37%|███▋      | 83.9M/230M [00:05<00:06, 20.9MB/s]\n",
      " 38%|███▊      | 86.5M/230M [00:05<00:06, 21.6MB/s]\n",
      " 39%|███▉      | 89.7M/230M [00:05<00:06, 22.6MB/s]\n",
      " 40%|████      | 92.3M/230M [00:06<00:07, 18.7MB/s]\n",
      " 42%|████▏     | 96.5M/230M [00:06<00:05, 23.7MB/s]\n",
      " 43%|████▎     | 99.6M/230M [00:06<00:05, 23.6MB/s]\n",
      " 45%|████▍     | 103M/230M [00:06<00:05, 25.3MB/s] \n",
      " 46%|████▌     | 106M/230M [00:06<00:04, 26.7MB/s]\n",
      " 48%|████▊     | 109M/230M [00:06<00:05, 24.0MB/s]\n",
      " 49%|████▉     | 112M/230M [00:06<00:04, 25.8MB/s]\n",
      " 50%|█████     | 115M/230M [00:06<00:04, 27.1MB/s]\n",
      " 52%|█████▏    | 118M/230M [00:07<00:04, 27.5MB/s]\n",
      " 53%|█████▎    | 122M/230M [00:07<00:04, 22.8MB/s]\n",
      " 56%|█████▌    | 128M/230M [00:07<00:03, 27.8MB/s]\n",
      " 57%|█████▋    | 132M/230M [00:07<00:03, 26.8MB/s]\n",
      " 60%|█████▉    | 137M/230M [00:07<00:03, 28.4MB/s]\n",
      " 61%|██████    | 140M/230M [00:07<00:03, 23.0MB/s]\n",
      " 62%|██████▏   | 143M/230M [00:08<00:03, 22.9MB/s]\n",
      " 64%|██████▎   | 146M/230M [00:08<00:04, 19.1MB/s]\n",
      " 65%|██████▍   | 148M/230M [00:08<00:03, 20.4MB/s]\n",
      " 66%|██████▌   | 151M/230M [00:08<00:05, 13.8MB/s]\n",
      " 68%|██████▊   | 156M/230M [00:08<00:03, 19.0MB/s]\n",
      " 69%|██████▉   | 158M/230M [00:09<00:03, 19.1MB/s]\n",
      " 70%|███████   | 161M/230M [00:09<00:03, 19.1MB/s]\n",
      " 71%|███████▏  | 164M/230M [00:09<00:03, 19.9MB/s]\n",
      " 72%|███████▏  | 166M/230M [00:09<00:03, 19.4MB/s]\n",
      " 74%|███████▎  | 169M/230M [00:09<00:03, 18.8MB/s]\n",
      " 75%|███████▍  | 171M/230M [00:09<00:02, 20.0MB/s]\n",
      " 76%|███████▌  | 174M/230M [00:09<00:03, 15.0MB/s]\n",
      " 77%|███████▋  | 177M/230M [00:10<00:02, 18.1MB/s]\n",
      " 79%|███████▉  | 182M/230M [00:10<00:01, 23.7MB/s]\n",
      " 81%|████████  | 186M/230M [00:10<00:03, 13.8MB/s]\n",
      " 82%|████████▏ | 188M/230M [00:10<00:03, 13.7MB/s]\n",
      " 83%|████████▎ | 190M/230M [00:10<00:02, 14.7MB/s]\n",
      " 84%|████████▍ | 192M/230M [00:11<00:02, 13.6MB/s]\n",
      " 85%|████████▍ | 195M/230M [00:11<00:02, 14.1MB/s]\n",
      " 86%|████████▌ | 197M/230M [00:11<00:02, 14.6MB/s]\n",
      " 87%|████████▋ | 199M/230M [00:11<00:02, 15.3MB/s]\n",
      " 87%|████████▋ | 201M/230M [00:11<00:01, 16.0MB/s]\n",
      " 88%|████████▊ | 203M/230M [00:11<00:01, 15.1MB/s]\n",
      " 89%|████████▉ | 205M/230M [00:11<00:01, 15.6MB/s]\n",
      " 90%|█████████ | 207M/230M [00:12<00:01, 15.9MB/s]\n",
      " 91%|█████████ | 209M/230M [00:12<00:01, 17.1MB/s]\n",
      " 92%|█████████▏| 212M/230M [00:12<00:01, 17.5MB/s]\n",
      " 93%|█████████▎| 214M/230M [00:12<00:00, 19.0MB/s]\n",
      " 94%|█████████▍| 217M/230M [00:12<00:00, 17.9MB/s]\n",
      " 95%|█████████▌| 219M/230M [00:12<00:00, 15.9MB/s]\n",
      " 96%|█████████▌| 221M/230M [00:12<00:00, 15.8MB/s]\n",
      " 97%|█████████▋| 223M/230M [00:13<00:00, 15.0MB/s]\n",
      " 98%|█████████▊| 224M/230M [00:13<00:00, 14.7MB/s]\n",
      " 98%|█████████▊| 226M/230M [00:13<00:00, 14.0MB/s]\n",
      " 99%|█████████▉| 228M/230M [00:13<00:00, 13.6MB/s]\n",
      "100%|█████████▉| 229M/230M [00:13<00:00, 13.9MB/s]\n",
      "100%|██████████| 230M/230M [00:13<00:00, 17.0MB/s]\n"
     ]
    }
   ],
   "source": [
    "!mkdir data\n",
    "%cd data\n",
    "\n",
    "!gdown 1vSevps_hV5zhVf6aWuN8X7dd-qSAIgcc\n",
    "\n",
    "%cd .."
   ]
  },
  {
   "cell_type": "code",
   "execution_count": 2,
   "metadata": {},
   "outputs": [],
   "source": [
    "import zipfile\n",
    "\n",
    "with zipfile.ZipFile('./data/flower_photos.zip', 'r') as zip_ref:\n",
    "    zip_ref.extractall('./data')"
   ]
  },
  {
   "cell_type": "code",
   "execution_count": 3,
   "metadata": {},
   "outputs": [],
   "source": [
    "import os\n",
    "import math\n",
    "import torch\n",
    "import torchvision.transforms as transforms\n",
    "import torch.optim as optim\n",
    "\n",
    "from torch.utils.data import DataLoader, random_split\n",
    "from torchvision.datasets import ImageFolder\n",
    "from torch import nn"
   ]
  },
  {
   "cell_type": "code",
   "execution_count": 4,
   "metadata": {},
   "outputs": [
    {
     "data": {
      "text/plain": [
       "<torch.utils.data.dataset.Subset at 0x2255d1e9a90>"
      ]
     },
     "execution_count": 4,
     "metadata": {},
     "output_type": "execute_result"
    }
   ],
   "source": [
    "data_patch = './data/flower_photos'\n",
    "dataset = ImageFolder(root=data_patch)\n",
    "num_samples = len(dataset)\n",
    "classes = dataset.classes\n",
    "num_classes = len(classes)\n",
    "\n",
    "TRAIN_RATIO, VALID_RATIO = 0.8, 0.1\n",
    "n_train_examples = int(num_samples * TRAIN_RATIO)\n",
    "n_valid_examples = int(num_samples * VALID_RATIO)\n",
    "n_test_examples = num_samples - n_train_examples - n_valid_examples\n",
    "\n",
    "train_dataset, valid_dataset, test_dataset = random_split(dataset, [n_train_examples, n_valid_examples, n_test_examples])\n",
    "\n",
    "train_dataset\n"
   ]
  },
  {
   "cell_type": "markdown",
   "metadata": {},
   "source": [
    "# 2. Preprocessing"
   ]
  },
  {
   "cell_type": "code",
   "execution_count": 5,
   "metadata": {},
   "outputs": [],
   "source": [
    "IMG_SIZE = 224\n",
    "\n",
    "train_transforms = transforms.Compose([\n",
    "    transforms.Resize((IMG_SIZE, IMG_SIZE)),\n",
    "    transforms.RandomHorizontalFlip(),\n",
    "    transforms.RandomRotation(0.2),\n",
    "    transforms.ToTensor(),\n",
    "    transforms.Normalize(mean=[0.5, 0.5, 0.5], std=[0.5, 0.5, 0.5]),\n",
    "])\n",
    "\n",
    "test_transforms = transforms.Compose([\n",
    "    transforms.Resize((IMG_SIZE, IMG_SIZE)),\n",
    "    transforms.ToTensor(),\n",
    "    transforms.Normalize(mean=[0.5, 0.5, 0.5], std=[0.5, 0.5, 0.5]),\n",
    "])\n",
    "\n",
    "train_dataset.dataset.transform = train_transforms\n",
    "valid_dataset.dataset.transform = test_transforms\n",
    "test_dataset.dataset.transform = test_transforms\n"
   ]
  },
  {
   "cell_type": "markdown",
   "metadata": {},
   "source": [
    "# 3. DataLoader"
   ]
  },
  {
   "cell_type": "code",
   "execution_count": 6,
   "metadata": {},
   "outputs": [],
   "source": [
    "BATCH_SIZE = 512\n",
    "\n",
    "train_loader = DataLoader(train_dataset, batch_size=BATCH_SIZE, shuffle=True)\n",
    "valid_loader = DataLoader(valid_dataset, batch_size=BATCH_SIZE, shuffle=False)\n",
    "test_loader = DataLoader(test_dataset, batch_size=BATCH_SIZE, shuffle=False)"
   ]
  },
  {
   "cell_type": "markdown",
   "metadata": {},
   "source": [
    "# 4. Training from Scratch"
   ]
  },
  {
   "cell_type": "markdown",
   "metadata": {},
   "source": [
    "## 4.1. Modeling"
   ]
  },
  {
   "cell_type": "code",
   "execution_count": 8,
   "metadata": {},
   "outputs": [],
   "source": [
    "class TransformerEncoder(nn.Module):\n",
    "    def __init__(self, embed_dim, num_heads, ff_dim, dropout=0.1):\n",
    "        super().__init__()\n",
    "        self.attn = nn.MultiheadAttention(embed_dim=embed_dim, num_heads=num_heads, batch_first=True)\n",
    "        self.ffn = nn.Sequential(\n",
    "            nn.Linear(in_features=embed_dim, out_features=ff_dim, bias=True),\n",
    "            nn.ReLU(),\n",
    "            nn.Linear(in_features=ff_dim, out_features=embed_dim, bias=True),\n",
    "        )\n",
    "        self.norm1 = nn.LayerNorm(normalized_shape=embed_dim, eps=1e-6)\n",
    "        self.norm2 = nn.LayerNorm(normalized_shape=embed_dim, eps=1e-6)\n",
    "        self.dropout = nn.Dropout(p=dropout)\n",
    "\n",
    "    def forward(self, query, key, value):\n",
    "        attn_output, _ = self.attn(query, key, value)\n",
    "        attn_output = self.dropout(attn_output)\n",
    "        out1 = self.norm1(query + attn_output)\n",
    "        ffn_output = self.ffn(out1)\n",
    "        out2 = self.norm2(out1 + ffn_output)\n",
    "        return out2\n",
    "    \n",
    "class PatchPositionEmbedding(nn.Module):\n",
    "    def __init__(self, image_size=224, embed_dim=512, patch_size=16, device='cpu'):\n",
    "        super().__init__()\n",
    "        self.conv1 = nn.Conv2d(\n",
    "            in_channels=3,\n",
    "            out_channels=embed_dim,\n",
    "            kernel_size=patch_size,\n",
    "            stride=patch_size,\n",
    "            bias=False,\n",
    "        )\n",
    "        scale = embed_dim ** -0.5\n",
    "        self.positional_embedding = nn.Parameter(\n",
    "            scale * torch.randn((image_size // patch_size) ** 2, embed_dim)\n",
    "        )\n",
    "        self.device = device\n",
    "\n",
    "    def forward(self, x):\n",
    "        x = self.conv1(x) # shape = [*, width, grid, grid]\n",
    "        x = x.reshape(x.shape[0], x.shape[1], -1) # shape = [*, width, grid * grid]\n",
    "        x = x.permute(0, 2, 1) # shape = [*, grid * grid, width]\n",
    "        x = x + self.positional_embedding.to(self.device)\n",
    "        return x\n",
    "    \n",
    "class VisionTransformerCls(nn.Module):\n",
    "    def __init__(\n",
    "        self,\n",
    "        image_size,\n",
    "        embed_dim,\n",
    "        num_heads,\n",
    "        ff_dim,\n",
    "        dropout=0.1,\n",
    "        num_classes=10,\n",
    "        patch_size=16,\n",
    "        device='cpu',\n",
    "    ):\n",
    "        super().__init__()\n",
    "        self.patch_embedding = PatchPositionEmbedding(\n",
    "            image_size=image_size,\n",
    "            embed_dim=embed_dim,\n",
    "            patch_size=patch_size,\n",
    "            device=device,\n",
    "        )\n",
    "        self.transformer = TransformerEncoder(\n",
    "            embed_dim=embed_dim,\n",
    "            num_heads=num_heads,\n",
    "            ff_dim=ff_dim,\n",
    "            dropout=dropout,\n",
    "        )\n",
    "        self.fc1 = nn.Linear(in_features=embed_dim, out_features=20)\n",
    "        self.fc2 = nn.Linear(in_features=20, out_features=num_classes)\n",
    "        self.dropout = nn.Dropout(p=dropout)\n",
    "        self.device = device\n",
    "\n",
    "    def forward(self, x):\n",
    "        x = self.patch_embedding(x)\n",
    "        x = self.transformer(x, x, x)\n",
    "        x = x[:, 0, :]\n",
    "        x = self.dropout(x)\n",
    "        x = self.fc1(x)\n",
    "        x = self.dropout(x)\n",
    "        x = self.fc2(x)\n",
    "        return x"
   ]
  },
  {
   "cell_type": "markdown",
   "metadata": {},
   "source": [
    "## 4.2 Training"
   ]
  },
  {
   "cell_type": "code",
   "execution_count": 9,
   "metadata": {},
   "outputs": [],
   "source": [
    "import os\n",
    "import time\n",
    "\n",
    "\n",
    "def train_epoch(model, optimizer, criterion, train_loader, device, epoch=0, log_interval=50):\n",
    "    model.train()\n",
    "    total_acc = total_cnt = 0\n",
    "    losses = []\n",
    "    start_time = time.time()\n",
    "\n",
    "    for idx, (inputs, labels) in enumerate(train_loader):\n",
    "        inputs = inputs.to(device)\n",
    "        labels = labels.to(device)\n",
    "\n",
    "        optimizer.zero_grad()\n",
    "        predictions = model(inputs)\n",
    "\n",
    "        loss = criterion(predictions, labels)\n",
    "        losses.append(loss.item())\n",
    "\n",
    "        loss.backward()\n",
    "        optimizer.step()\n",
    "        total_acc += (predictions.argmax(dim=1) == labels).sum().item()\n",
    "        total_cnt += labels.size(0)\n",
    "\n",
    "        if idx % log_interval == 0 and idx > 0:\n",
    "            elapsed = time.time() - start_time\n",
    "            print(f\"Epoch {epoch} | {idx}/{len(train_loader)} batches | \"\n",
    "                  f\"loss={loss.item():.4f} | acc={total_acc/total_cnt:.4f} | \"\n",
    "                  f\"{elapsed}s/batch\")\n",
    "            start_time = time.time()\n",
    "            total_acc = total_cnt = 0\n",
    "            start_time = time.time()\n",
    "\n",
    "    epoch_acc = total_acc / total_cnt\n",
    "    epoch_loss = sum(losses) / len(losses)\n",
    "    return epoch_acc, epoch_loss\n",
    "\n",
    "\n",
    "def evaluate_epoch(model, criterion, valid_loader, device):\n",
    "    model.eval()\n",
    "    total_acc = total_cnt = 0\n",
    "    losses = []\n",
    "\n",
    "    with torch.no_grad():\n",
    "        for idx, (inputs, labels) in enumerate(valid_loader):\n",
    "            inputs = inputs.to(device)\n",
    "            labels = labels.to(device)\n",
    "\n",
    "            predictions = model(inputs)\n",
    "            loss = criterion(predictions, labels)\n",
    "            losses.append(loss.item())\n",
    "\n",
    "            total_acc += (predictions.argmax(dim=1) == labels).sum().item()\n",
    "            total_cnt += labels.size(0)\n",
    "\n",
    "    epoch_acc = total_acc / total_cnt\n",
    "    epoch_loss = sum(losses) / len(losses)\n",
    "    return epoch_acc, epoch_loss\n",
    "\n",
    "\n",
    "def train(model, model_name, save_model, optimizer, criterion, train_loader, valid_dataloader, num_epochs, device):\n",
    "    train_accs, train_losses = [], []\n",
    "    eval_accs, eval_losses = [], []\n",
    "    best_loss_eval = float('inf')\n",
    "    times = []\n",
    "\n",
    "    save_path = os.path.join(save_model, f\"{model_name}_best.pth\")\n",
    "\n",
    "    for epoch in range(1, num_epochs + 1):\n",
    "        start_time = time.time()\n",
    "        train_acc, train_loss = train_epoch(\n",
    "            model, optimizer, criterion, train_loader, device, epoch)\n",
    "        train_accs.append(train_acc)\n",
    "        train_losses.append(train_loss)\n",
    "\n",
    "        eval_acc, eval_loss = evaluate_epoch(\n",
    "            model, criterion, valid_dataloader, device)\n",
    "        eval_accs.append(eval_acc)\n",
    "        eval_losses.append(eval_loss)\n",
    "\n",
    "        if eval_loss < best_loss_eval:\n",
    "            best_loss_eval = eval_loss\n",
    "            torch.save(model.state_dict(), save_path)\n",
    "\n",
    "        elapsed = time.time() - start_time\n",
    "        times.append(elapsed)\n",
    "\n",
    "        print('-' * 100)\n",
    "        print(f\"Epoch {epoch} | Train Acc: {train_acc:.4f} | Train Loss: {train_loss:.4f} | \"\n",
    "              f\"Eval Acc: {eval_acc:.4f} | Eval Loss: {eval_loss:.4f} | \"\n",
    "              f\"{elapsed}s\")\n",
    "        print('-' * 100)\n",
    "\n",
    "    model.load_state_dict(torch.load(save_path))\n",
    "    model.eval()\n",
    "    metrics = {\n",
    "        'train_accs': train_accs,\n",
    "        'train_losses': train_losses,\n",
    "        'eval_accs': eval_accs,\n",
    "        'eval_losses': eval_losses,\n",
    "        'times': times\n",
    "    }\n",
    "    return model, metrics"
   ]
  },
  {
   "cell_type": "code",
   "execution_count": 13,
   "metadata": {},
   "outputs": [],
   "source": [
    "import matplotlib.pyplot as plt\n",
    "\n",
    "\n",
    "def plot_result(num_epochs, train_accs, eval_accs, train_losses, eval_losses):\n",
    "    epochs = list(range(1, num_epochs + 1))  # Start from 1\n",
    "    fig, axs = plt.subplots(nrows=1, ncols=2, figsize=(12, 6))\n",
    "\n",
    "    # Plot accuracy\n",
    "    axs[0].plot(epochs, train_accs, label='Train Acc')\n",
    "    axs[0].plot(epochs, eval_accs, label='Eval Acc')\n",
    "    axs[0].set_title('Accuracy')\n",
    "    axs[0].set_xlabel('Epochs')\n",
    "    axs[0].set_ylabel('Accuracy')\n",
    "    axs[0].legend()\n",
    "\n",
    "    # Plot loss\n",
    "    axs[1].plot(epochs, train_losses, label='Train Loss')\n",
    "    axs[1].plot(epochs, eval_losses, label='Eval Loss')\n",
    "    axs[1].set_title('Loss')\n",
    "    axs[1].set_xlabel('Epochs')\n",
    "    axs[1].set_ylabel('Loss')\n",
    "    axs[1].legend()\n",
    "\n",
    "    plt.tight_layout()\n",
    "    plt.show()"
   ]
  },
  {
   "cell_type": "code",
   "execution_count": 11,
   "metadata": {},
   "outputs": [
    {
     "name": "stdout",
     "output_type": "stream",
     "text": [
      "----------------------------------------------------------------------------------------------------\n",
      "Epoch 1 | Train Acc: 0.2660 | Train Loss: 1.5896 | Eval Acc: 0.3161 | Eval Loss: 1.5161 | 430.9377164840698s\n",
      "----------------------------------------------------------------------------------------------------\n",
      "----------------------------------------------------------------------------------------------------\n",
      "Epoch 2 | Train Acc: 0.3392 | Train Loss: 1.4781 | Eval Acc: 0.3324 | Eval Loss: 1.4665 | 302.39617252349854s\n",
      "----------------------------------------------------------------------------------------------------\n",
      "----------------------------------------------------------------------------------------------------\n",
      "Epoch 3 | Train Acc: 0.3828 | Train Loss: 1.4124 | Eval Acc: 0.3842 | Eval Loss: 1.4266 | 299.0432014465332s\n",
      "----------------------------------------------------------------------------------------------------\n",
      "----------------------------------------------------------------------------------------------------\n",
      "Epoch 4 | Train Acc: 0.4084 | Train Loss: 1.3657 | Eval Acc: 0.3842 | Eval Loss: 1.3928 | 274.67915081977844s\n",
      "----------------------------------------------------------------------------------------------------\n",
      "----------------------------------------------------------------------------------------------------\n",
      "Epoch 5 | Train Acc: 0.4305 | Train Loss: 1.3282 | Eval Acc: 0.3896 | Eval Loss: 1.3745 | 267.2746305465698s\n",
      "----------------------------------------------------------------------------------------------------\n",
      "----------------------------------------------------------------------------------------------------\n",
      "Epoch 6 | Train Acc: 0.4339 | Train Loss: 1.3062 | Eval Acc: 0.3951 | Eval Loss: 1.3576 | 371.09194254875183s\n",
      "----------------------------------------------------------------------------------------------------\n",
      "----------------------------------------------------------------------------------------------------\n",
      "Epoch 7 | Train Acc: 0.4493 | Train Loss: 1.2804 | Eval Acc: 0.4142 | Eval Loss: 1.3200 | 296.24245047569275s\n",
      "----------------------------------------------------------------------------------------------------\n",
      "----------------------------------------------------------------------------------------------------\n",
      "Epoch 8 | Train Acc: 0.4472 | Train Loss: 1.2655 | Eval Acc: 0.3978 | Eval Loss: 1.3219 | 263.1780025959015s\n",
      "----------------------------------------------------------------------------------------------------\n",
      "----------------------------------------------------------------------------------------------------\n",
      "Epoch 9 | Train Acc: 0.4571 | Train Loss: 1.2453 | Eval Acc: 0.4114 | Eval Loss: 1.2993 | 180.31820034980774s\n",
      "----------------------------------------------------------------------------------------------------\n",
      "----------------------------------------------------------------------------------------------------\n",
      "Epoch 10 | Train Acc: 0.4673 | Train Loss: 1.2345 | Eval Acc: 0.4087 | Eval Loss: 1.2984 | 184.48150300979614s\n",
      "----------------------------------------------------------------------------------------------------\n"
     ]
    }
   ],
   "source": [
    "image_size = 224\n",
    "embed_dim = 512\n",
    "num_heads = 4\n",
    "patch_size = 16\n",
    "ff_dim = 128\n",
    "dropout = 0.1\n",
    "\n",
    "device = 'cuda' if torch.cuda.is_available() else 'cpu'\n",
    "\n",
    "model = VisionTransformerCls(\n",
    "    image_size=image_size,\n",
    "    embed_dim=embed_dim,\n",
    "    num_heads=num_heads,\n",
    "    ff_dim=ff_dim,\n",
    "    dropout=dropout,\n",
    "    num_classes=num_classes,\n",
    "    patch_size=patch_size,\n",
    "    device=device,\n",
    ")\n",
    "\n",
    "criterion = nn.CrossEntropyLoss()\n",
    "optimizer = optim.Adam(model.parameters(), lr=1e-4)\n",
    "\n",
    "n_epochs = 10\n",
    "\n",
    "save_model = './models'\n",
    "os.makedirs(save_model, exist_ok=True)\n",
    "model_name = 'vit_flowers'\n",
    "\n",
    "model, metrics = train(\n",
    "    model,\n",
    "    model_name,\n",
    "    save_model,\n",
    "    optimizer,\n",
    "    criterion,\n",
    "    train_loader,\n",
    "    valid_loader,\n",
    "    n_epochs,\n",
    "    device,\n",
    ")\n"
   ]
  },
  {
   "cell_type": "code",
   "execution_count": 14,
   "metadata": {},
   "outputs": [
    {
     "data": {
      "image/png": "[encoded data removed]",
      "text/plain": [
       "<Figure size 1200x600 with 2 Axes>"
      ]
     },
     "metadata": {},
     "output_type": "display_data"
    }
   ],
   "source": [
    "plot_result(n_epochs, metrics['train_accs'], metrics['eval_accs'], metrics['train_losses'], metrics['eval_losses'])"
   ]
  },
  {
   "cell_type": "markdown",
   "metadata": {},
   "source": [
    "# 5. Fine Tuning"
   ]
  },
  {
   "cell_type": "markdown",
   "metadata": {},
   "source": [
    "## 5.1 Modeling"
   ]
  },
  {
   "cell_type": "code",
   "execution_count": 15,
   "metadata": {},
   "outputs": [
    {
     "data": {
      "application/vnd.jupyter.widget-view+json": {
       "model_id": "fbe710aff65448ac8011bf49a41f9285",
       "version_major": 2,
       "version_minor": 0
      },
      "text/plain": [
       "config.json:   0%|          | 0.00/502 [00:00<?, ?B/s]"
      ]
     },
     "metadata": {},
     "output_type": "display_data"
    },
    {
     "name": "stderr",
     "output_type": "stream",
     "text": [
      "c:\\Users\\Admin\\anaconda3\\envs\\aio2024-hw\\Lib\\site-packages\\huggingface_hub\\file_download.py:143: UserWarning: `huggingface_hub` cache-system uses symlinks by default to efficiently store duplicated files but your machine does not support them in C:\\Users\\Admin\\.cache\\huggingface\\hub\\models--google--vit-base-patch16-224-in21k. Caching files will still work but in a degraded version that might require more space on your disk. This warning can be disabled by setting the `HF_HUB_DISABLE_SYMLINKS_WARNING` environment variable. For more details, see https://huggingface.co/docs/huggingface_hub/how-to-cache#limitations.\n",
      "To support symlinks on Windows, you either need to activate Developer Mode or to run Python as an administrator. In order to activate developer mode, see this article: https://docs.microsoft.com/en-us/windows/apps/get-started/enable-your-device-for-development\n",
      "  warnings.warn(message)\n"
     ]
    },
    {
     "data": {
      "application/vnd.jupyter.widget-view+json": {
       "model_id": "b0b09ff85b3c4b59b6c095b943a8ce74",
       "version_major": 2,
       "version_minor": 0
      },
      "text/plain": [
       "model.safetensors:   0%|          | 0.00/346M [00:00<?, ?B/s]"
      ]
     },
     "metadata": {},
     "output_type": "display_data"
    },
    {
     "name": "stderr",
     "output_type": "stream",
     "text": [
      "Some weights of ViTForImageClassification were not initialized from the model checkpoint at google/vit-base-patch16-224-in21k and are newly initialized: ['classifier.bias', 'classifier.weight']\n",
      "You should probably TRAIN this model on a down-stream task to be able to use it for predictions and inference.\n"
     ]
    },
    {
     "data": {
      "text/plain": [
       "ViTForImageClassification(\n",
       "  (vit): ViTModel(\n",
       "    (embeddings): ViTEmbeddings(\n",
       "      (patch_embeddings): ViTPatchEmbeddings(\n",
       "        (projection): Conv2d(3, 768, kernel_size=(16, 16), stride=(16, 16))\n",
       "      )\n",
       "      (dropout): Dropout(p=0.0, inplace=False)\n",
       "    )\n",
       "    (encoder): ViTEncoder(\n",
       "      (layer): ModuleList(\n",
       "        (0-11): 12 x ViTLayer(\n",
       "          (attention): ViTAttention(\n",
       "            (attention): ViTSelfAttention(\n",
       "              (query): Linear(in_features=768, out_features=768, bias=True)\n",
       "              (key): Linear(in_features=768, out_features=768, bias=True)\n",
       "              (value): Linear(in_features=768, out_features=768, bias=True)\n",
       "            )\n",
       "            (output): ViTSelfOutput(\n",
       "              (dense): Linear(in_features=768, out_features=768, bias=True)\n",
       "              (dropout): Dropout(p=0.0, inplace=False)\n",
       "            )\n",
       "          )\n",
       "          (intermediate): ViTIntermediate(\n",
       "            (dense): Linear(in_features=768, out_features=3072, bias=True)\n",
       "            (intermediate_act_fn): GELUActivation()\n",
       "          )\n",
       "          (output): ViTOutput(\n",
       "            (dense): Linear(in_features=3072, out_features=768, bias=True)\n",
       "            (dropout): Dropout(p=0.0, inplace=False)\n",
       "          )\n",
       "          (layernorm_before): LayerNorm((768,), eps=1e-12, elementwise_affine=True)\n",
       "          (layernorm_after): LayerNorm((768,), eps=1e-12, elementwise_affine=True)\n",
       "        )\n",
       "      )\n",
       "    )\n",
       "    (layernorm): LayerNorm((768,), eps=1e-12, elementwise_affine=True)\n",
       "  )\n",
       "  (classifier): Linear(in_features=768, out_features=5, bias=True)\n",
       ")"
      ]
     },
     "execution_count": 15,
     "metadata": {},
     "output_type": "execute_result"
    }
   ],
   "source": [
    "from transformers import ViTForImageClassification\n",
    "\n",
    "id2label = {id:label for id, label in enumerate(classes)}\n",
    "label2id = {label:id for id, label in enumerate(classes)}\n",
    "\n",
    "model = ViTForImageClassification.from_pretrained(\n",
    "    'google/vit-base-patch16-224-in21k',\n",
    "    num_labels=num_classes,\n",
    "    id2label=id2label,\n",
    "    label2id=label2id,\n",
    ")\n",
    "\n",
    "model.to(device)"
   ]
  },
  {
   "cell_type": "markdown",
   "metadata": {},
   "source": [
    "## 5.2 Metric"
   ]
  },
  {
   "cell_type": "code",
   "execution_count": 16,
   "metadata": {},
   "outputs": [],
   "source": [
    "import evaluate\n",
    "import numpy as np\n",
    "\n",
    "metrics = evaluate.load('accuracy')\n",
    "\n",
    "def compute_metrics(p):\n",
    "    preds = np.argmax(p.predictions, axis = 1)\n",
    "    return metrics.compute(predictions = preds, references = p.labels)\n",
    "\n",
    "\n"
   ]
  },
  {
   "cell_type": "markdown",
   "metadata": {},
   "source": [
    "## 5.3 Trainer"
   ]
  },
  {
   "cell_type": "code",
   "execution_count": 23,
   "metadata": {},
   "outputs": [
    {
     "name": "stderr",
     "output_type": "stream",
     "text": [
      "C:\\Users\\Admin\\AppData\\Local\\Temp\\ipykernel_17956\\3875719394.py:46: FutureWarning: `tokenizer` is deprecated and will be removed in version 5.0.0 for `Trainer.__init__`. Use `processing_class` instead.\n",
      "  trainer = Trainer(\n"
     ]
    }
   ],
   "source": [
    "import torch\n",
    "from transformers import ViTImageProcessor\n",
    "from transformers import TrainingArguments, Trainer\n",
    "\n",
    "# Load pretrained ViT image processor\n",
    "feature_extractor = ViTImageProcessor.from_pretrained(\n",
    "    \"google/vit-base-patch16-224-in21k\"\n",
    ")\n",
    "\n",
    "metric_name = \"accuracy\"\n",
    "\n",
    "# Define training arguments\n",
    "args = TrainingArguments(\n",
    "    f\"models\",  # output directory\n",
    "    save_strategy=\"epoch\",\n",
    "    eval_strategy=\"epoch\",\n",
    "    learning_rate=2e-5,\n",
    "    per_device_train_batch_size=512,\n",
    "    per_device_eval_batch_size=512,\n",
    "    num_train_epochs=5,\n",
    "    weight_decay=0.01,\n",
    "    load_best_model_at_end=True,\n",
    "    metric_for_best_model=metric_name,\n",
    "    logging_dir='logs',\n",
    "    remove_unused_columns=False,\n",
    ")\n",
    "\n",
    "\n",
    "def collate_fn(examples):\n",
    "    \"\"\"\n",
    "    Collate function to prepare batch data\n",
    "    Args:\n",
    "        examples: List of tuples (image, label)\n",
    "    Returns:\n",
    "        dict: Contains batched pixel_values and labels\n",
    "    \"\"\"\n",
    "    pixel_values = torch.stack([example[0] for example in examples])\n",
    "    labels = torch.tensor([example[1] for example in examples])\n",
    "    return {\n",
    "        \"pixel_values\": pixel_values,\n",
    "        \"labels\": labels\n",
    "    }\n",
    "\n",
    "\n",
    "# Initialize trainer\n",
    "trainer = Trainer(\n",
    "    model=model,\n",
    "    args=args,\n",
    "    train_dataset=train_dataset,\n",
    "    eval_dataset=valid_dataset,\n",
    "    data_collator=collate_fn,\n",
    "    compute_metrics=compute_metrics,\n",
    "    tokenizer=feature_extractor,\n",
    ")"
   ]
  },
  {
   "cell_type": "markdown",
   "metadata": {},
   "source": [
    "## 5.4 Training"
   ]
  },
  {
   "cell_type": "code",
   "execution_count": 24,
   "metadata": {},
   "outputs": [
    {
     "ename": "",
     "evalue": "",
     "output_type": "error",
     "traceback": [
      "\u001b[1;31mThe Kernel crashed while executing code in the current cell or a previous cell. \n",
      "\u001b[1;31mPlease review the code in the cell(s) to identify a possible cause of the failure. \n",
      "\u001b[1;31mClick <a href='https://aka.ms/vscodeJupyterKernelCrash'>here</a> for more info. \n",
      "\u001b[1;31mView Jupyter <a href='command:jupyter.viewOutput'>log</a> for further details."
     ]
    }
   ],
   "source": [
    "trainer.train()\n",
    "outputs = trainer.predict(test_dataset)\n",
    "outputs.metrics\n"
   ]
  },
  {
   "cell_type": "code",
   "execution_count": null,
   "metadata": {},
   "outputs": [],
   "source": []
  }
 ],
 "metadata": {
  "kernelspec": {
   "display_name": "aio2024-hw",
   "language": "python",
   "name": "python3"
  },
  "language_info": {
   "codemirror_mode": {
    "name": "ipython",
    "version": 3
   },
   "file_extension": ".py",
   "mimetype": "text/x-python",
   "name": "python",
   "nbconvert_exporter": "python",
   "pygments_lexer": "ipython3",
   "version": "3.12.9"
  }
 },
 "nbformat": 4,
 "nbformat_minor": 2
}
