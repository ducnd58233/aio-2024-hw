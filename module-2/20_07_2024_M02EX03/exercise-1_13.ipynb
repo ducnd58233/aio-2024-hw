{
 "cells": [
  {
   "cell_type": "code",
   "execution_count": 1,
   "metadata": {},
   "outputs": [],
   "source": [
    "import numpy as np"
   ]
  },
  {
   "cell_type": "code",
   "execution_count": 2,
   "metadata": {},
   "outputs": [],
   "source": [
    "tennis_data = np.array([['Sunny','Hot', 'High', 'Weak', 'no'],\n",
    "    ['Sunny','Hot', 'High', 'Strong', 'no'],\n",
    "    ['Overcast','Hot', 'High', 'Weak', 'yes'],\n",
    "    ['Rain','Mild', 'High', 'Weak', 'yes'],\n",
    "    ['Rain','Cool', 'Normal', 'Weak', 'yes'],\n",
    "    ['Rain','Cool', 'Normal', 'Strong', 'no'],\n",
    "    ['Overcast','Cool', 'Normal', 'Strong', 'yes'],\n",
    "    ['Overcast','Mild', 'High', 'Weak', 'no'],\n",
    "    ['Sunny','Cool', 'Normal', 'Weak', 'yes'],\n",
    "    ['Rain','Mild', 'Normal', 'Weak', 'yes']\n",
    "    ])"
   ]
  },
  {
   "cell_type": "markdown",
   "metadata": {},
   "source": [
    "# CÂU 1:"
   ]
  },
  {
   "cell_type": "code",
   "execution_count": 3,
   "metadata": {},
   "outputs": [
    {
     "name": "stdout",
     "output_type": "stream",
     "text": [
      "[0.6 0.4]\n"
     ]
    }
   ],
   "source": [
    "y_category = [\"yes\", \"no\"]\n",
    "result_tennis = np.zeros(len(y_category))\n",
    "for i in range(0, len(result_tennis), 1):\n",
    "    result_tennis[i] = len(np.where(tennis_data[:, 4] == y_category[i])[0])/len(tennis_data)\n",
    "    \n",
    "print(result_tennis)"
   ]
  },
  {
   "cell_type": "code",
   "execution_count": 4,
   "metadata": {},
   "outputs": [],
   "source": [
    "conditional_probability = []\n",
    "list_feature_category = []\n",
    "for i in range(0, tennis_data.shape[1] - 1, 1):\n",
    "    feature_category = np.unique(tennis_data[:, i])\n",
    "    list_feature_category.append(feature_category)\n",
    "    \n",
    "    feature_category_conditional_probability = np.zeros((len(y_category), len(feature_category)))\n",
    "    for id_y in range(0, len(y_category), 1):\n",
    "        for id_feature in range(0, len(feature_category), 1):\n",
    "            numerator = len(np.where((tennis_data[:, i] == feature_category[id_feature]) & (tennis_data[: , 4] == y_category[id_y]))[0])\n",
    "            denominator = len(np.where(tennis_data[:, 4] == y_category[id_y])[0])\n",
    "            feature_category_conditional_probability[id_y, id_feature] = numerator / denominator\n",
    "    conditional_probability.append(feature_category_conditional_probability)"
   ]
  },
  {
   "cell_type": "code",
   "execution_count": 5,
   "metadata": {},
   "outputs": [
    {
     "name": "stdout",
     "output_type": "stream",
     "text": [
      "feature catefory in each column: ['Overcast' 'Rain' 'Sunny']\n",
      " Its conditional probability with yes above and no below:\n",
      " [[0.33333333 0.5        0.16666667]\n",
      " [0.25       0.25       0.5       ]]\n",
      "\n",
      "feature catefory in each column: ['Cool' 'Hot' 'Mild']\n",
      " Its conditional probability with yes above and no below:\n",
      " [[0.5        0.16666667 0.33333333]\n",
      " [0.25       0.5        0.25      ]]\n",
      "\n",
      "feature catefory in each column: ['High' 'Normal']\n",
      " Its conditional probability with yes above and no below:\n",
      " [[0.33333333 0.66666667]\n",
      " [0.75       0.25      ]]\n",
      "\n",
      "feature catefory in each column: ['Strong' 'Weak']\n",
      " Its conditional probability with yes above and no below:\n",
      " [[0.16666667 0.83333333]\n",
      " [0.5        0.5       ]]\n",
      "\n"
     ]
    }
   ],
   "source": [
    "for i in range(0, len(list_feature_category), 1):\n",
    "    print(f\"feature catefory in each column: {list_feature_category[i]}\\n Its conditional probability with yes above and no below:\\n {conditional_probability[i]}\\n\")"
   ]
  },
  {
   "cell_type": "markdown",
   "metadata": {},
   "source": [
    "# CÂU 2:"
   ]
  },
  {
   "cell_type": "code",
   "execution_count": 6,
   "metadata": {},
   "outputs": [
    {
     "name": "stdout",
     "output_type": "stream",
     "text": [
      "0.0027777777777777775\n"
     ]
    }
   ],
   "source": [
    "p_X_c = conditional_probability[0][0][2] * conditional_probability[1][0][0] * conditional_probability[2][0][0] * conditional_probability[3][0][0]\n",
    "p_c_X = p_X_c * result_tennis[0]\n",
    "print(p_c_X)"
   ]
  },
  {
   "cell_type": "markdown",
   "metadata": {},
   "source": [
    "# CÂU 3:"
   ]
  },
  {
   "cell_type": "code",
   "execution_count": 7,
   "metadata": {},
   "outputs": [
    {
     "name": "stdout",
     "output_type": "stream",
     "text": [
      "0.018750000000000003\n"
     ]
    }
   ],
   "source": [
    "p_X_c = conditional_probability[0][1][2] * conditional_probability[1][1][0] * conditional_probability[2][1][0] * conditional_probability[3][1][0]\n",
    "p_c_X = p_X_c * result_tennis[1]\n",
    "print(p_c_X)"
   ]
  },
  {
   "cell_type": "markdown",
   "metadata": {},
   "source": [
    "-----------------------------------------------------------------------"
   ]
  },
  {
   "cell_type": "code",
   "execution_count": 8,
   "metadata": {},
   "outputs": [],
   "source": [
    "traffic_data = np.array([\n",
    "    [\"Weekday\", \"Spring\", \"None\", \"None\", \"On Time\"],\n",
    "    [\"Weekday\", \"Winter\", \"None\", \"Slight\", \"On Time\"],\n",
    "    [\"Weekday\", \"Winter\", \"None\", \"None\", \"On Time\"],\n",
    "    [\"Holiday\", \"Winter\", \"High\", \"slight\", \"Late\"],\n",
    "    [\"Saturday\", \"Summer\", \"Normal\", \"None\", \"On Time\"],\n",
    "    [\"Weekday\", \"Autumn\", \"Normal\", \"None\", \"Very Late\"],\n",
    "    [\"Holiday\", \"Summer\", \"High\", \"Slight\", \"On Time\"],\n",
    "    [\"Sunday\", \"Summer\", \"Normal\", \"None\", \"On Time\"],\n",
    "    [\"Weekday\", \"Winter\", \"High\", \"Heavy\", \"Very Late\"],\n",
    "    [\"Weekday\", \"Summer\", \"None\", \"Slight\", \"On Time\"],\n",
    "    [\"Saturday\", \"Spring\", \"High\", \"Heavy\", \"Cancelled\"],\n",
    "    [\"Weekday\", \"Summer\", \"High\", \"Slight\", \"On Time\"],\n",
    "    [\"Weekday\", \"Winter\", \"Normal\", \"None\", \"Late\"],\n",
    "    [\"Weekday\", \"Summer\", \"High\", \"None\", \"On Time\"],\n",
    "    [\"Weekday\", \"Winter\", \"Normal\", \"Heavy\", \"Very Late\"],\n",
    "    [\"Saturday\", \"Autumn\", \"High\", \"Slight\", \"On Time\"],\n",
    "    [\"Weekday\", \"Autumn\", \"None\", \"Heavy\", \"On Time\"],\n",
    "    [\"Holiday\", \"Spring\", \"Normal\", \"Slight\", \"On Time\"],\n",
    "    [\"Weekday\", \"Spring\", \"Normal\", \"None\", \"On Time\"],\n",
    "    [\"Weekday\", \"Spring\", \"Normal\", \"Heavy\", \"On Time\"]\n",
    "])"
   ]
  },
  {
   "cell_type": "markdown",
   "metadata": {},
   "source": [
    "# CÂU 5"
   ]
  },
  {
   "cell_type": "code",
   "execution_count": 9,
   "metadata": {},
   "outputs": [],
   "source": [
    "def calculate_y_probability(data):\n",
    "    y_category = np.unique(data[:, data.shape[1] - 1])\n",
    "    y_probability = np.zeros(len(y_category))\n",
    "    for i in range(0, len(y_probability), 1):\n",
    "        y_probability[i] = len(np.where(data[:, data.shape[1] - 1] == y_category[i])[0])/len(data)\n",
    "    \n",
    "    return y_category, y_probability"
   ]
  },
  {
   "cell_type": "code",
   "execution_count": 10,
   "metadata": {},
   "outputs": [
    {
     "name": "stdout",
     "output_type": "stream",
     "text": [
      "class: Cancelled has probablity: 0.05\n",
      "class: Late has probablity: 0.1\n",
      "class: On Time has probablity: 0.7\n",
      "class: Very Late has probablity: 0.15\n"
     ]
    }
   ],
   "source": [
    "y_category, y_probability = calculate_y_probability(traffic_data)\n",
    "for i in range(0, len(y_probability), 1):\n",
    "    print(f\"class: {y_category[i]} has probablity: {y_probability[i]}\")"
   ]
  },
  {
   "cell_type": "code",
   "execution_count": 11,
   "metadata": {},
   "outputs": [],
   "source": [
    "def calculate_condition_probability(data):\n",
    "    y_category = np.unique(data[:, data.shape[1] - 1])\n",
    "    conditional_probability = []\n",
    "    list_feature_category = []\n",
    "    for i in range(0, data.shape[1] - 1, 1):\n",
    "        feature_category = np.unique(data[:, i])\n",
    "        list_feature_category.append(feature_category)\n",
    "        \n",
    "        feature_category_conditional_probability = np.zeros((len(y_category), len(feature_category)))\n",
    "        for id_y in range(0, len(y_category), 1):\n",
    "            for id_feature in range(0, len(feature_category), 1):\n",
    "                numerator = len(np.where((data[:, i] == feature_category[id_feature]) & (data[: , data.shape[1] - 1] == y_category[id_y]))[0])\n",
    "                denominator = len(np.where(data[:, data.shape[1] - 1] == y_category[id_y])[0])\n",
    "                feature_category_conditional_probability[id_y, id_feature] = numerator / denominator\n",
    "        conditional_probability.append(feature_category_conditional_probability)\n",
    "        \n",
    "    return list_feature_category, conditional_probability"
   ]
  },
  {
   "cell_type": "code",
   "execution_count": 12,
   "metadata": {},
   "outputs": [
    {
     "name": "stdout",
     "output_type": "stream",
     "text": [
      "feature catefory in each column: ['Holiday' 'Saturday' 'Sunday' 'Weekday']\n",
      " Its conditional probability respectively:\n",
      " [[0.         1.         0.         0.        ]\n",
      " [0.5        0.         0.         0.5       ]\n",
      " [0.14285714 0.14285714 0.07142857 0.64285714]\n",
      " [0.         0.         0.         1.        ]]\n",
      "\n",
      "feature catefory in each column: ['Autumn' 'Spring' 'Summer' 'Winter']\n",
      " Its conditional probability respectively:\n",
      " [[0.         1.         0.         0.        ]\n",
      " [0.         0.         0.         1.        ]\n",
      " [0.14285714 0.28571429 0.42857143 0.14285714]\n",
      " [0.33333333 0.         0.         0.66666667]]\n",
      "\n",
      "feature catefory in each column: ['High' 'None' 'Normal']\n",
      " Its conditional probability respectively:\n",
      " [[1.         0.         0.        ]\n",
      " [0.5        0.         0.5       ]\n",
      " [0.28571429 0.35714286 0.35714286]\n",
      " [0.33333333 0.         0.66666667]]\n",
      "\n",
      "feature catefory in each column: ['Heavy' 'None' 'Slight' 'slight']\n",
      " Its conditional probability respectively:\n",
      " [[1.         0.         0.         0.        ]\n",
      " [0.         0.5        0.         0.5       ]\n",
      " [0.14285714 0.42857143 0.42857143 0.        ]\n",
      " [0.66666667 0.33333333 0.         0.        ]]\n",
      "\n"
     ]
    }
   ],
   "source": [
    "list_feature_category, conditional_probability = calculate_condition_probability(traffic_data)\n",
    "for i in range(0, len(list_feature_category), 1):\n",
    "    print(f\"feature catefory in each column: {list_feature_category[i]}\\n Its conditional probability respectively:\\n {conditional_probability[i]}\\n\")"
   ]
  },
  {
   "cell_type": "markdown",
   "metadata": {},
   "source": [
    "# CÂU 6, 7, 8, 9:"
   ]
  },
  {
   "cell_type": "code",
   "execution_count": 13,
   "metadata": {},
   "outputs": [
    {
     "name": "stdout",
     "output_type": "stream",
     "text": [
      "class: Cancelled has conditional probablity: 0.0\n",
      "class: Late has conditional probablity: 0.0\n",
      "class: On Time has conditional probablity: 0.0026239067055393583\n",
      "class: Very Late has conditional probablity: 0.02222222222222222\n"
     ]
    }
   ],
   "source": [
    "for i in range(0, len(y_probability), 1):\n",
    "    p_X_c_2 = conditional_probability[0][i][3] * conditional_probability[1][i][3] * conditional_probability[2][i][0] * conditional_probability[3][i][0]\n",
    "    p_c = y_probability[i]\n",
    "    result = p_X_c_2 * p_c\n",
    "    print(f\"class: {y_category[i]} has conditional probablity: {result}\")"
   ]
  },
  {
   "cell_type": "markdown",
   "metadata": {},
   "source": [
    "----------------------------------------------"
   ]
  },
  {
   "cell_type": "code",
   "execution_count": 14,
   "metadata": {},
   "outputs": [],
   "source": [
    "iris_data = np.array([\n",
    "    [1.4, 1.0, 1.3, 1.9, 2.0, 1.8, 3.0, 3.8, 4.1, 3.9, 4.2, 3.4],\n",
    "    [0, 0, 0, 0, 0, 0, 1, 1, 1, 1, 1, 1]\n",
    "])"
   ]
  },
  {
   "cell_type": "code",
   "execution_count": 15,
   "metadata": {},
   "outputs": [
    {
     "name": "stdout",
     "output_type": "stream",
     "text": [
      "[0. 1.]\n"
     ]
    }
   ],
   "source": [
    "y_category = np.unique(iris_data[1, :])\n",
    "print(y_category)"
   ]
  },
  {
   "cell_type": "markdown",
   "metadata": {},
   "source": [
    "# CÂU 11"
   ]
  },
  {
   "cell_type": "code",
   "execution_count": 16,
   "metadata": {},
   "outputs": [
    {
     "name": "stdout",
     "output_type": "stream",
     "text": [
      "1.5666666666666667\n",
      "0.1288888888888889\n"
     ]
    }
   ],
   "source": [
    "mean_iris_0 = np.mean(iris_data[0][np.where(iris_data[1, :] == y_category[0])])\n",
    "print(mean_iris_0)\n",
    "var_iris_0 = np.var(iris_data[0][np.where(iris_data[1, :] == y_category[0])])\n",
    "print(var_iris_0)"
   ]
  },
  {
   "cell_type": "markdown",
   "metadata": {},
   "source": [
    "# CÂU 12"
   ]
  },
  {
   "cell_type": "code",
   "execution_count": 17,
   "metadata": {},
   "outputs": [
    {
     "name": "stdout",
     "output_type": "stream",
     "text": [
      "3.733333333333333\n",
      "0.1722222222222222\n"
     ]
    }
   ],
   "source": [
    "mean_iris_1 = np.mean(iris_data[0][np.where(iris_data[1, :] == y_category[1])])\n",
    "print(mean_iris_1)\n",
    "var_iris_1 = np.var(iris_data[0][np.where(iris_data[1, :] == y_category[1])])\n",
    "print(var_iris_1)"
   ]
  },
  {
   "cell_type": "markdown",
   "metadata": {},
   "source": [
    "# CÂU 13"
   ]
  },
  {
   "cell_type": "code",
   "execution_count": 18,
   "metadata": {},
   "outputs": [],
   "source": [
    "iris_datga_transpose = iris_data.T"
   ]
  },
  {
   "cell_type": "code",
   "execution_count": 19,
   "metadata": {},
   "outputs": [],
   "source": [
    "def calculate_y_probability(data):\n",
    "    y_category = np.unique(data[:, data.shape[1] - 1])\n",
    "    y_probability = np.zeros(len(y_category))\n",
    "    for i in range(0, len(y_probability), 1):\n",
    "        y_probability[i] = len(np.where(data[:, data.shape[1] - 1] == y_category[i])[0])/len(data)\n",
    "    \n",
    "    return y_category, y_probability"
   ]
  },
  {
   "cell_type": "code",
   "execution_count": 20,
   "metadata": {},
   "outputs": [
    {
     "name": "stdout",
     "output_type": "stream",
     "text": [
      "class: 0.0 has probablity: 0.5\n",
      "class: 1.0 has probablity: 0.5\n"
     ]
    }
   ],
   "source": [
    "y_category, y_probability = calculate_y_probability(iris_datga_transpose)\n",
    "for i in range(0, len(y_probability), 1):\n",
    "    print(f\"class: {y_category[i]} has probablity: {y_probability[i]}\")"
   ]
  },
  {
   "cell_type": "code",
   "execution_count": 21,
   "metadata": {},
   "outputs": [],
   "source": [
    "def gaussian_probability(x, mean, variance):\n",
    "    exponent = np.exp(-((x - mean)**2 / (2 * variance)))\n",
    "    return (1 / (np.sqrt(2 * np.pi * variance))) * exponent"
   ]
  },
  {
   "cell_type": "code",
   "execution_count": 22,
   "metadata": {},
   "outputs": [
    {
     "name": "stdout",
     "output_type": "stream",
     "text": [
      "P(Class=0|X=3.4): [1.20808206e-06]\n",
      "P(Class=1|X=3.4): [0.34812922]\n"
     ]
    }
   ],
   "source": [
    "x = np.array([3.4])\n",
    "prob_class_0 = gaussian_probability(x, mean_iris_0, var_iris_0) * y_probability[0]\n",
    "prob_class_1 = gaussian_probability(x, mean_iris_1, var_iris_1) * y_probability[1]\n",
    "\n",
    "\n",
    "print(\"P(Class=0|X=3.4):\", prob_class_0)\n",
    "print(\"P(Class=1|X=3.4):\", prob_class_1)"
   ]
  },
  {
   "cell_type": "code",
   "execution_count": null,
   "metadata": {},
   "outputs": [],
   "source": []
  }
 ],
 "metadata": {
  "kernelspec": {
   "display_name": "aio2024-hw",
   "language": "python",
   "name": "python3"
  },
  "language_info": {
   "codemirror_mode": {
    "name": "ipython",
    "version": 3
   },
   "file_extension": ".py",
   "mimetype": "text/x-python",
   "name": "python",
   "nbconvert_exporter": "python",
   "pygments_lexer": "ipython3",
   "version": "3.12.3"
  }
 },
 "nbformat": 4,
 "nbformat_minor": 2
}
