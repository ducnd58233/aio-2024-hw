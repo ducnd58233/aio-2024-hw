{
 "cells": [
  {
   "cell_type": "markdown",
   "metadata": {},
   "source": [
    "# I."
   ]
  },
  {
   "cell_type": "markdown",
   "metadata": {},
   "source": [
    "## Ex1"
   ]
  },
  {
   "cell_type": "code",
   "execution_count": 12,
   "metadata": {},
   "outputs": [
    {
     "name": "stdout",
     "output_type": "stream",
     "text": [
      "precision is 0.4\n",
      "recall is 0.3333333333333333\n",
      "f1_score is 0.3636363636363636\n",
      "tp must be int\n",
      "fp must be int\n",
      "fn must be int\n",
      "tp and fp and fn must be greater than zero\n",
      "tp must be int\n"
     ]
    }
   ],
   "source": [
    "def validation(**kwargs) -> str:\n",
    "    for key, value in kwargs.items():\n",
    "        if not isinstance(value, int):\n",
    "            return f'{key} must be int'\n",
    "        if value <= 0:\n",
    "            return 'tp and fp and fn must be greater than zero'\n",
    "    return ''\n",
    "\n",
    "def exercise1(tp, fp, fn) -> str:\n",
    "    validation_err = validation(tp=tp, fp=fp, fn=fn)\n",
    "    if validation_err:\n",
    "        print(validation_err)\n",
    "        return\n",
    "\n",
    "    precision = tp / (tp + fp)\n",
    "    recall = tp / (tp + fn)\n",
    "    f1_score = 2 * (precision * recall) / (precision + recall)\n",
    "    print(f\"precision is {precision}\")\n",
    "    print(f\"recall is {recall}\")\n",
    "    print(f\"f1_score is {f1_score}\")\n",
    "\n",
    "exercise1(tp=2, fp=3, fn=4)\n",
    "exercise1(tp='a', fp=3, fn=4)\n",
    "exercise1(tp=2, fp='a', fn=4)\n",
    "exercise1(tp=2, fp=3, fn='a')\n",
    "exercise1(tp=2, fp=3, fn=0)\n",
    "exercise1(tp=2.1, fp=3, fn=0)"
   ]
  },
  {
   "cell_type": "markdown",
   "metadata": {},
   "source": [
    "## Ex2\n"
   ]
  },
  {
   "cell_type": "code",
   "execution_count": 19,
   "metadata": {},
   "outputs": [],
   "source": [
    "import math\n",
    "\n",
    "def is_number(n):\n",
    "    try:\n",
    "        float(n)\n",
    "    except ValueError:\n",
    "        return False\n",
    "    return True\n",
    "\n",
    "def sigmoid(x):\n",
    "    return 1 / (1 + math.e ** (-x))\n",
    "\n",
    "def relu(x):\n",
    "    return 0 if x <= 0 else x\n",
    "\n",
    "def elu(x):\n",
    "    alpha = 0.01\n",
    "    return x if x > 0 else alpha * (math.e ** x - 1)\n",
    "    \n",
    "\n",
    "def exercise2():\n",
    "    allowed_func = {\n",
    "        'sigmoid': sigmoid,\n",
    "        'relu': relu,\n",
    "        'elu': elu,\n",
    "    }\n",
    "    \n",
    "    x = input('Input x = ')\n",
    "    if not is_number(x):\n",
    "        print('x must be a number')\n",
    "        return\n",
    "    x = float(x)\n",
    "    \n",
    "    activation = input('Input activation function (sigmoid|relu|elu): ')\n",
    "    if not activation in allowed_func:\n",
    "        print(f'{activation} is not supported')\n",
    "        return\n",
    "        \n",
    "    result = allowed_func[activation](x)\n",
    "    print(f'{activation}: f({x})={result}')"
   ]
  },
  {
   "cell_type": "code",
   "execution_count": 16,
   "metadata": {},
   "outputs": [
    {
     "name": "stdout",
     "output_type": "stream",
     "text": [
      "sigmoid: f(1.5)=0.8175744761936437\n"
     ]
    }
   ],
   "source": [
    "# exercise2()"
   ]
  },
  {
   "cell_type": "code",
   "execution_count": 17,
   "metadata": {},
   "outputs": [
    {
     "name": "stdout",
     "output_type": "stream",
     "text": [
      "x must be a number\n"
     ]
    }
   ],
   "source": [
    "# exercise2()"
   ]
  },
  {
   "cell_type": "code",
   "execution_count": 20,
   "metadata": {},
   "outputs": [
    {
     "name": "stdout",
     "output_type": "stream",
     "text": [
      "belu is not supported\n"
     ]
    }
   ],
   "source": [
    "# exercise2()"
   ]
  },
  {
   "cell_type": "markdown",
   "metadata": {},
   "source": [
    "## Ex3"
   ]
  },
  {
   "cell_type": "code",
   "execution_count": 77,
   "metadata": {},
   "outputs": [],
   "source": [
    "import math\n",
    "import random\n",
    "\n",
    "def loss_mae(target, predict):\n",
    "    return abs(target - predict)\n",
    "\n",
    "def loss_mse(target, predict):\n",
    "    return (target - predict) ** 2\n",
    "\n",
    "def exercise3():\n",
    "    allowed_loss_func = {\n",
    "        \"MAE\": loss_mae,\n",
    "        \"MSE\": loss_mse,\n",
    "        \"RMSE\": loss_mse,\n",
    "    }\n",
    "\n",
    "    num_samples = input(\n",
    "        'Input number of samples (integer number) which are generated: '\n",
    "    )\n",
    "    if not num_samples.isnumeric():\n",
    "        print('number of samples must be an integer number')\n",
    "        return\n",
    "    num_samples = int(num_samples)\n",
    "    loss_name = input('Input loss name (MAE|MSE|RMSE): ')\n",
    "    total_loss = 0\n",
    "\n",
    "    for sample in range(num_samples):\n",
    "        predict = random.uniform(0, 10)\n",
    "        target = random.uniform(0, 10)\n",
    "        loss = allowed_loss_func[loss_name](target, predict)\n",
    "        total_loss += allowed_loss_func[loss_name](target, predict)\n",
    "\n",
    "        print(f\"loss name: {loss_name}, sample: {sample}, pred: {predict}, target: {target}, loss: {loss}\")\n",
    "\n",
    "    cost = total_loss / num_samples\n",
    "    if loss_name == 'RMSE':\n",
    "        cost = math.sqrt(cost)\n",
    "    print(f'cost {loss_name}: {cost}')"
   ]
  },
  {
   "cell_type": "code",
   "execution_count": 78,
   "metadata": {},
   "outputs": [
    {
     "name": "stdout",
     "output_type": "stream",
     "text": [
      "loss name: RMSE, sample: 0, pred: 5.908940574186639, target: 6.425530330921379, loss: 0.26686497676325827\n",
      "loss name: RMSE, sample: 1, pred: 2.125117401151276, target: 4.194926961397085, loss: 4.2841116156849495\n",
      "loss name: RMSE, sample: 2, pred: 1.3587037658528656, target: 3.873497394743124, loss: 6.324186995907033\n",
      "loss name: RMSE, sample: 3, pred: 1.7912987691963511, target: 0.30846234118336313, loss: 2.1988038722423173\n",
      "loss name: RMSE, sample: 4, pred: 8.775090967988048, target: 9.090481097050331, loss: 0.09947093350992375\n",
      "cost RMSE: 1.6231721038822398\n"
     ]
    }
   ],
   "source": [
    "exercise3()"
   ]
  },
  {
   "cell_type": "markdown",
   "metadata": {},
   "source": [
    "## Ex4"
   ]
  },
  {
   "cell_type": "code",
   "execution_count": 2,
   "metadata": {},
   "outputs": [],
   "source": [
    "def sin(x, n):\n",
    "    final_result = x\n",
    "    factorial = 1\n",
    "    \n",
    "    for i in range(1, n + 1):\n",
    "        numerator = ((-1) ** i) * (x ** (2 * i + 1))\n",
    "        factorial = factorial * (2 * i) * (2 * i + 1)\n",
    "        final_result +=  numerator / factorial\n",
    "    return final_result\n",
    "\n",
    "def cos(x, n):\n",
    "    final_result = 1\n",
    "    factorial = 1\n",
    "    \n",
    "    for i in range(1, n + 1):\n",
    "        numerator = ((-1) ** i) * (x ** (2 * i))\n",
    "        factorial = factorial * (2 * i - 1) * (2 * i)\n",
    "        final_result +=  numerator / factorial\n",
    "    return final_result\n",
    "\n",
    "def sinh(x, n):\n",
    "    final_result = x\n",
    "    factorial = 1\n",
    "    \n",
    "    for i in range(1, n + 1):\n",
    "        numerator = x ** (2 * i + 1)\n",
    "        factorial = factorial * (2 * i) * (2 * i + 1)\n",
    "        final_result +=  numerator / factorial\n",
    "    return final_result\n",
    "\n",
    "def cosh(x, n):\n",
    "    final_result = 1\n",
    "    factorial = 1\n",
    "\n",
    "    for i in range(1, n + 1):\n",
    "        numerator = x ** (2 * i)\n",
    "        factorial = factorial * (2 * i - 1) * (2 * i)\n",
    "        final_result += numerator / factorial\n",
    "    return final_result"
   ]
  },
  {
   "cell_type": "code",
   "execution_count": 3,
   "metadata": {},
   "outputs": [
    {
     "data": {
      "text/plain": [
       "0.0015926529267151343"
      ]
     },
     "execution_count": 3,
     "metadata": {},
     "output_type": "execute_result"
    }
   ],
   "source": [
    "sin(3.14, 10)"
   ]
  },
  {
   "cell_type": "code",
   "execution_count": 4,
   "metadata": {},
   "outputs": [
    {
     "data": {
      "text/plain": [
       "-0.9999987316527259"
      ]
     },
     "execution_count": 4,
     "metadata": {},
     "output_type": "execute_result"
    }
   ],
   "source": [
    "cos(3.14, 10)"
   ]
  },
  {
   "cell_type": "code",
   "execution_count": 5,
   "metadata": {},
   "outputs": [
    {
     "data": {
      "text/plain": [
       "11.53029203039954"
      ]
     },
     "execution_count": 5,
     "metadata": {},
     "output_type": "execute_result"
    }
   ],
   "source": [
    "sinh(3.14, 10)"
   ]
  },
  {
   "cell_type": "code",
   "execution_count": 6,
   "metadata": {},
   "outputs": [
    {
     "data": {
      "text/plain": [
       "11.573574828234543"
      ]
     },
     "execution_count": 6,
     "metadata": {},
     "output_type": "execute_result"
    }
   ],
   "source": [
    "cosh(3.14, 10)"
   ]
  },
  {
   "cell_type": "markdown",
   "metadata": {},
   "source": [
    "## Ex5: Mean Difference of nth Root Error:"
   ]
  },
  {
   "cell_type": "code",
   "execution_count": 100,
   "metadata": {},
   "outputs": [],
   "source": [
    "def md_nre_single_sample(y, y_hat, n, p):\n",
    "    return ((y ** (1 / n)) - (y_hat ** (1 / n))) ** p"
   ]
  },
  {
   "cell_type": "code",
   "execution_count": 101,
   "metadata": {},
   "outputs": [
    {
     "data": {
      "text/plain": [
       "0.025031328369998107"
      ]
     },
     "execution_count": 101,
     "metadata": {},
     "output_type": "execute_result"
    }
   ],
   "source": [
    "md_nre_single_sample(100, 99.5, 2, 1)"
   ]
  },
  {
   "cell_type": "code",
   "execution_count": 102,
   "metadata": {},
   "outputs": [
    {
     "data": {
      "text/plain": [
       "0.03544417213033135"
      ]
     },
     "execution_count": 102,
     "metadata": {},
     "output_type": "execute_result"
    }
   ],
   "source": [
    "md_nre_single_sample(50, 49.5, 2, 1)"
   ]
  },
  {
   "cell_type": "code",
   "execution_count": 103,
   "metadata": {},
   "outputs": [
    {
     "data": {
      "text/plain": [
       "0.05625552183565574"
      ]
     },
     "execution_count": 103,
     "metadata": {},
     "output_type": "execute_result"
    }
   ],
   "source": [
    "md_nre_single_sample(20, 19.5, 2, 1)"
   ]
  },
  {
   "cell_type": "code",
   "execution_count": 104,
   "metadata": {},
   "outputs": [
    {
     "data": {
      "text/plain": [
       "0.45836890322464546"
      ]
     },
     "execution_count": 104,
     "metadata": {},
     "output_type": "execute_result"
    }
   ],
   "source": [
    "md_nre_single_sample(0.6, 0.1, 2, 1)"
   ]
  },
  {
   "cell_type": "markdown",
   "metadata": {},
   "source": [
    "# II."
   ]
  },
  {
   "cell_type": "markdown",
   "metadata": {},
   "source": [
    "## Q1"
   ]
  },
  {
   "cell_type": "code",
   "execution_count": 109,
   "metadata": {},
   "outputs": [
    {
     "name": "stdout",
     "output_type": "stream",
     "text": [
      "precision is 0.4\n",
      "recall is 0.2857142857142857\n",
      "f1_score is 0.3333333333333333\n"
     ]
    }
   ],
   "source": [
    "exercise1(2, 3, 5)"
   ]
  },
  {
   "cell_type": "markdown",
   "metadata": {},
   "source": [
    "## Q2"
   ]
  },
  {
   "cell_type": "code",
   "execution_count": 113,
   "metadata": {},
   "outputs": [],
   "source": [
    "assert is_number(3) == 1.0\n",
    "assert is_number('-2a') == 0.0"
   ]
  },
  {
   "cell_type": "markdown",
   "metadata": {},
   "source": [
    "## Q4"
   ]
  },
  {
   "cell_type": "code",
   "execution_count": 115,
   "metadata": {},
   "outputs": [
    {
     "name": "stdout",
     "output_type": "stream",
     "text": [
      "sigmoid: f(2.0)=0.8807970779778823\n"
     ]
    }
   ],
   "source": [
    "exercise2()"
   ]
  },
  {
   "cell_type": "markdown",
   "metadata": {},
   "source": [
    "## Q5"
   ]
  },
  {
   "cell_type": "code",
   "execution_count": 116,
   "metadata": {},
   "outputs": [
    {
     "name": "stdout",
     "output_type": "stream",
     "text": [
      "elu: f(-1.0)=-0.006321205588285576\n"
     ]
    }
   ],
   "source": [
    "exercise2()"
   ]
  },
  {
   "cell_type": "code",
   "execution_count": 117,
   "metadata": {},
   "outputs": [
    {
     "data": {
      "text/plain": [
       "-0.01"
      ]
     },
     "execution_count": 117,
     "metadata": {},
     "output_type": "execute_result"
    }
   ],
   "source": [
    "round(-0.006321205588285576, 2)"
   ]
  },
  {
   "cell_type": "markdown",
   "metadata": {},
   "source": [
    "## Q6"
   ]
  },
  {
   "cell_type": "code",
   "execution_count": 118,
   "metadata": {},
   "outputs": [
    {
     "name": "stdout",
     "output_type": "stream",
     "text": [
      "sigmoid: f(3.0)=0.9525741268224331\n"
     ]
    }
   ],
   "source": [
    "exercise2()"
   ]
  },
  {
   "cell_type": "markdown",
   "metadata": {},
   "source": [
    "## Q9"
   ]
  },
  {
   "cell_type": "code",
   "execution_count": 119,
   "metadata": {},
   "outputs": [
    {
     "data": {
      "text/plain": [
       "-1.0"
      ]
     },
     "execution_count": 119,
     "metadata": {},
     "output_type": "execute_result"
    }
   ],
   "source": [
    "round(cos(x=3.14, n=10), 2)"
   ]
  },
  {
   "cell_type": "markdown",
   "metadata": {},
   "source": [
    "## Q10"
   ]
  },
  {
   "cell_type": "code",
   "execution_count": 120,
   "metadata": {},
   "outputs": [
    {
     "data": {
      "text/plain": [
       "0.0016"
      ]
     },
     "execution_count": 120,
     "metadata": {},
     "output_type": "execute_result"
    }
   ],
   "source": [
    "round(sin(x=3.14, n=10), 4)"
   ]
  },
  {
   "cell_type": "markdown",
   "metadata": {},
   "source": [
    "## Q11"
   ]
  },
  {
   "cell_type": "code",
   "execution_count": 121,
   "metadata": {},
   "outputs": [
    {
     "data": {
      "text/plain": [
       "11.53"
      ]
     },
     "execution_count": 121,
     "metadata": {},
     "output_type": "execute_result"
    }
   ],
   "source": [
    "round(sinh(x=3.14, n=10), 2)"
   ]
  },
  {
   "cell_type": "markdown",
   "metadata": {},
   "source": [
    "## Q12"
   ]
  },
  {
   "cell_type": "code",
   "execution_count": 122,
   "metadata": {},
   "outputs": [
    {
     "data": {
      "text/plain": [
       "11.57"
      ]
     },
     "execution_count": 122,
     "metadata": {},
     "output_type": "execute_result"
    }
   ],
   "source": [
    "round(cosh(x=3.14, n=10), 2)"
   ]
  },
  {
   "cell_type": "code",
   "execution_count": null,
   "metadata": {},
   "outputs": [],
   "source": []
  }
 ],
 "metadata": {
  "kernelspec": {
   "display_name": "aio2024-hw",
   "language": "python",
   "name": "python3"
  },
  "language_info": {
   "codemirror_mode": {
    "name": "ipython",
    "version": 3
   },
   "file_extension": ".py",
   "mimetype": "text/x-python",
   "name": "python",
   "nbconvert_exporter": "python",
   "pygments_lexer": "ipython3",
   "version": "3.12.3"
  }
 },
 "nbformat": 4,
 "nbformat_minor": 2
}
