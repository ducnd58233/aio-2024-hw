{
 "cells": [
  {
   "cell_type": "code",
   "execution_count": 2,
   "metadata": {},
   "outputs": [],
   "source": [
    "import torch\n",
    "import torch.nn as nn"
   ]
  },
  {
   "cell_type": "code",
   "execution_count": 3,
   "metadata": {},
   "outputs": [],
   "source": [
    "input1 = torch.tensor([\n",
    "    [[1, 2, 0],\n",
    "     [0, 3, 1],\n",
    "     [1, 0, 1]]\n",
    "], dtype=torch.float32).unsqueeze(0) # Shape: [1, 1, 3, 3]\n",
    "\n",
    "input2 = torch.tensor([\n",
    "    [[0, 3, 1],\n",
    "     [1, 3, 0],\n",
    "     [2, 0, 2]]\n",
    "], dtype=torch.float32).unsqueeze(0)  # Shape: [1, 1, 3, 3]\n",
    "\n",
    "# Combine into a batch\n",
    "batch_input = torch.cat([input1, input2], dim=0)  # Shape: [2, 1, 3, 3]"
   ]
  },
  {
   "cell_type": "code",
   "execution_count": 11,
   "metadata": {},
   "outputs": [],
   "source": [
    "class ConvNet(nn.Module):\n",
    "    def __init__(self):\n",
    "        super(ConvNet, self).__init__()\n",
    "        # Define 3 convolutional filters (2x2)\n",
    "        # Shape: [out_channels=3, in_channels=1, height=2, width=2]\n",
    "        self.conv_filters = nn.Parameter(torch.tensor([\n",
    "            [[[1, 0],\n",
    "              [0, 1]]],\n",
    "            [[[0, 1],\n",
    "              [1, 0]]],\n",
    "            [[[1, 1],\n",
    "              [1, 0]]]\n",
    "        ], dtype=torch.float32))  # Shape: [3, 1, 2, 2]\n",
    "\n",
    "        # BatchNorm layer\n",
    "        self.batch_norm = nn.BatchNorm2d(num_features=3, eps=1e-5)\n",
    "\n",
    "        # ReLU activation\n",
    "        self.relu = nn.ReLU()\n",
    "\n",
    "        # Max Pooling layer\n",
    "        self.max_pool = nn.MaxPool2d(kernel_size=2, stride=1)\n",
    "\n",
    "    def forward(self, x):\n",
    "        # Convolution\n",
    "        x = nn.functional.conv2d(x, self.conv_filters,\n",
    "                                 bias=None, padding=0) + 2\n",
    "        # BatchNorm\n",
    "        x = self.batch_norm(x)\n",
    "        # ReLU\n",
    "        x = self.relu(x)\n",
    "        # Max Pooling\n",
    "        x = self.max_pool(x)\n",
    "        return x"
   ]
  },
  {
   "cell_type": "markdown",
   "metadata": {},
   "source": [
    "Q8"
   ]
  },
  {
   "cell_type": "code",
   "execution_count": 16,
   "metadata": {},
   "outputs": [
    {
     "ename": "AttributeError",
     "evalue": "'Tensor' object has no attribute 'fill'",
     "output_type": "error",
     "traceback": [
      "\u001b[31m---------------------------------------------------------------------------\u001b[39m",
      "\u001b[31mAttributeError\u001b[39m                            Traceback (most recent call last)",
      "\u001b[36mCell\u001b[39m\u001b[36m \u001b[39m\u001b[32mIn[16]\u001b[39m\u001b[32m, line 9\u001b[39m\n\u001b[32m      5\u001b[39m merged_batch = torch.stack([input1_conv, input2_conv])\n\u001b[32m      8\u001b[39m batch_norm = nn.BatchNorm2d(\u001b[32m3\u001b[39m)\n\u001b[32m----> \u001b[39m\u001b[32m9\u001b[39m \u001b[43mbatch_norm\u001b[49m\u001b[43m.\u001b[49m\u001b[43mweight\u001b[49m\u001b[43m.\u001b[49m\u001b[43mdata\u001b[49m\u001b[43m.\u001b[49m\u001b[43mfill\u001b[49m(\u001b[32m1.0\u001b[39m)\n\u001b[32m     10\u001b[39m batch_norm.bias.data.fill(\u001b[32m0.0\u001b[39m)\n\u001b[32m     11\u001b[39m output = batch_norm(merged_batch)\n",
      "\u001b[31mAttributeError\u001b[39m: 'Tensor' object has no attribute 'fill'"
     ]
    }
   ],
   "source": [
    "input1_conv = torch.tensor([[[5.0, 5.0], [3.0, 7.0]],\n",
    "[[6.0, 6.0], [7.0, 2.0]],\n",
    "[[6.0, 9.0], [8.0, 5.0]]]  , dtype=torch.float32)\n",
    "input2_conv = torch.tensor([[[6.0, 5.0], [2.0, 6.0]], [[4.0, 5.0], [6.0, 3.0]], [[5.0, 7.0], [6.0, 6.0]]], dtype=torch.float32)\n",
    "merged_batch = torch.stack([input1_conv, input2_conv])\n",
    "\n",
    "\n",
    "batch_norm = nn.BatchNorm2d(3)\n",
    "batch_norm.weight.data.fill(1.0)\n",
    "batch_norm.bias.data.fill(0.0)\n",
    "output = batch_norm(merged_batch)\n",
    "print(\"Batch Normalization Output:\")\n",
    "print(output)"
   ]
  },
  {
   "cell_type": "markdown",
   "metadata": {},
   "source": [
    "Q13\n",
    "\n",
    "Đầu vào: (1, 3, 256, 256)\n",
    "\n",
    "1. Conv Layer (K=5, P=0, S=1):\n",
    "Output size = (N - K + 2P)/S + 1 = (256 - 5 + 2×0)/1 + 1 = 252\n",
    "\n",
    "Shape sau layer: (1, 3, 252, 252)\n",
    "\n",
    "2. BatchNorm và ReLU không thay đổi shape:\n",
    "\n",
    "Shape sau layer: (1, 3, 252, 252)\n",
    "\n",
    "3. Conv Layer (K=3, P=1, S=1):\n",
    "\n",
    "Output size = (252 - 3 + 2×1)/1 + 1 = 252\n",
    "\n",
    "Shape sau layer: (1, 3, 252, 252)\n",
    "\n",
    "4. Max Pooling Layer (K=2, S=3):\n",
    "Output size = (N - K)/S + 1 = (252 - 2)/3 + 1 = 84\n",
    "\n",
    "Shape sau layer: (1, 3, 84, 84)\n",
    "\n",
    "Trước khi đi vào FC1, tensor sẽ được flatten:\n",
    "\n",
    "Shape = (1, 3, 84, 84)\n",
    "\n",
    "Số features = 3 × 84 × 84 = 21,168"
   ]
  },
  {
   "cell_type": "markdown",
   "metadata": {},
   "source": []
  }
 ],
 "metadata": {
  "kernelspec": {
   "display_name": "aio2024-hw",
   "language": "python",
   "name": "python3"
  },
  "language_info": {
   "codemirror_mode": {
    "name": "ipython",
    "version": 3
   },
   "file_extension": ".py",
   "mimetype": "text/x-python",
   "name": "python",
   "nbconvert_exporter": "python",
   "pygments_lexer": "ipython3",
   "version": "3.12.9"
  }
 },
 "nbformat": 4,
 "nbformat_minor": 2
}
