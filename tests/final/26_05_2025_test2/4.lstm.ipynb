{
 "cells": [
  {
   "cell_type": "markdown",
   "metadata": {},
   "source": [
    "![Simple LSTM](./assets/images/simple_lstm.png)"
   ]
  },
  {
   "cell_type": "markdown",
   "metadata": {},
   "source": [
    "Q19"
   ]
  },
  {
   "cell_type": "code",
   "execution_count": 1,
   "metadata": {},
   "outputs": [
    {
     "name": "stdout",
     "output_type": "stream",
     "text": [
      "Input gate output (i_t): [0.40131234 0.16798161]\n"
     ]
    }
   ],
   "source": [
    "import numpy as np\n",
    "\n",
    "def sigmoid(x):\n",
    "    return 1 / (1 + np.exp(-x))\n",
    "\n",
    "def calc_input_gate(x_t, h_prev, W_xi, W_hi):\n",
    "    \"\"\"\n",
    "    Calculate input gate output for LSTM\n",
    "    \n",
    "    Args:\n",
    "        x_t (np.array): Input vector at time t\n",
    "        h_prev (np.array): Previous hidden state\n",
    "        W_xi (np.array): Input weights for input gate\n",
    "        W_hi (np.array): Hidden weights for input gate\n",
    "    \n",
    "    Returns:\n",
    "        np.array: Input gate output after sigmoid\n",
    "    \"\"\"\n",
    "    input_transform = np.dot(W_xi, x_t)\n",
    "    hidden_transform = np.dot(W_hi, h_prev)\n",
    "    gate_input = input_transform + hidden_transform\n",
    "    \n",
    "    return sigmoid(gate_input)\n",
    "\n",
    "\n",
    "W_xi = np.array([[-1.0, 0.0, 0.2],\n",
    "                 [-1.0, 0.0, -0.2]])\n",
    "\n",
    "W_hi = np.array([[0.0, 1.0],\n",
    "                 [0.0, -1.0]])\n",
    "\n",
    "x_t = np.array([1.0, 2.0, 3.0])\n",
    "h_prev = np.array([0.0, 0.0])\n",
    "\n",
    "i_t = calc_input_gate(x_t, h_prev, W_xi, W_hi)\n",
    "print(\"Input gate output (i_t):\", i_t)"
   ]
  },
  {
   "cell_type": "markdown",
   "metadata": {},
   "source": [
    "Q20"
   ]
  },
  {
   "cell_type": "code",
   "execution_count": 2,
   "metadata": {},
   "outputs": [
    {
     "name": "stdout",
     "output_type": "stream",
     "text": [
      "Output gate (o_t): [0.98522597 0.09975049]\n"
     ]
    }
   ],
   "source": [
    "Wxo = [[1.0, 1.0, 0.4],\n",
    "       [1.0, -1.0, -0.4]]\n",
    "Who = [[0.0, 1.0],\n",
    "       [0.0, -1.0]]\n",
    "xt = [1.0, 2.0, 3.0]\n",
    "h_prev = [0.0, 0.0]\n",
    "\n",
    "def calc_output_gate(x_t, h_prev, W_xo, W_ho):\n",
    "    \"\"\"\n",
    "    Calculate output gate for LSTM\n",
    "    \n",
    "    Args:\n",
    "        x_t (np.array): Input vector at time t\n",
    "        h_prev (np.array): Previous hidden state\n",
    "        W_xo (np.array): Input weights for output gate\n",
    "        W_ho (np.array): Hidden weights for output gate\n",
    "    \n",
    "    Returns:\n",
    "        np.array: Output gate after sigmoid\n",
    "    \"\"\"\n",
    "    input_transform = np.dot(W_xo, x_t)\n",
    "    hidden_transform = np.dot(W_ho, h_prev)\n",
    "    gate_input = input_transform + hidden_transform\n",
    "    return sigmoid(gate_input)\n",
    "\n",
    "\n",
    "W_xo = np.array([[1.0, 1.0, 0.4],\n",
    "                 [1.0, -1.0, -0.4]])\n",
    "\n",
    "W_ho = np.array([[0.0, 1.0],\n",
    "                 [0.0, -1.0]])\n",
    "\n",
    "x_t = np.array([1.0, 2.0, 3.0])\n",
    "h_prev = np.array([0.0, 0.0])\n",
    "\n",
    "o_t = calc_output_gate(x_t, h_prev, W_xo, W_ho)\n",
    "print(\"Output gate (o_t):\", o_t)"
   ]
  },
  {
   "cell_type": "markdown",
   "metadata": {},
   "source": [
    "Q21"
   ]
  },
  {
   "cell_type": "code",
   "execution_count": 4,
   "metadata": {},
   "outputs": [
    {
     "name": "stdout",
     "output_type": "stream",
     "text": [
      "Forget gate (f_t): [0.78583498 0.66818777]\n",
      "Input gate (i_t): [0.40131234 0.16798161]\n",
      "Candidate state (c_tilde): [0.09966799 0.09966799]\n",
      "Cell state (c_t): [0.039998   0.01674239]\n"
     ]
    }
   ],
   "source": [
    "def calc_forget_gate(x_t, h_prev, W_xf, W_hf):\n",
    "    input_transform = np.dot(W_xf, x_t)\n",
    "    hidden_transform = np.dot(W_hf, h_prev)\n",
    "    gate_input = input_transform + hidden_transform\n",
    "    return sigmoid(gate_input)\n",
    "\n",
    "def calc_input_gate(x_t, h_prev, W_xi, W_hi):\n",
    "    input_transform = np.dot(W_xi, x_t)\n",
    "    hidden_transform = np.dot(W_hi, h_prev)\n",
    "    gate_input = input_transform + hidden_transform\n",
    "    return sigmoid(gate_input)\n",
    "\n",
    "def calc_candidate_state(x_t, h_prev, W_xc, W_hc):\n",
    "    input_transform = np.dot(W_xc, x_t)\n",
    "    hidden_transform = np.dot(W_hc, h_prev)\n",
    "    gate_input = input_transform + hidden_transform\n",
    "    return np.tanh(gate_input)\n",
    "\n",
    "def calc_cell_state(f_t, c_prev, i_t, c_tilde):\n",
    "    return f_t * c_prev + i_t * c_tilde\n",
    "\n",
    "\n",
    "x_t = np.array([1.0, 2.0, 3.0])\n",
    "h_prev = np.array([0.0, 0.0])\n",
    "c_prev = np.array([0.0, 0.0])\n",
    "\n",
    "W_xf = np.array([[1.0, 0.0, 0.1],\n",
    "                 [1.0, 0.0, -0.1]])\n",
    "W_hf = np.array([[0.0, 1.0],\n",
    "                 [0.0, -1.0]])\n",
    "\n",
    "W_xi = np.array([[-1.0, 0.0, 0.2],\n",
    "                 [-1.0, 0.0, -0.2]])\n",
    "W_hi = np.array([[0.0, 1.0],\n",
    "                 [0.0, -1.0]])\n",
    "\n",
    "W_xc = np.array([[1.0, 0.0, -0.3],\n",
    "                 [1.0, 0.0, -0.3]])\n",
    "W_hc = np.array([[0.0, 1.0],\n",
    "                 [0.0, -1.0]])\n",
    "\n",
    "# Calculate all components\n",
    "f_t = calc_forget_gate(x_t, h_prev, W_xf, W_hf)\n",
    "i_t = calc_input_gate(x_t, h_prev, W_xi, W_hi)\n",
    "c_tilde = calc_candidate_state(x_t, h_prev, W_xc, W_hc)\n",
    "c_t = calc_cell_state(f_t, c_prev, i_t, c_tilde)\n",
    "\n",
    "print(\"Forget gate (f_t):\", f_t)\n",
    "print(\"Input gate (i_t):\", i_t)\n",
    "print(\"Candidate state (c_tilde):\", c_tilde)\n",
    "print(\"Cell state (c_t):\", c_t)"
   ]
  },
  {
   "cell_type": "markdown",
   "metadata": {},
   "source": [
    "Q22"
   ]
  },
  {
   "cell_type": "code",
   "execution_count": 6,
   "metadata": {},
   "outputs": [
    {
     "name": "stdout",
     "output_type": "stream",
     "text": [
      "Output gate (o_t): [0.98522597 0.09975049]\n",
      "Cell state (c_t): [0.039998   0.01674239]\n",
      "tanh(c_t): [0.03997668 0.01674083]\n",
      "Hidden state (h_t): [0.03938606 0.00166991]\n"
     ]
    }
   ],
   "source": [
    "def calc_hidden_state(o_t, c_t):\n",
    "    \"\"\"\n",
    "    Calculate new hidden state for LSTM\n",
    "    \n",
    "    Args:\n",
    "        o_t (np.array): Output gate\n",
    "        c_t (np.array): Current cell state\n",
    "    \n",
    "    Returns:\n",
    "        np.array: New hidden state\n",
    "    \"\"\"\n",
    "    return o_t * np.tanh(c_t)\n",
    "\n",
    "\n",
    "# Previous calculations\n",
    "x_t = np.array([1.0, 2.0, 3.0])\n",
    "h_prev = np.array([0.0, 0.0])\n",
    "c_prev = np.array([0.0, 0.0])\n",
    "\n",
    "# Calculate output gate\n",
    "W_xo = np.array([[1.0, 1.0, 0.4],\n",
    "                 [1.0, -1.0, -0.4]])\n",
    "W_ho = np.array([[0.0, 1.0],\n",
    "                 [0.0, -1.0]])\n",
    "o_t = sigmoid(np.dot(W_xo, x_t) + np.dot(W_ho, h_prev))\n",
    "\n",
    "# Calculate cell state components\n",
    "W_xf = np.array([[1.0, 0.0, 0.1],\n",
    "                 [1.0, 0.0, -0.1]])\n",
    "W_hf = np.array([[0.0, 1.0],\n",
    "                 [0.0, -1.0]])\n",
    "f_t = sigmoid(np.dot(W_xf, x_t) + np.dot(W_hf, h_prev))\n",
    "\n",
    "W_xi = np.array([[-1.0, 0.0, 0.2],\n",
    "                 [-1.0, 0.0, -0.2]])\n",
    "W_hi = np.array([[0.0, 1.0],\n",
    "                 [0.0, -1.0]])\n",
    "i_t = sigmoid(np.dot(W_xi, x_t) + np.dot(W_hi, h_prev))\n",
    "\n",
    "W_xc = np.array([[1.0, 0.0, -0.3],\n",
    "                 [1.0, 0.0, -0.3]])\n",
    "W_hc = np.array([[0.0, 1.0],\n",
    "                 [0.0, -1.0]])\n",
    "c_tilde = np.tanh(np.dot(W_xc, x_t) + np.dot(W_hc, h_prev))\n",
    "\n",
    "# Calculate cell state\n",
    "c_t = f_t * c_prev + i_t * c_tilde\n",
    "\n",
    "# Calculate final hidden state\n",
    "h_t = calc_hidden_state(o_t, c_t)\n",
    "\n",
    "print(\"Output gate (o_t):\", o_t)\n",
    "print(\"Cell state (c_t):\", c_t)\n",
    "print(\"tanh(c_t):\", np.tanh(c_t))\n",
    "print(\"Hidden state (h_t):\", h_t)"
   ]
  },
  {
   "cell_type": "code",
   "execution_count": null,
   "metadata": {},
   "outputs": [],
   "source": []
  }
 ],
 "metadata": {
  "kernelspec": {
   "display_name": "aio2024-hw",
   "language": "python",
   "name": "python3"
  },
  "language_info": {
   "codemirror_mode": {
    "name": "ipython",
    "version": 3
   },
   "file_extension": ".py",
   "mimetype": "text/x-python",
   "name": "python",
   "nbconvert_exporter": "python",
   "pygments_lexer": "ipython3",
   "version": "3.12.9"
  }
 },
 "nbformat": 4,
 "nbformat_minor": 2
}
