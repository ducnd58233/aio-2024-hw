{
 "cells": [
  {
   "cell_type": "markdown",
   "metadata": {},
   "source": [
    "Q15"
   ]
  },
  {
   "cell_type": "code",
   "execution_count": 1,
   "metadata": {},
   "outputs": [
    {
     "name": "stdout",
     "output_type": "stream",
     "text": [
      "h1: [0.86172316 0.99100745]\n",
      "h2: [-0.98338105  0.99970395]\n"
     ]
    }
   ],
   "source": [
    "import numpy as np\n",
    "\n",
    "h0 = np.array([0.0, 0.0])\n",
    "x1 = np.array([1.0, 2.0, 3.0])\n",
    "x2 = np.array([4.0, 5.0, 6.0])\n",
    "\n",
    "Whh = np.array([0.0, -1.0])\n",
    "Wxh = np.array([\n",
    "    [-1.0, 0.0, 0.1],\n",
    "    [1.0, 0.0, -0.1],\n",
    "])\n",
    "\n",
    "bhh = 1.0\n",
    "bxh = 1.0\n",
    "\n",
    "def tanh(x):\n",
    "    return np.tanh(x)\n",
    "\n",
    "def calc_hidden_state(prev_h, x, Whh, Wxh, bhh, bxh):\n",
    "    \"\"\"\n",
    "    Compute the next hidden state in RNN\n",
    "    \n",
    "    Args:\n",
    "        prev_h: previous hidden state\n",
    "        x: input vector\n",
    "        Whh: hidden-to-hidden weights\n",
    "        Wxh: input-to-hidden weights\n",
    "        bhh: hidden state bias\n",
    "        bxh: input bias\n",
    "    \n",
    "    Returns:\n",
    "        next hidden state\n",
    "    \"\"\"\n",
    "    # Calculate input contribution\n",
    "    input_term = np.dot(Wxh, x)\n",
    "\n",
    "    # Calculate hidden state contribution\n",
    "    hidden_term = np.dot(Whh, prev_h)\n",
    "\n",
    "    # Sum all contributions and apply activation\n",
    "    next_h = tanh(hidden_term + input_term + bhh + bxh)\n",
    "\n",
    "    return next_h\n",
    "\n",
    "\n",
    "# Calculate h1\n",
    "h1 = calc_hidden_state(h0, x1, Whh, Wxh, bhh, bxh)\n",
    "print(\"h1:\", h1)\n",
    "\n",
    "# Calculate h2\n",
    "h2 = calc_hidden_state(h1, x2, Whh, Wxh, bhh, bxh)\n",
    "print(\"h2:\", h2)"
   ]
  },
  {
   "cell_type": "markdown",
   "metadata": {},
   "source": [
    "Q16"
   ]
  },
  {
   "cell_type": "code",
   "execution_count": 3,
   "metadata": {},
   "outputs": [
    {
     "name": "stdout",
     "output_type": "stream",
     "text": [
      "y2_hat: 0.9013658456985656\n"
     ]
    }
   ],
   "source": [
    "def compute_output(h, Why, by):\n",
    "    \"\"\"\n",
    "    Compute the output through fully connected layer\n",
    "    \n",
    "    Args:\n",
    "        h: hidden state\n",
    "        Why: output weights\n",
    "        by: output bias\n",
    "    \n",
    "    Returns:\n",
    "        output prediction\n",
    "    \"\"\"\n",
    "    return np.dot(Why, h) + by\n",
    "\n",
    "\n",
    "Why = np.array([0.1, 1.0])\n",
    "by = 0.0\n",
    "\n",
    "y2_hat = compute_output(h2, Why, by)\n",
    "print(\"y2_hat:\", y2_hat)"
   ]
  },
  {
   "cell_type": "markdown",
   "metadata": {},
   "source": [
    "Q17"
   ]
  },
  {
   "cell_type": "code",
   "execution_count": 4,
   "metadata": {},
   "outputs": [
    {
     "name": "stdout",
     "output_type": "stream",
     "text": [
      "h1: [0.86172316 0.99100745]\n",
      "y1_hat: 1.0771797696094483\n",
      "\n",
      "h2: [-0.98338105  0.99970395]\n",
      "y2_hat: 0.9013658456985656\n",
      "\n",
      "Predicted labels:\n",
      "Label for y1_hat: 1\n",
      "Label for y2_hat: 1\n"
     ]
    }
   ],
   "source": [
    "h1 = calc_hidden_state(h0, x1, Whh, Wxh, bhh, bxh)\n",
    "y1_hat = compute_output(h1, Why, by)\n",
    "print(\"h1:\", h1)\n",
    "print(\"y1_hat:\", y1_hat)\n",
    "\n",
    "h2 = calc_hidden_state(h1, x2, Whh, Wxh, bhh, bxh)\n",
    "y2_hat = compute_output(h2, Why, by)\n",
    "print(\"\\nh2:\", h2)\n",
    "print(\"y2_hat:\", y2_hat)\n",
    "\n",
    "\n",
    "def get_predicted_label(y_hat):\n",
    "    \"\"\"Convert output to predicted label\"\"\"\n",
    "    return 1 if y_hat > 0 else 0\n",
    "\n",
    "\n",
    "print(\"\\nPredicted labels:\")\n",
    "print(\"Label for y1_hat:\", get_predicted_label(y1_hat))\n",
    "print(\"Label for y2_hat:\", get_predicted_label(y2_hat))"
   ]
  },
  {
   "cell_type": "markdown",
   "metadata": {},
   "source": [
    "Q18"
   ]
  },
  {
   "cell_type": "code",
   "execution_count": 5,
   "metadata": {},
   "outputs": [
    {
     "name": "stdout",
     "output_type": "stream",
     "text": [
      "\n",
      "Backward hidden states:\n",
      "h1b: [-0.88535165  0.9999592 ]\n",
      "h2b: [0.29134995 0.93541417]\n",
      "\n",
      "Final concatenated hidden state: [-0.98338105  0.99970395  0.29134995  0.93541417]\n",
      "Final output y_hat: 2.243087015506327\n"
     ]
    }
   ],
   "source": [
    "h1b = calc_hidden_state(h0, x2, Whh, Wxh, bhh, bxh)\n",
    "h2b = calc_hidden_state(h1b, x1, Whh, Wxh, bhh, bxh)\n",
    "\n",
    "# Concatenate forward and backward final hidden states\n",
    "h_final = np.concatenate([h2, h2b])\n",
    "\n",
    "Why_bi = np.array([1.0, 1.0, 1.0, 1.0])  # weights for bidirectional\n",
    "by_bi = 1.0  # bias for bidirectional\n",
    "y_hat = compute_output(h_final, Why_bi, by_bi)\n",
    "\n",
    "print(\"\\nBackward hidden states:\")\n",
    "print(\"h1b:\", h1b)\n",
    "print(\"h2b:\", h2b)\n",
    "print(\"\\nFinal concatenated hidden state:\", h_final)\n",
    "print(\"Final output y_hat:\", y_hat)"
   ]
  },
  {
   "cell_type": "code",
   "execution_count": null,
   "metadata": {},
   "outputs": [],
   "source": []
  }
 ],
 "metadata": {
  "kernelspec": {
   "display_name": "aio2024-hw",
   "language": "python",
   "name": "python3"
  },
  "language_info": {
   "codemirror_mode": {
    "name": "ipython",
    "version": 3
   },
   "file_extension": ".py",
   "mimetype": "text/x-python",
   "name": "python",
   "nbconvert_exporter": "python",
   "pygments_lexer": "ipython3",
   "version": "3.12.9"
  }
 },
 "nbformat": 4,
 "nbformat_minor": 2
}
