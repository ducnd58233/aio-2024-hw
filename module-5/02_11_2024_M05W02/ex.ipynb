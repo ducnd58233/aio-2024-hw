{
 "cells": [
  {
   "cell_type": "markdown",
   "metadata": {},
   "source": [
    "dataset: https://drive.google.com/drive/folders/1E5IzzUhKpYS7-oXHJKi3i37QRZGD3f8Q"
   ]
  },
  {
   "cell_type": "markdown",
   "metadata": {},
   "source": [
    "# Credit Card Fraud Detection"
   ]
  },
  {
   "cell_type": "code",
   "execution_count": 1,
   "metadata": {},
   "outputs": [],
   "source": [
    "import numpy as np\n",
    "import pandas as pd\n",
    "import matplotlib.pyplot as plt\n",
    "\n",
    "from sklearn.model_selection import train_test_split\n",
    "from sklearn.preprocessing import StandardScaler"
   ]
  },
  {
   "cell_type": "code",
   "execution_count": 2,
   "metadata": {},
   "outputs": [
    {
     "data": {
      "text/html": [
       "<div>\n",
       "<style scoped>\n",
       "    .dataframe tbody tr th:only-of-type {\n",
       "        vertical-align: middle;\n",
       "    }\n",
       "\n",
       "    .dataframe tbody tr th {\n",
       "        vertical-align: top;\n",
       "    }\n",
       "\n",
       "    .dataframe thead th {\n",
       "        text-align: right;\n",
       "    }\n",
       "</style>\n",
       "<table border=\"1\" class=\"dataframe\">\n",
       "  <thead>\n",
       "    <tr style=\"text-align: right;\">\n",
       "      <th></th>\n",
       "      <th>Time</th>\n",
       "      <th>V1</th>\n",
       "      <th>V2</th>\n",
       "      <th>V3</th>\n",
       "      <th>V4</th>\n",
       "      <th>V5</th>\n",
       "      <th>V6</th>\n",
       "      <th>V7</th>\n",
       "      <th>V8</th>\n",
       "      <th>V9</th>\n",
       "      <th>...</th>\n",
       "      <th>V21</th>\n",
       "      <th>V22</th>\n",
       "      <th>V23</th>\n",
       "      <th>V24</th>\n",
       "      <th>V25</th>\n",
       "      <th>V26</th>\n",
       "      <th>V27</th>\n",
       "      <th>V28</th>\n",
       "      <th>Amount</th>\n",
       "      <th>Class</th>\n",
       "    </tr>\n",
       "  </thead>\n",
       "  <tbody>\n",
       "    <tr>\n",
       "      <th>0</th>\n",
       "      <td>0.0</td>\n",
       "      <td>-1.359807</td>\n",
       "      <td>-0.072781</td>\n",
       "      <td>2.536347</td>\n",
       "      <td>1.378155</td>\n",
       "      <td>-0.338321</td>\n",
       "      <td>0.462388</td>\n",
       "      <td>0.239599</td>\n",
       "      <td>0.098698</td>\n",
       "      <td>0.363787</td>\n",
       "      <td>...</td>\n",
       "      <td>-0.018307</td>\n",
       "      <td>0.277838</td>\n",
       "      <td>-0.110474</td>\n",
       "      <td>0.066928</td>\n",
       "      <td>0.128539</td>\n",
       "      <td>-0.189115</td>\n",
       "      <td>0.133558</td>\n",
       "      <td>-0.021053</td>\n",
       "      <td>149.62</td>\n",
       "      <td>0</td>\n",
       "    </tr>\n",
       "    <tr>\n",
       "      <th>1</th>\n",
       "      <td>0.0</td>\n",
       "      <td>1.191857</td>\n",
       "      <td>0.266151</td>\n",
       "      <td>0.166480</td>\n",
       "      <td>0.448154</td>\n",
       "      <td>0.060018</td>\n",
       "      <td>-0.082361</td>\n",
       "      <td>-0.078803</td>\n",
       "      <td>0.085102</td>\n",
       "      <td>-0.255425</td>\n",
       "      <td>...</td>\n",
       "      <td>-0.225775</td>\n",
       "      <td>-0.638672</td>\n",
       "      <td>0.101288</td>\n",
       "      <td>-0.339846</td>\n",
       "      <td>0.167170</td>\n",
       "      <td>0.125895</td>\n",
       "      <td>-0.008983</td>\n",
       "      <td>0.014724</td>\n",
       "      <td>2.69</td>\n",
       "      <td>0</td>\n",
       "    </tr>\n",
       "    <tr>\n",
       "      <th>2</th>\n",
       "      <td>1.0</td>\n",
       "      <td>-1.358354</td>\n",
       "      <td>-1.340163</td>\n",
       "      <td>1.773209</td>\n",
       "      <td>0.379780</td>\n",
       "      <td>-0.503198</td>\n",
       "      <td>1.800499</td>\n",
       "      <td>0.791461</td>\n",
       "      <td>0.247676</td>\n",
       "      <td>-1.514654</td>\n",
       "      <td>...</td>\n",
       "      <td>0.247998</td>\n",
       "      <td>0.771679</td>\n",
       "      <td>0.909412</td>\n",
       "      <td>-0.689281</td>\n",
       "      <td>-0.327642</td>\n",
       "      <td>-0.139097</td>\n",
       "      <td>-0.055353</td>\n",
       "      <td>-0.059752</td>\n",
       "      <td>378.66</td>\n",
       "      <td>0</td>\n",
       "    </tr>\n",
       "    <tr>\n",
       "      <th>3</th>\n",
       "      <td>1.0</td>\n",
       "      <td>-0.966272</td>\n",
       "      <td>-0.185226</td>\n",
       "      <td>1.792993</td>\n",
       "      <td>-0.863291</td>\n",
       "      <td>-0.010309</td>\n",
       "      <td>1.247203</td>\n",
       "      <td>0.237609</td>\n",
       "      <td>0.377436</td>\n",
       "      <td>-1.387024</td>\n",
       "      <td>...</td>\n",
       "      <td>-0.108300</td>\n",
       "      <td>0.005274</td>\n",
       "      <td>-0.190321</td>\n",
       "      <td>-1.175575</td>\n",
       "      <td>0.647376</td>\n",
       "      <td>-0.221929</td>\n",
       "      <td>0.062723</td>\n",
       "      <td>0.061458</td>\n",
       "      <td>123.50</td>\n",
       "      <td>0</td>\n",
       "    </tr>\n",
       "    <tr>\n",
       "      <th>4</th>\n",
       "      <td>2.0</td>\n",
       "      <td>-1.158233</td>\n",
       "      <td>0.877737</td>\n",
       "      <td>1.548718</td>\n",
       "      <td>0.403034</td>\n",
       "      <td>-0.407193</td>\n",
       "      <td>0.095921</td>\n",
       "      <td>0.592941</td>\n",
       "      <td>-0.270533</td>\n",
       "      <td>0.817739</td>\n",
       "      <td>...</td>\n",
       "      <td>-0.009431</td>\n",
       "      <td>0.798278</td>\n",
       "      <td>-0.137458</td>\n",
       "      <td>0.141267</td>\n",
       "      <td>-0.206010</td>\n",
       "      <td>0.502292</td>\n",
       "      <td>0.219422</td>\n",
       "      <td>0.215153</td>\n",
       "      <td>69.99</td>\n",
       "      <td>0</td>\n",
       "    </tr>\n",
       "    <tr>\n",
       "      <th>...</th>\n",
       "      <td>...</td>\n",
       "      <td>...</td>\n",
       "      <td>...</td>\n",
       "      <td>...</td>\n",
       "      <td>...</td>\n",
       "      <td>...</td>\n",
       "      <td>...</td>\n",
       "      <td>...</td>\n",
       "      <td>...</td>\n",
       "      <td>...</td>\n",
       "      <td>...</td>\n",
       "      <td>...</td>\n",
       "      <td>...</td>\n",
       "      <td>...</td>\n",
       "      <td>...</td>\n",
       "      <td>...</td>\n",
       "      <td>...</td>\n",
       "      <td>...</td>\n",
       "      <td>...</td>\n",
       "      <td>...</td>\n",
       "      <td>...</td>\n",
       "    </tr>\n",
       "    <tr>\n",
       "      <th>284802</th>\n",
       "      <td>172786.0</td>\n",
       "      <td>-11.881118</td>\n",
       "      <td>10.071785</td>\n",
       "      <td>-9.834783</td>\n",
       "      <td>-2.066656</td>\n",
       "      <td>-5.364473</td>\n",
       "      <td>-2.606837</td>\n",
       "      <td>-4.918215</td>\n",
       "      <td>7.305334</td>\n",
       "      <td>1.914428</td>\n",
       "      <td>...</td>\n",
       "      <td>0.213454</td>\n",
       "      <td>0.111864</td>\n",
       "      <td>1.014480</td>\n",
       "      <td>-0.509348</td>\n",
       "      <td>1.436807</td>\n",
       "      <td>0.250034</td>\n",
       "      <td>0.943651</td>\n",
       "      <td>0.823731</td>\n",
       "      <td>0.77</td>\n",
       "      <td>0</td>\n",
       "    </tr>\n",
       "    <tr>\n",
       "      <th>284803</th>\n",
       "      <td>172787.0</td>\n",
       "      <td>-0.732789</td>\n",
       "      <td>-0.055080</td>\n",
       "      <td>2.035030</td>\n",
       "      <td>-0.738589</td>\n",
       "      <td>0.868229</td>\n",
       "      <td>1.058415</td>\n",
       "      <td>0.024330</td>\n",
       "      <td>0.294869</td>\n",
       "      <td>0.584800</td>\n",
       "      <td>...</td>\n",
       "      <td>0.214205</td>\n",
       "      <td>0.924384</td>\n",
       "      <td>0.012463</td>\n",
       "      <td>-1.016226</td>\n",
       "      <td>-0.606624</td>\n",
       "      <td>-0.395255</td>\n",
       "      <td>0.068472</td>\n",
       "      <td>-0.053527</td>\n",
       "      <td>24.79</td>\n",
       "      <td>0</td>\n",
       "    </tr>\n",
       "    <tr>\n",
       "      <th>284804</th>\n",
       "      <td>172788.0</td>\n",
       "      <td>1.919565</td>\n",
       "      <td>-0.301254</td>\n",
       "      <td>-3.249640</td>\n",
       "      <td>-0.557828</td>\n",
       "      <td>2.630515</td>\n",
       "      <td>3.031260</td>\n",
       "      <td>-0.296827</td>\n",
       "      <td>0.708417</td>\n",
       "      <td>0.432454</td>\n",
       "      <td>...</td>\n",
       "      <td>0.232045</td>\n",
       "      <td>0.578229</td>\n",
       "      <td>-0.037501</td>\n",
       "      <td>0.640134</td>\n",
       "      <td>0.265745</td>\n",
       "      <td>-0.087371</td>\n",
       "      <td>0.004455</td>\n",
       "      <td>-0.026561</td>\n",
       "      <td>67.88</td>\n",
       "      <td>0</td>\n",
       "    </tr>\n",
       "    <tr>\n",
       "      <th>284805</th>\n",
       "      <td>172788.0</td>\n",
       "      <td>-0.240440</td>\n",
       "      <td>0.530483</td>\n",
       "      <td>0.702510</td>\n",
       "      <td>0.689799</td>\n",
       "      <td>-0.377961</td>\n",
       "      <td>0.623708</td>\n",
       "      <td>-0.686180</td>\n",
       "      <td>0.679145</td>\n",
       "      <td>0.392087</td>\n",
       "      <td>...</td>\n",
       "      <td>0.265245</td>\n",
       "      <td>0.800049</td>\n",
       "      <td>-0.163298</td>\n",
       "      <td>0.123205</td>\n",
       "      <td>-0.569159</td>\n",
       "      <td>0.546668</td>\n",
       "      <td>0.108821</td>\n",
       "      <td>0.104533</td>\n",
       "      <td>10.00</td>\n",
       "      <td>0</td>\n",
       "    </tr>\n",
       "    <tr>\n",
       "      <th>284806</th>\n",
       "      <td>172792.0</td>\n",
       "      <td>-0.533413</td>\n",
       "      <td>-0.189733</td>\n",
       "      <td>0.703337</td>\n",
       "      <td>-0.506271</td>\n",
       "      <td>-0.012546</td>\n",
       "      <td>-0.649617</td>\n",
       "      <td>1.577006</td>\n",
       "      <td>-0.414650</td>\n",
       "      <td>0.486180</td>\n",
       "      <td>...</td>\n",
       "      <td>0.261057</td>\n",
       "      <td>0.643078</td>\n",
       "      <td>0.376777</td>\n",
       "      <td>0.008797</td>\n",
       "      <td>-0.473649</td>\n",
       "      <td>-0.818267</td>\n",
       "      <td>-0.002415</td>\n",
       "      <td>0.013649</td>\n",
       "      <td>217.00</td>\n",
       "      <td>0</td>\n",
       "    </tr>\n",
       "  </tbody>\n",
       "</table>\n",
       "<p>284807 rows × 31 columns</p>\n",
       "</div>"
      ],
      "text/plain": [
       "            Time         V1         V2        V3        V4        V5  \\\n",
       "0            0.0  -1.359807  -0.072781  2.536347  1.378155 -0.338321   \n",
       "1            0.0   1.191857   0.266151  0.166480  0.448154  0.060018   \n",
       "2            1.0  -1.358354  -1.340163  1.773209  0.379780 -0.503198   \n",
       "3            1.0  -0.966272  -0.185226  1.792993 -0.863291 -0.010309   \n",
       "4            2.0  -1.158233   0.877737  1.548718  0.403034 -0.407193   \n",
       "...          ...        ...        ...       ...       ...       ...   \n",
       "284802  172786.0 -11.881118  10.071785 -9.834783 -2.066656 -5.364473   \n",
       "284803  172787.0  -0.732789  -0.055080  2.035030 -0.738589  0.868229   \n",
       "284804  172788.0   1.919565  -0.301254 -3.249640 -0.557828  2.630515   \n",
       "284805  172788.0  -0.240440   0.530483  0.702510  0.689799 -0.377961   \n",
       "284806  172792.0  -0.533413  -0.189733  0.703337 -0.506271 -0.012546   \n",
       "\n",
       "              V6        V7        V8        V9  ...       V21       V22  \\\n",
       "0       0.462388  0.239599  0.098698  0.363787  ... -0.018307  0.277838   \n",
       "1      -0.082361 -0.078803  0.085102 -0.255425  ... -0.225775 -0.638672   \n",
       "2       1.800499  0.791461  0.247676 -1.514654  ...  0.247998  0.771679   \n",
       "3       1.247203  0.237609  0.377436 -1.387024  ... -0.108300  0.005274   \n",
       "4       0.095921  0.592941 -0.270533  0.817739  ... -0.009431  0.798278   \n",
       "...          ...       ...       ...       ...  ...       ...       ...   \n",
       "284802 -2.606837 -4.918215  7.305334  1.914428  ...  0.213454  0.111864   \n",
       "284803  1.058415  0.024330  0.294869  0.584800  ...  0.214205  0.924384   \n",
       "284804  3.031260 -0.296827  0.708417  0.432454  ...  0.232045  0.578229   \n",
       "284805  0.623708 -0.686180  0.679145  0.392087  ...  0.265245  0.800049   \n",
       "284806 -0.649617  1.577006 -0.414650  0.486180  ...  0.261057  0.643078   \n",
       "\n",
       "             V23       V24       V25       V26       V27       V28  Amount  \\\n",
       "0      -0.110474  0.066928  0.128539 -0.189115  0.133558 -0.021053  149.62   \n",
       "1       0.101288 -0.339846  0.167170  0.125895 -0.008983  0.014724    2.69   \n",
       "2       0.909412 -0.689281 -0.327642 -0.139097 -0.055353 -0.059752  378.66   \n",
       "3      -0.190321 -1.175575  0.647376 -0.221929  0.062723  0.061458  123.50   \n",
       "4      -0.137458  0.141267 -0.206010  0.502292  0.219422  0.215153   69.99   \n",
       "...          ...       ...       ...       ...       ...       ...     ...   \n",
       "284802  1.014480 -0.509348  1.436807  0.250034  0.943651  0.823731    0.77   \n",
       "284803  0.012463 -1.016226 -0.606624 -0.395255  0.068472 -0.053527   24.79   \n",
       "284804 -0.037501  0.640134  0.265745 -0.087371  0.004455 -0.026561   67.88   \n",
       "284805 -0.163298  0.123205 -0.569159  0.546668  0.108821  0.104533   10.00   \n",
       "284806  0.376777  0.008797 -0.473649 -0.818267 -0.002415  0.013649  217.00   \n",
       "\n",
       "        Class  \n",
       "0           0  \n",
       "1           0  \n",
       "2           0  \n",
       "3           0  \n",
       "4           0  \n",
       "...       ...  \n",
       "284802      0  \n",
       "284803      0  \n",
       "284804      0  \n",
       "284805      0  \n",
       "284806      0  \n",
       "\n",
       "[284807 rows x 31 columns]"
      ]
     },
     "execution_count": 2,
     "metadata": {},
     "output_type": "execute_result"
    }
   ],
   "source": [
    "dataset_path = 'creditcard.csv'\n",
    "df = pd.read_csv(\n",
    "    dataset_path\n",
    ")\n",
    "df"
   ]
  },
  {
   "cell_type": "code",
   "execution_count": 3,
   "metadata": {},
   "outputs": [],
   "source": [
    "dataset_arr = df.to_numpy()\n",
    "X, y = dataset_arr[:,:-1].astype(np.float64), dataset_arr[:,-1].astype(np.uint8)"
   ]
  },
  {
   "cell_type": "code",
   "execution_count": 4,
   "metadata": {},
   "outputs": [
    {
     "name": "stdout",
     "output_type": "stream",
     "text": [
      "X shape: (284807, 30)\n",
      "y shape: (284807,)\n"
     ]
    }
   ],
   "source": [
    "print(f'X shape: {X.shape}')\n",
    "print(f'y shape: {y.shape}')"
   ]
  },
  {
   "cell_type": "code",
   "execution_count": 5,
   "metadata": {},
   "outputs": [
    {
     "data": {
      "text/plain": [
       "array([[ 1.00000000e+00,  0.00000000e+00, -1.35980713e+00, ...,\n",
       "         1.33558377e-01, -2.10530535e-02,  1.49620000e+02],\n",
       "       [ 1.00000000e+00,  0.00000000e+00,  1.19185711e+00, ...,\n",
       "        -8.98309914e-03,  1.47241692e-02,  2.69000000e+00],\n",
       "       [ 1.00000000e+00,  1.00000000e+00, -1.35835406e+00, ...,\n",
       "        -5.53527940e-02, -5.97518406e-02,  3.78660000e+02],\n",
       "       ...,\n",
       "       [ 1.00000000e+00,  1.72788000e+05,  1.91956501e+00, ...,\n",
       "         4.45477214e-03, -2.65608286e-02,  6.78800000e+01],\n",
       "       [ 1.00000000e+00,  1.72788000e+05, -2.40440050e-01, ...,\n",
       "         1.08820735e-01,  1.04532821e-01,  1.00000000e+01],\n",
       "       [ 1.00000000e+00,  1.72792000e+05, -5.33412522e-01, ...,\n",
       "        -2.41530880e-03,  1.36489143e-02,  2.17000000e+02]])"
      ]
     },
     "execution_count": 5,
     "metadata": {},
     "output_type": "execute_result"
    }
   ],
   "source": [
    "# Add bias\n",
    "intercept = np.ones((X.shape[0], 1))\n",
    "X_b = np.concatenate(\n",
    "    (intercept, X),\n",
    "    axis=1\n",
    ")\n",
    "X_b"
   ]
  },
  {
   "cell_type": "code",
   "execution_count": 6,
   "metadata": {},
   "outputs": [
    {
     "name": "stdout",
     "output_type": "stream",
     "text": [
      "2\n",
      "284807\n"
     ]
    }
   ],
   "source": [
    "# One-hot encoding\n",
    "n_classes = np.unique(y, axis=0).shape[0]\n",
    "n_samples = y.shape[0]\n",
    "print(n_classes)\n",
    "print(n_samples)\n",
    "\n",
    "y_encoded = np.array(\n",
    "    [np.zeros(n_classes) for _ in range(n_samples)]\n",
    ")\n",
    "y_encoded[np.arange(n_samples), y] = 1"
   ]
  },
  {
   "cell_type": "markdown",
   "metadata": {},
   "source": [
    "## Train, val, test split"
   ]
  },
  {
   "cell_type": "code",
   "execution_count": 7,
   "metadata": {},
   "outputs": [],
   "source": [
    "val_size = 0.2\n",
    "test_size = 0.1\n",
    "random_state = 2\n",
    "is_shuffle = True\n",
    "\n",
    "X_train, X_val, y_train, y_val = train_test_split(\n",
    "    X_b, y_encoded,\n",
    "    test_size=val_size,\n",
    "    random_state=random_state,\n",
    "    shuffle=is_shuffle\n",
    ")\n",
    "\n",
    "X_train, X_test, y_train, y_test = train_test_split(\n",
    "    X_train, y_train,\n",
    "    test_size=test_size,\n",
    "    random_state=random_state,\n",
    "    shuffle=is_shuffle\n",
    ")"
   ]
  },
  {
   "cell_type": "code",
   "execution_count": 8,
   "metadata": {},
   "outputs": [
    {
     "name": "stdout",
     "output_type": "stream",
     "text": [
      "(205060, 31) (205060, 2)\n",
      "(56962, 31) (56962, 2)\n",
      "(22785, 31) (22785, 2)\n"
     ]
    }
   ],
   "source": [
    "print(X_train.shape, y_train.shape)\n",
    "print(X_val.shape, y_val.shape)\n",
    "print(X_test.shape, y_test.shape)"
   ]
  },
  {
   "cell_type": "code",
   "execution_count": 9,
   "metadata": {},
   "outputs": [
    {
     "data": {
      "text/plain": [
       "array([[ 1.00000000e+00,  1.44140000e+05, -5.81460074e-01, ...,\n",
       "        -2.54862391e-01, -1.26279082e-01,  1.28200000e+01],\n",
       "       [ 1.00000000e+00,  7.43690000e+04,  6.86729592e-01, ...,\n",
       "         2.29058926e-02,  7.98380374e-02,  2.56390000e+02],\n",
       "       [ 1.00000000e+00,  6.71070000e+04, -8.48394796e-01, ...,\n",
       "         2.17840346e-01,  1.27724370e-01,  1.64400000e+01],\n",
       "       ...,\n",
       "       [ 1.00000000e+00,  4.79560000e+04, -5.00365590e-01, ...,\n",
       "         2.75561810e-01,  1.06836219e-01,  4.45000000e+00],\n",
       "       [ 1.00000000e+00,  1.71273000e+05,  1.90072760e+00, ...,\n",
       "        -1.24337925e-02, -1.07314674e-02,  5.40500000e+01],\n",
       "       [ 1.00000000e+00,  1.18117000e+05,  1.46612670e-01, ...,\n",
       "         2.14370150e-01,  2.85213290e-01,  2.95600000e+01]])"
      ]
     },
     "execution_count": 9,
     "metadata": {},
     "output_type": "execute_result"
    }
   ],
   "source": [
    "X_val"
   ]
  },
  {
   "cell_type": "code",
   "execution_count": 10,
   "metadata": {},
   "outputs": [
    {
     "data": {
      "text/plain": [
       "array([[1., 0.],\n",
       "       [1., 0.],\n",
       "       [1., 0.],\n",
       "       ...,\n",
       "       [1., 0.],\n",
       "       [1., 0.],\n",
       "       [1., 0.]])"
      ]
     },
     "execution_count": 10,
     "metadata": {},
     "output_type": "execute_result"
    }
   ],
   "source": [
    "y_val"
   ]
  },
  {
   "cell_type": "code",
   "execution_count": 11,
   "metadata": {},
   "outputs": [
    {
     "data": {
      "text/plain": [
       "array([[ 1.00000000e+00,  2.82370000e+04,  1.40797195e+00, ...,\n",
       "        -6.82420613e-02,  5.58761293e-03,  5.30500000e+01],\n",
       "       [ 1.00000000e+00,  1.65849000e+05, -1.15787166e+00, ...,\n",
       "         2.27743247e-01,  4.64575694e-02,  7.20000000e+00],\n",
       "       [ 1.00000000e+00,  1.30592000e+05, -3.90678058e-01, ...,\n",
       "        -1.54677993e-02,  3.12067328e-02,  1.50000000e+01],\n",
       "       ...,\n",
       "       [ 1.00000000e+00,  1.27981000e+05,  1.99361419e+00, ...,\n",
       "        -4.08664632e-02, -4.97174272e-02,  4.99900000e+01],\n",
       "       [ 1.00000000e+00,  5.71860000e+04, -1.04855478e+00, ...,\n",
       "        -2.25196238e-01, -1.00105168e-01,  2.35000000e+00],\n",
       "       [ 1.00000000e+00,  1.17292000e+05, -6.90584819e-01, ...,\n",
       "         4.02583164e-02, -8.02364105e-02,  1.86100000e+01]])"
      ]
     },
     "execution_count": 11,
     "metadata": {},
     "output_type": "execute_result"
    }
   ],
   "source": [
    "X_test"
   ]
  },
  {
   "cell_type": "code",
   "execution_count": 12,
   "metadata": {},
   "outputs": [
    {
     "data": {
      "text/plain": [
       "array([[1., 0.],\n",
       "       [1., 0.],\n",
       "       [1., 0.],\n",
       "       ...,\n",
       "       [1., 0.],\n",
       "       [1., 0.],\n",
       "       [1., 0.]])"
      ]
     },
     "execution_count": 12,
     "metadata": {},
     "output_type": "execute_result"
    }
   ],
   "source": [
    "y_test"
   ]
  },
  {
   "cell_type": "markdown",
   "metadata": {},
   "source": [
    "## Normalize data"
   ]
  },
  {
   "cell_type": "markdown",
   "metadata": {},
   "source": [
    "* Sử dụng `X_train` để fit vào hàm normalize `StandardScaler`\n",
    "* Dùng scaler này để normalize X_val và X_test (ko normalize bias nên skip cột đầu tiên)"
   ]
  },
  {
   "cell_type": "code",
   "execution_count": 13,
   "metadata": {},
   "outputs": [],
   "source": [
    "normalizer = StandardScaler()\n",
    "X_train[:, 1:] = normalizer.fit_transform(X_train[:, 1:])\n",
    "X_val[:, 1:] = normalizer.transform(X_val[:, 1:])\n",
    "X_test[:, 1:] = normalizer.transform(X_test[:, 1:])"
   ]
  },
  {
   "cell_type": "markdown",
   "metadata": {},
   "source": [
    "## Setup function"
   ]
  },
  {
   "cell_type": "code",
   "execution_count": 14,
   "metadata": {},
   "outputs": [],
   "source": [
    "def softmax(z):\n",
    "    exp_z = np.exp(z)\n",
    "    return exp_z / exp_z.sum(axis=1)[:, None]\n",
    "\n",
    "def predict(X, theta):\n",
    "    z = np.dot(X, theta)\n",
    "    y_hat = softmax(z)\n",
    "    return y_hat\n",
    "\n",
    "def compute_loss(y_hat, y):\n",
    "    n = y.size\n",
    "\n",
    "    return (-1 / n) * np.sum(y * np.log(y_hat))\n",
    "\n",
    "def compute_gradient(X, y, y_hat):\n",
    "    n = y.size\n",
    "\n",
    "    return np.dot(X.T, (y_hat - y)) / n\n",
    "\n",
    "def update_theta(theta, gradient, lr):\n",
    "    return theta - lr * gradient\n",
    "\n",
    "def compute_accuracy(X, y, theta):\n",
    "    y_hat = predict(X, theta)\n",
    "    acc = (np.argmax(y_hat, axis=1) == np.argmax(y, axis=1)).mean()\n",
    "\n",
    "    return acc"
   ]
  },
  {
   "cell_type": "markdown",
   "metadata": {},
   "source": [
    "## Training data"
   ]
  },
  {
   "cell_type": "markdown",
   "metadata": {},
   "source": [
    "![image.png](./training_data_flow.png)"
   ]
  },
  {
   "cell_type": "markdown",
   "metadata": {},
   "source": [
    "Lưu ý rằng, với Softmax Regression, mỗi class sẽ có một bộ trọng số riêng ứng với các\n",
    "đặc trưng đầu vào (bao gồm cả bias). Vì vậy, cần khởi tạo trọng số θ với shape =\n",
    "(n_features, n_classes)."
   ]
  },
  {
   "cell_type": "code",
   "execution_count": 15,
   "metadata": {},
   "outputs": [],
   "source": [
    "lr = 0.01\n",
    "epochs = 30\n",
    "batch_size = 1024\n",
    "n_features = X_train.shape[1]\n",
    "\n",
    "np.random.seed(random_state)\n",
    "theta = np.random.uniform(\n",
    "    size=(n_features, n_classes)\n",
    ")"
   ]
  },
  {
   "cell_type": "code",
   "execution_count": 16,
   "metadata": {},
   "outputs": [
    {
     "name": "stdout",
     "output_type": "stream",
     "text": [
      "\n",
      "EPOCH 1:\n",
      "\tTraining loss: 0.298 - Training acc: 0.744\n",
      "\tValidation loss: 0.295 - Validation acc: 0.746\n",
      "\n",
      "EPOCH 2:\n",
      "\tTraining loss: 0.172 - Training acc: 0.913\n",
      "\tValidation loss: 0.170 - Validation acc: 0.914\n",
      "\n",
      "EPOCH 3:\n",
      "\tTraining loss: 0.111 - Training acc: 0.973\n",
      "\tValidation loss: 0.110 - Validation acc: 0.974\n",
      "\n",
      "EPOCH 4:\n",
      "\tTraining loss: 0.079 - Training acc: 0.988\n",
      "\tValidation loss: 0.078 - Validation acc: 0.988\n",
      "\n",
      "EPOCH 5:\n",
      "\tTraining loss: 0.060 - Training acc: 0.993\n",
      "\tValidation loss: 0.059 - Validation acc: 0.993\n",
      "\n",
      "EPOCH 6:\n",
      "\tTraining loss: 0.048 - Training acc: 0.996\n",
      "\tValidation loss: 0.047 - Validation acc: 0.996\n",
      "\n",
      "EPOCH 7:\n",
      "\tTraining loss: 0.040 - Training acc: 0.998\n",
      "\tValidation loss: 0.039 - Validation acc: 0.998\n",
      "\n",
      "EPOCH 8:\n",
      "\tTraining loss: 0.034 - Training acc: 0.998\n",
      "\tValidation loss: 0.034 - Validation acc: 0.999\n",
      "\n",
      "EPOCH 9:\n",
      "\tTraining loss: 0.030 - Training acc: 0.999\n",
      "\tValidation loss: 0.030 - Validation acc: 0.999\n",
      "\n",
      "EPOCH 10:\n",
      "\tTraining loss: 0.027 - Training acc: 0.999\n",
      "\tValidation loss: 0.027 - Validation acc: 0.999\n",
      "\n",
      "EPOCH 11:\n",
      "\tTraining loss: 0.024 - Training acc: 0.999\n",
      "\tValidation loss: 0.024 - Validation acc: 0.999\n",
      "\n",
      "EPOCH 12:\n",
      "\tTraining loss: 0.022 - Training acc: 0.999\n",
      "\tValidation loss: 0.022 - Validation acc: 0.999\n",
      "\n",
      "EPOCH 13:\n",
      "\tTraining loss: 0.021 - Training acc: 0.999\n",
      "\tValidation loss: 0.020 - Validation acc: 0.999\n",
      "\n",
      "EPOCH 14:\n",
      "\tTraining loss: 0.019 - Training acc: 0.999\n",
      "\tValidation loss: 0.019 - Validation acc: 0.999\n",
      "\n",
      "EPOCH 15:\n",
      "\tTraining loss: 0.018 - Training acc: 0.999\n",
      "\tValidation loss: 0.018 - Validation acc: 0.999\n",
      "\n",
      "EPOCH 16:\n",
      "\tTraining loss: 0.017 - Training acc: 0.999\n",
      "\tValidation loss: 0.017 - Validation acc: 0.999\n",
      "\n",
      "EPOCH 17:\n",
      "\tTraining loss: 0.016 - Training acc: 0.999\n",
      "\tValidation loss: 0.016 - Validation acc: 0.999\n",
      "\n",
      "EPOCH 18:\n",
      "\tTraining loss: 0.015 - Training acc: 0.999\n",
      "\tValidation loss: 0.015 - Validation acc: 0.999\n",
      "\n",
      "EPOCH 19:\n",
      "\tTraining loss: 0.014 - Training acc: 0.999\n",
      "\tValidation loss: 0.014 - Validation acc: 0.999\n",
      "\n",
      "EPOCH 20:\n",
      "\tTraining loss: 0.014 - Training acc: 0.999\n",
      "\tValidation loss: 0.014 - Validation acc: 0.999\n",
      "\n",
      "EPOCH 21:\n",
      "\tTraining loss: 0.013 - Training acc: 0.999\n",
      "\tValidation loss: 0.013 - Validation acc: 0.999\n",
      "\n",
      "EPOCH 22:\n",
      "\tTraining loss: 0.013 - Training acc: 0.999\n",
      "\tValidation loss: 0.012 - Validation acc: 0.999\n",
      "\n",
      "EPOCH 23:\n",
      "\tTraining loss: 0.012 - Training acc: 0.999\n",
      "\tValidation loss: 0.012 - Validation acc: 0.999\n",
      "\n",
      "EPOCH 24:\n",
      "\tTraining loss: 0.012 - Training acc: 0.999\n",
      "\tValidation loss: 0.012 - Validation acc: 0.999\n",
      "\n",
      "EPOCH 25:\n",
      "\tTraining loss: 0.011 - Training acc: 0.999\n",
      "\tValidation loss: 0.011 - Validation acc: 0.999\n",
      "\n",
      "EPOCH 26:\n",
      "\tTraining loss: 0.011 - Training acc: 0.999\n",
      "\tValidation loss: 0.011 - Validation acc: 0.999\n",
      "\n",
      "EPOCH 27:\n",
      "\tTraining loss: 0.011 - Training acc: 0.999\n",
      "\tValidation loss: 0.010 - Validation acc: 0.999\n",
      "\n",
      "EPOCH 28:\n",
      "\tTraining loss: 0.010 - Training acc: 0.999\n",
      "\tValidation loss: 0.010 - Validation acc: 0.999\n",
      "\n",
      "EPOCH 29:\n",
      "\tTraining loss: 0.010 - Training acc: 0.999\n",
      "\tValidation loss: 0.010 - Validation acc: 0.999\n",
      "\n",
      "EPOCH 30:\n",
      "\tTraining loss: 0.010 - Training acc: 0.999\n",
      "\tValidation loss: 0.009 - Validation acc: 0.999\n"
     ]
    }
   ],
   "source": [
    "train_accs =  []\n",
    "train_losses = []\n",
    "val_accs = []\n",
    "val_losses = []\n",
    "\n",
    "for epoch in range(epochs):\n",
    "    train_batch_losses = []\n",
    "    train_batch_accs = []\n",
    "    val_batch_losses = []\n",
    "    val_batch_accs = []\n",
    "\n",
    "    for i in range(0, X_train.shape[0], batch_size):\n",
    "        X_i = X_train[i:i+batch_size]\n",
    "        y_i = y_train[i:i+batch_size]\n",
    "\n",
    "        y_hat = predict(X_i, theta)\n",
    "\n",
    "        train_loss = compute_loss(y_hat, y_i)\n",
    "\n",
    "        gradient = compute_gradient(X_i, y_i, y_hat)\n",
    "\n",
    "        theta = update_theta(theta, gradient, lr)\n",
    "\n",
    "        train_batch_losses.append(train_loss)\n",
    "\n",
    "        train_acc = compute_accuracy(X_train, y_train, theta)\n",
    "        train_batch_accs.append(train_acc)\n",
    "\n",
    "        y_val_hat = predict(X_val, theta)\n",
    "        val_loss = compute_loss(y_val_hat, y_val)\n",
    "        val_batch_losses.append(val_loss)\n",
    "\n",
    "        val_acc = compute_accuracy(X_val, y_val, theta)\n",
    "        val_batch_accs.append(val_acc)\n",
    "    \n",
    "    train_batch_loss = sum(train_batch_losses) / len(train_batch_losses)\n",
    "    val_batch_loss = sum(val_batch_losses) / len(val_batch_losses)\n",
    "    train_batch_acc = sum(train_batch_accs) / len(train_batch_accs)\n",
    "    val_batch_acc = sum(val_batch_accs) / len(val_batch_accs)\n",
    "\n",
    "    train_losses.append(train_batch_loss)\n",
    "    val_losses.append(val_batch_loss)\n",
    "    train_accs.append(train_batch_acc)\n",
    "    val_accs.append(val_batch_acc)\n",
    "\n",
    "    print(f'\\nEPOCH {epoch + 1}:')\n",
    "    print(f'\\tTraining loss: {train_batch_loss:.3f} - Training acc: {train_batch_acc:.3f}')\n",
    "    print(f'\\tValidation loss: {val_batch_loss:.3f} - Validation acc: {val_batch_acc:.3f}')"
   ]
  },
  {
   "cell_type": "markdown",
   "metadata": {},
   "source": [
    "## Visualize"
   ]
  },
  {
   "cell_type": "code",
   "execution_count": 17,
   "metadata": {},
   "outputs": [
    {
     "data": {
      "text/plain": [
       "Text(0.5, 1.0, 'Validation Accuracy')"
      ]
     },
     "execution_count": 17,
     "metadata": {},
     "output_type": "execute_result"
    },
    {
     "data": {
      "image/png": "[encoded data removed]",
      "text/plain": [
       "<Figure size 1200x1000 with 4 Axes>"
      ]
     },
     "metadata": {},
     "output_type": "display_data"
    }
   ],
   "source": [
    "fig, ax = plt.subplots(2, 2, figsize=(12, 10))\n",
    "ax[0, 0].plot(train_losses)\n",
    "ax[0, 0].set(xlabel='Epoch', ylabel='Loss')\n",
    "ax[0, 0].set_title('Training Loss')\n",
    "\n",
    "ax[0, 1].plot(val_losses, 'orange')\n",
    "ax[0, 1].set(xlabel='Epoch', ylabel='Loss')\n",
    "ax[0, 1].set_title('Validation Loss')\n",
    "\n",
    "ax[1, 0].plot(train_accs)\n",
    "ax[1, 0].set(xlabel='Epoch', ylabel='Accuracy')\n",
    "ax[1, 0].set_title('Training Accuracy')\n",
    "\n",
    "ax[1, 1].plot(val_accs, 'orange')\n",
    "ax[1, 1].set(xlabel='Epoch', ylabel='Accuracy')\n",
    "ax[1, 1].set_title('Validation Accuracy')"
   ]
  },
  {
   "cell_type": "markdown",
   "metadata": {},
   "source": [
    "## Model validation"
   ]
  },
  {
   "cell_type": "code",
   "execution_count": 18,
   "metadata": {},
   "outputs": [
    {
     "name": "stdout",
     "output_type": "stream",
     "text": [
      "Evaluation on validation and test set\n",
      "Accuracy: 0.9993153330290369\n",
      "Accuracy: 0.9990783410138249\n"
     ]
    }
   ],
   "source": [
    "val_set_acc = compute_accuracy(X_val, y_val, theta)\n",
    "test_set_acc = compute_accuracy(X_test, y_test, theta)\n",
    "print('Evaluation on validation and test set')\n",
    "print(f'Accuracy: {val_set_acc}')\n",
    "print(f'Accuracy: {test_set_acc}')"
   ]
  },
  {
   "cell_type": "markdown",
   "metadata": {},
   "source": [
    "# Twitter Sentiment Analysis"
   ]
  },
  {
   "cell_type": "code",
   "execution_count": 19,
   "metadata": {},
   "outputs": [
    {
     "name": "stderr",
     "output_type": "stream",
     "text": [
      "[nltk_data] Downloading package stopwords to /home/jiggle/nltk_data...\n",
      "[nltk_data]   Package stopwords is already up-to-date!\n"
     ]
    }
   ],
   "source": [
    "import numpy as np\n",
    "import pandas as pd\n",
    "import matplotlib.pyplot as plt\n",
    "import re\n",
    "import nltk\n",
    "nltk.download('stopwords')\n",
    "\n",
    "from sklearn.model_selection import train_test_split\n",
    "from sklearn.feature_extraction.text import TfidfVectorizer\n",
    "from nltk.corpus import stopwords\n",
    "from nltk.stem import SnowballStemmer"
   ]
  },
  {
   "cell_type": "code",
   "execution_count": 20,
   "metadata": {},
   "outputs": [
    {
     "data": {
      "text/html": [
       "<div>\n",
       "<style scoped>\n",
       "    .dataframe tbody tr th:only-of-type {\n",
       "        vertical-align: middle;\n",
       "    }\n",
       "\n",
       "    .dataframe tbody tr th {\n",
       "        vertical-align: top;\n",
       "    }\n",
       "\n",
       "    .dataframe thead th {\n",
       "        text-align: right;\n",
       "    }\n",
       "</style>\n",
       "<table border=\"1\" class=\"dataframe\">\n",
       "  <thead>\n",
       "    <tr style=\"text-align: right;\">\n",
       "      <th></th>\n",
       "      <th>clean_text</th>\n",
       "      <th>category</th>\n",
       "    </tr>\n",
       "  </thead>\n",
       "  <tbody>\n",
       "    <tr>\n",
       "      <th>0</th>\n",
       "      <td>when modi promised “minimum government maximum...</td>\n",
       "      <td>-1.0</td>\n",
       "    </tr>\n",
       "    <tr>\n",
       "      <th>1</th>\n",
       "      <td>talk all the nonsense and continue all the dra...</td>\n",
       "      <td>0.0</td>\n",
       "    </tr>\n",
       "    <tr>\n",
       "      <th>2</th>\n",
       "      <td>what did just say vote for modi  welcome bjp t...</td>\n",
       "      <td>1.0</td>\n",
       "    </tr>\n",
       "    <tr>\n",
       "      <th>3</th>\n",
       "      <td>asking his supporters prefix chowkidar their n...</td>\n",
       "      <td>1.0</td>\n",
       "    </tr>\n",
       "    <tr>\n",
       "      <th>4</th>\n",
       "      <td>answer who among these the most powerful world...</td>\n",
       "      <td>1.0</td>\n",
       "    </tr>\n",
       "    <tr>\n",
       "      <th>...</th>\n",
       "      <td>...</td>\n",
       "      <td>...</td>\n",
       "    </tr>\n",
       "    <tr>\n",
       "      <th>162975</th>\n",
       "      <td>why these 456 crores paid neerav modi not reco...</td>\n",
       "      <td>-1.0</td>\n",
       "    </tr>\n",
       "    <tr>\n",
       "      <th>162976</th>\n",
       "      <td>dear rss terrorist payal gawar what about modi...</td>\n",
       "      <td>-1.0</td>\n",
       "    </tr>\n",
       "    <tr>\n",
       "      <th>162977</th>\n",
       "      <td>did you cover her interaction forum where she ...</td>\n",
       "      <td>0.0</td>\n",
       "    </tr>\n",
       "    <tr>\n",
       "      <th>162978</th>\n",
       "      <td>there big project came into india modi dream p...</td>\n",
       "      <td>0.0</td>\n",
       "    </tr>\n",
       "    <tr>\n",
       "      <th>162979</th>\n",
       "      <td>have you ever listen about like gurukul where ...</td>\n",
       "      <td>1.0</td>\n",
       "    </tr>\n",
       "  </tbody>\n",
       "</table>\n",
       "<p>162980 rows × 2 columns</p>\n",
       "</div>"
      ],
      "text/plain": [
       "                                               clean_text  category\n",
       "0       when modi promised “minimum government maximum...      -1.0\n",
       "1       talk all the nonsense and continue all the dra...       0.0\n",
       "2       what did just say vote for modi  welcome bjp t...       1.0\n",
       "3       asking his supporters prefix chowkidar their n...       1.0\n",
       "4       answer who among these the most powerful world...       1.0\n",
       "...                                                   ...       ...\n",
       "162975  why these 456 crores paid neerav modi not reco...      -1.0\n",
       "162976  dear rss terrorist payal gawar what about modi...      -1.0\n",
       "162977  did you cover her interaction forum where she ...       0.0\n",
       "162978  there big project came into india modi dream p...       0.0\n",
       "162979  have you ever listen about like gurukul where ...       1.0\n",
       "\n",
       "[162980 rows x 2 columns]"
      ]
     },
     "execution_count": 20,
     "metadata": {},
     "output_type": "execute_result"
    }
   ],
   "source": [
    "dataset_path = './Twitter_Data.csv'\n",
    "df = pd.read_csv(\n",
    "    dataset_path\n",
    ")\n",
    "df"
   ]
  },
  {
   "cell_type": "code",
   "execution_count": 21,
   "metadata": {},
   "outputs": [],
   "source": [
    "df = df.dropna()"
   ]
  },
  {
   "cell_type": "markdown",
   "metadata": {},
   "source": [
    "## Preprocssing data"
   ]
  },
  {
   "cell_type": "markdown",
   "metadata": {},
   "source": [
    "### Normalize text"
   ]
  },
  {
   "cell_type": "code",
   "execution_count": 22,
   "metadata": {},
   "outputs": [],
   "source": [
    "def text_normalizer(text):\n",
    "    text = text.lower()\n",
    "\n",
    "    # Retweet old acronym \"RT\" removal\n",
    "    text = re.sub(r'^rt[\\s]+', '', text)\n",
    "\n",
    "    # Hyperlinks removal\n",
    "    text = re.sub(r'https?:\\/\\/.*[\\r\\n]*', '', text)\n",
    "\n",
    "    # Punctuation removal\n",
    "    text = re.sub(r'[^\\w\\s]', '', text)\n",
    "\n",
    "    # Remove stopwords\n",
    "    stop_words = set(stopwords.words('english'))\n",
    "\n",
    "    words = text.split()\n",
    "    words = [word for word in words if word not in stop_words]\n",
    "\n",
    "    # Stemming\n",
    "    stemmer = SnowballStemmer('english')\n",
    "    words = [stemmer.stem(word) for word in words]\n",
    "    text = ' '.join(words)\n",
    "\n",
    "    return text"
   ]
  },
  {
   "cell_type": "markdown",
   "metadata": {},
   "source": [
    "### Init tf-idf vectorizer"
   ]
  },
  {
   "cell_type": "code",
   "execution_count": 23,
   "metadata": {},
   "outputs": [],
   "source": [
    "vectorizer = TfidfVectorizer(max_features=2000)\n",
    "X = vectorizer.fit_transform(df['clean_text']).toarray()"
   ]
  },
  {
   "cell_type": "code",
   "execution_count": 24,
   "metadata": {},
   "outputs": [],
   "source": [
    "# Add bias\n",
    "intercept = np.ones((X.shape[0], 1))\n",
    "X_b = np.concatenate((intercept, X), axis=1)"
   ]
  },
  {
   "cell_type": "code",
   "execution_count": 25,
   "metadata": {},
   "outputs": [
    {
     "name": "stdout",
     "output_type": "stream",
     "text": [
      "3\n",
      "162969\n"
     ]
    }
   ],
   "source": [
    "n_classes = df['category'].nunique()\n",
    "n_samples = df['category'].size\n",
    "print(n_classes)\n",
    "print(n_samples)\n",
    "\n",
    "y = df['category'].to_numpy() + 1\n",
    "y = y.astype(np.uint8)\n",
    "y_encoded = np.array([np.zeros(n_classes) for _ in range(n_samples)])\n",
    "y_encoded[np.arange(n_samples), y] = 1"
   ]
  },
  {
   "cell_type": "code",
   "execution_count": 26,
   "metadata": {},
   "outputs": [
    {
     "ename": "",
     "evalue": "",
     "output_type": "error",
     "traceback": [
      "\u001b[1;31mThe Kernel crashed while executing code in the current cell or a previous cell. \n",
      "\u001b[1;31mPlease review the code in the cell(s) to identify a possible cause of the failure. \n",
      "\u001b[1;31mClick <a href='https://aka.ms/vscodeJupyterKernelCrash'>here</a> for more info. \n",
      "\u001b[1;31mView Jupyter <a href='command:jupyter.viewOutput'>log</a> for further details."
     ]
    }
   ],
   "source": [
    "val_size = 0.2\n",
    "test_size = 0.125\n",
    "random_state = 2\n",
    "is_shuffle = True\n",
    "\n",
    "X_train, X_val, y_train, y_val = train_test_split(\n",
    "    X_b, y_encoded,\n",
    "    test_size=val_size,\n",
    "    random_state=random_state,\n",
    "    shuffle=is_shuffle\n",
    ")\n",
    "\n",
    "X_train, X_test, y_train, y_test = train_test_split(\n",
    "    X_train, y_train,\n",
    "    test_size=test_size,\n",
    "    random_state=random_state,\n",
    "    shuffle=is_shuffle\n",
    ")"
   ]
  },
  {
   "cell_type": "markdown",
   "metadata": {},
   "source": [
    "## Setup function"
   ]
  },
  {
   "cell_type": "code",
   "execution_count": null,
   "metadata": {},
   "outputs": [],
   "source": [
    "def softmax(z):\n",
    "    exp_z = np.exp(z)\n",
    "\n",
    "    return exp_z / exp_z.sum(axis=1)[:, None]\n",
    "\n",
    "def compute_loss(y_hat, y):\n",
    "    n = y.size\n",
    "\n",
    "    return (-1 / n) * np.sum(y * np.log(y_hat))\n",
    "\n",
    "def predict(X, theta):\n",
    "    z = np.dot(X, theta)\n",
    "    y_hat = softmax(z)\n",
    "\n",
    "    return y_hat\n",
    "\n",
    "def compute_gradient(X, y, y_hat):\n",
    "    n = y.size\n",
    "\n",
    "    return np.dot(X.T, (y_hat - y)) / n\n",
    "\n",
    "def update_theta(theta, gradient, lr):\n",
    "    return theta - lr * gradient\n",
    "\n",
    "def compute_accuracy(X, y, theta):\n",
    "    y_hat = predict(X, theta)\n",
    "    acc = (np.argmax(y_hat, axis=1) == np.argmax(y, axis=1)).mean()\n",
    "\n",
    "    return acc"
   ]
  },
  {
   "cell_type": "markdown",
   "metadata": {},
   "source": [
    "## Model training"
   ]
  },
  {
   "cell_type": "code",
   "execution_count": null,
   "metadata": {},
   "outputs": [],
   "source": [
    "lr = 0.01\n",
    "epochs = 30\n",
    "batch_size = 1024\n",
    "n_features = X_train.shape[1]\n",
    "\n",
    "np.random.seed(random_state)\n",
    "theta = np.random.uniform(\n",
    "    size=(n_features, n_classes)\n",
    ")"
   ]
  },
  {
   "cell_type": "code",
   "execution_count": null,
   "metadata": {},
   "outputs": [],
   "source": [
    "train_accs =  []\n",
    "train_losses = []\n",
    "val_accs = []\n",
    "val_losses = []\n",
    "\n",
    "for epoch in range(epochs):\n",
    "    train_batch_losses = []\n",
    "    train_batch_accs = []\n",
    "    val_batch_losses = []\n",
    "    val_batch_accs = []\n",
    "\n",
    "    for i in range(0, X_train.shape[0], batch_size):\n",
    "        X_i = X_train[i:i+batch_size]\n",
    "        y_i = y_train[i:i+batch_size]\n",
    "\n",
    "        y_hat = predict(X_i, theta)\n",
    "\n",
    "        train_loss = compute_loss(y_hat, y_i)\n",
    "\n",
    "        gradient = compute_gradient(X_i, y_i, y_hat)\n",
    "\n",
    "        theta = update_theta(theta, gradient, lr)\n",
    "\n",
    "        train_batch_losses.append(train_loss)\n",
    "\n",
    "        train_acc = compute_accuracy(X_train, y_train, theta)\n",
    "        train_batch_accs.append(train_acc)\n",
    "\n",
    "        y_val_hat = predict(X_val, theta)\n",
    "        val_loss = compute_loss(y_val_hat, y_val)\n",
    "        val_batch_losses.append(val_loss)\n",
    "\n",
    "        val_acc = compute_accuracy(X_val, y_val, theta)\n",
    "        val_batch_accs.append(val_acc)\n",
    "    \n",
    "    train_batch_loss = sum(train_batch_losses) / len(train_batch_losses)\n",
    "    val_batch_loss = sum(val_batch_losses) / len(val_batch_losses)\n",
    "    train_batch_acc = sum(train_batch_accs) / len(train_batch_accs)\n",
    "    val_batch_acc = sum(val_batch_accs) / len(val_batch_accs)\n",
    "\n",
    "    train_losses.append(train_batch_loss)\n",
    "    val_losses.append(val_batch_loss)\n",
    "    train_accs.append(train_batch_acc)\n",
    "    val_accs.append(val_batch_acc)\n",
    "\n",
    "    print(f'\\nEPOCH {epoch + 1}:')\n",
    "    print(f'\\tTraining loss: {train_batch_loss:.3f} - Training acc: {train_batch_acc:.3f}')\n",
    "    print(f'\\tValidation loss: {val_batch_loss:.3f} - Validation acc: {val_batch_acc:.3f}')"
   ]
  },
  {
   "cell_type": "markdown",
   "metadata": {},
   "source": [
    "## Visualize"
   ]
  },
  {
   "cell_type": "code",
   "execution_count": null,
   "metadata": {},
   "outputs": [],
   "source": [
    "fig, ax = plt.subplots(2, 2, figsize=(12, 10))\n",
    "ax[0, 0].plot(train_losses)\n",
    "ax[0, 0].set(xlabel='Epoch', ylabel='Loss')\n",
    "ax[0, 0].set_title('Training Loss')\n",
    "\n",
    "ax[0, 1].plot(val_losses, 'orange')\n",
    "ax[0, 1].set(xlabel='Epoch', ylabel='Loss')\n",
    "ax[0, 1].set_title('Validation Loss')\n",
    "\n",
    "ax[1, 0].plot(train_accs)\n",
    "ax[1, 0].set(xlabel='Epoch', ylabel='Accuracy')\n",
    "ax[1, 0].set_title('Training Accuracy')\n",
    "\n",
    "ax[1, 1].plot(val_accs, 'orange')\n",
    "ax[1, 1].set(xlabel='Epoch', ylabel='Accuracy')\n",
    "ax[1, 1].set_title('Validation Accuracy')"
   ]
  },
  {
   "cell_type": "markdown",
   "metadata": {},
   "source": [
    "## Model validation"
   ]
  },
  {
   "cell_type": "code",
   "execution_count": null,
   "metadata": {},
   "outputs": [],
   "source": [
    "val_set_acc = compute_accuracy(X_val, y_val, theta )\n",
    "test_set_acc = compute_accuracy(X_test, y_test, theta )\n",
    "print('Evaluation on validation and test set:')\n",
    "print(f'Accuracy : { val_set_acc }')\n",
    "print(f'Accuracy : { test_set_acc }')"
   ]
  },
  {
   "cell_type": "code",
   "execution_count": null,
   "metadata": {},
   "outputs": [],
   "source": []
  }
 ],
 "metadata": {
  "kernelspec": {
   "display_name": "aio2024-hw",
   "language": "python",
   "name": "python3"
  },
  "language_info": {
   "codemirror_mode": {
    "name": "ipython",
    "version": 3
   },
   "file_extension": ".py",
   "mimetype": "text/x-python",
   "name": "python",
   "nbconvert_exporter": "python",
   "pygments_lexer": "ipython3",
   "version": "3.12.7"
  }
 },
 "nbformat": 4,
 "nbformat_minor": 2
}
