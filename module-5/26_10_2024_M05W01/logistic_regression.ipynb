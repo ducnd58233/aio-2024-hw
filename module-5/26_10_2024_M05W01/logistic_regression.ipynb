{
 "cells": [
  {
   "cell_type": "code",
   "execution_count": 1,
   "metadata": {},
   "outputs": [
    {
     "name": "stdout",
     "output_type": "stream",
     "text": [
      "d:\\AIVietNam\\2024\\aio-2024-hw\\module-5\\26_10_2024_M05W01\\data\n"
     ]
    },
    {
     "name": "stderr",
     "output_type": "stream",
     "text": [
      "A subdirectory or file data already exists.\n"
     ]
    },
    {
     "name": "stdout",
     "output_type": "stream",
     "text": [
      "d:\\AIVietNam\\2024\\aio-2024-hw\\module-5\\26_10_2024_M05W01\n"
     ]
    },
    {
     "name": "stderr",
     "output_type": "stream",
     "text": [
      "Downloading...\n",
      "From: https://drive.google.com/uc?id=1SFWQ7Zi83Gff-RVrlHj0z4Llm1Nq4BBA\n",
      "To: d:\\AIVietNam\\2024\\aio-2024-hw\\module-5\\26_10_2024_M05W01\\data\\titanic_modified_dataset.csv\n",
      "\n",
      "  0%|          | 0.00/25.9k [00:00<?, ?B/s]\n",
      "100%|██████████| 25.9k/25.9k [00:00<?, ?B/s]\n"
     ]
    }
   ],
   "source": [
    "!mkdir data\n",
    "%cd data\n",
    "\n",
    "!gdown 1SFWQ7Zi83Gff-RVrlHj0z4Llm1Nq4BBA\n",
    "\n",
    "%cd .."
   ]
  },
  {
   "cell_type": "code",
   "execution_count": 2,
   "metadata": {},
   "outputs": [],
   "source": [
    "import pandas as pd\n",
    "import numpy as np\n",
    "import matplotlib.pyplot as plt\n",
    "\n",
    "from sklearn.model_selection import train_test_split\n",
    "from sklearn.preprocessing import StandardScaler"
   ]
  },
  {
   "cell_type": "code",
   "execution_count": 3,
   "metadata": {},
   "outputs": [
    {
     "data": {
      "text/html": [
       "<div>\n",
       "<style scoped>\n",
       "    .dataframe tbody tr th:only-of-type {\n",
       "        vertical-align: middle;\n",
       "    }\n",
       "\n",
       "    .dataframe tbody tr th {\n",
       "        vertical-align: top;\n",
       "    }\n",
       "\n",
       "    .dataframe thead th {\n",
       "        text-align: right;\n",
       "    }\n",
       "</style>\n",
       "<table border=\"1\" class=\"dataframe\">\n",
       "  <thead>\n",
       "    <tr style=\"text-align: right;\">\n",
       "      <th></th>\n",
       "      <th>Pclass</th>\n",
       "      <th>Sex</th>\n",
       "      <th>Age</th>\n",
       "      <th>SibSp</th>\n",
       "      <th>Parch</th>\n",
       "      <th>Fare</th>\n",
       "      <th>Embarked</th>\n",
       "      <th>Title</th>\n",
       "      <th>Survived</th>\n",
       "    </tr>\n",
       "    <tr>\n",
       "      <th>PassengerId</th>\n",
       "      <th></th>\n",
       "      <th></th>\n",
       "      <th></th>\n",
       "      <th></th>\n",
       "      <th></th>\n",
       "      <th></th>\n",
       "      <th></th>\n",
       "      <th></th>\n",
       "      <th></th>\n",
       "    </tr>\n",
       "  </thead>\n",
       "  <tbody>\n",
       "    <tr>\n",
       "      <th>1</th>\n",
       "      <td>3</td>\n",
       "      <td>0</td>\n",
       "      <td>22.0</td>\n",
       "      <td>1</td>\n",
       "      <td>0</td>\n",
       "      <td>7.2500</td>\n",
       "      <td>0</td>\n",
       "      <td>0</td>\n",
       "      <td>0</td>\n",
       "    </tr>\n",
       "    <tr>\n",
       "      <th>2</th>\n",
       "      <td>1</td>\n",
       "      <td>1</td>\n",
       "      <td>38.0</td>\n",
       "      <td>1</td>\n",
       "      <td>0</td>\n",
       "      <td>71.2833</td>\n",
       "      <td>1</td>\n",
       "      <td>1</td>\n",
       "      <td>1</td>\n",
       "    </tr>\n",
       "    <tr>\n",
       "      <th>3</th>\n",
       "      <td>3</td>\n",
       "      <td>1</td>\n",
       "      <td>26.0</td>\n",
       "      <td>0</td>\n",
       "      <td>0</td>\n",
       "      <td>7.9250</td>\n",
       "      <td>0</td>\n",
       "      <td>2</td>\n",
       "      <td>1</td>\n",
       "    </tr>\n",
       "    <tr>\n",
       "      <th>4</th>\n",
       "      <td>1</td>\n",
       "      <td>1</td>\n",
       "      <td>35.0</td>\n",
       "      <td>1</td>\n",
       "      <td>0</td>\n",
       "      <td>53.1000</td>\n",
       "      <td>0</td>\n",
       "      <td>1</td>\n",
       "      <td>1</td>\n",
       "    </tr>\n",
       "    <tr>\n",
       "      <th>5</th>\n",
       "      <td>3</td>\n",
       "      <td>0</td>\n",
       "      <td>35.0</td>\n",
       "      <td>0</td>\n",
       "      <td>0</td>\n",
       "      <td>8.0500</td>\n",
       "      <td>0</td>\n",
       "      <td>0</td>\n",
       "      <td>0</td>\n",
       "    </tr>\n",
       "  </tbody>\n",
       "</table>\n",
       "</div>"
      ],
      "text/plain": [
       "             Pclass  Sex   Age  SibSp  Parch     Fare  Embarked  Title  \\\n",
       "PassengerId                                                              \n",
       "1                 3    0  22.0      1      0   7.2500         0      0   \n",
       "2                 1    1  38.0      1      0  71.2833         1      1   \n",
       "3                 3    1  26.0      0      0   7.9250         0      2   \n",
       "4                 1    1  35.0      1      0  53.1000         0      1   \n",
       "5                 3    0  35.0      0      0   8.0500         0      0   \n",
       "\n",
       "             Survived  \n",
       "PassengerId            \n",
       "1                   0  \n",
       "2                   1  \n",
       "3                   1  \n",
       "4                   1  \n",
       "5                   0  "
      ]
     },
     "execution_count": 3,
     "metadata": {},
     "output_type": "execute_result"
    }
   ],
   "source": [
    "dataset_path = './data/titanic_modified_dataset.csv'\n",
    "df = pd.read_csv(dataset_path, index_col='PassengerId')\n",
    "df.head()"
   ]
  },
  {
   "cell_type": "code",
   "execution_count": 4,
   "metadata": {},
   "outputs": [],
   "source": [
    "ds_arr = df.to_numpy().astype(np.float64)\n",
    "X, y = ds_arr[:, :-1], ds_arr[:, -1]"
   ]
  },
  {
   "cell_type": "code",
   "execution_count": 5,
   "metadata": {},
   "outputs": [
    {
     "data": {
      "text/plain": [
       "array([[ 1.    ,  3.    ,  0.    , ...,  7.25  ,  0.    ,  0.    ],\n",
       "       [ 1.    ,  1.    ,  1.    , ..., 71.2833,  1.    ,  1.    ],\n",
       "       [ 1.    ,  3.    ,  1.    , ...,  7.925 ,  0.    ,  2.    ],\n",
       "       ...,\n",
       "       [ 1.    ,  3.    ,  1.    , ..., 23.45  ,  0.    ,  2.    ],\n",
       "       [ 1.    ,  1.    ,  0.    , ..., 30.    ,  1.    ,  0.    ],\n",
       "       [ 1.    ,  3.    ,  0.    , ...,  7.75  ,  2.    ,  0.    ]],\n",
       "      shape=(891, 9))"
      ]
     },
     "execution_count": 5,
     "metadata": {},
     "output_type": "execute_result"
    }
   ],
   "source": [
    "# If using library, bias will auto added into X. But since we impl from scratch, we need to do it manually\n",
    "intercept = np.ones((X.shape[0], 1))\n",
    "X_b = np.hstack((intercept, X))\n",
    "X_b"
   ]
  },
  {
   "cell_type": "code",
   "execution_count": 6,
   "metadata": {},
   "outputs": [],
   "source": [
    "val_size=0.2\n",
    "test_size=0.125\n",
    "random_state=2\n",
    "is_shuffle=True\n",
    "\n",
    "X_train, X_val, y_train, y_val = train_test_split(\n",
    "    X_b, y,\n",
    "    test_size=val_size,\n",
    "    random_state=random_state,\n",
    "    shuffle=is_shuffle\n",
    ")\n",
    "X_train, X_test, y_train, y_test = train_test_split(\n",
    "    X_train, y_train,\n",
    "    test_size=test_size,\n",
    "    random_state=random_state,\n",
    "    shuffle=is_shuffle\n",
    ")"
   ]
  },
  {
   "cell_type": "code",
   "execution_count": 7,
   "metadata": {},
   "outputs": [],
   "source": [
    "normalizer = StandardScaler()\n",
    "X_train[:, 1:] = normalizer.fit_transform(X_train[:, 1:]) # skip bias\n",
    "X_val[:, 1:] = normalizer.transform(X_val[:, 1:])\n",
    "X_test[:, 1:] = normalizer.transform(X_test[:, 1:])"
   ]
  },
  {
   "cell_type": "code",
   "execution_count": 8,
   "metadata": {},
   "outputs": [],
   "source": [
    "def sigmoid(z):\n",
    "    return 1 / (1 + np.exp(-z))\n",
    "\n",
    "def predict(X, theta):\n",
    "    dot_product = np.dot(X, theta)\n",
    "    y_hat = sigmoid(dot_product)\n",
    "    return y_hat"
   ]
  },
  {
   "cell_type": "markdown",
   "metadata": {},
   "source": [
    "$loss(y,\\hat{y})=-\\frac{1}{\\text{batch size}}\\sum^{\\text{batch size}}_{i=1}(y_i\\times\\log(\\hat{y}_i)+(1-\\hat{y}_i\\times\\log(1-\\hat{y}_i))$"
   ]
  },
  {
   "cell_type": "code",
   "execution_count": 9,
   "metadata": {},
   "outputs": [],
   "source": [
    "# Clip (limit) the values in an array.\n",
    "# Given an interval, values outside the interval are clipped to the interval edges.\n",
    "# For example, if an interval of [0, 1] is specified, values smaller than 0 become 0, and values larger than 1 become 1.\n",
    "# Equivalent to but faster than np.minimum(a_max, np.maximum(a, a_min)).\n",
    "def compute_loss(y_hat, y):\n",
    "    y_hat = np.clip(y_hat, 1e-7, 1 - 1e-7)\n",
    "    return (\n",
    "        -y *\n",
    "        np.log(y_hat) - (1 - y) *\n",
    "        np.log(1 - y_hat)\n",
    "    ).mean()"
   ]
  },
  {
   "cell_type": "markdown",
   "metadata": {},
   "source": [
    "$gradient(X,y,\\hat{y})=\\frac{X^T\\cdot(\\hat{y}-y)}{\\text{batch size}}$"
   ]
  },
  {
   "cell_type": "code",
   "execution_count": 10,
   "metadata": {},
   "outputs": [],
   "source": [
    "def compute_gradient(X, y, y_hat):\n",
    "    return np.dot(X.T, (y_hat - y)) / y.size"
   ]
  },
  {
   "cell_type": "markdown",
   "metadata": {},
   "source": [
    "$\\theta=\\theta-lr \\times gradient$"
   ]
  },
  {
   "cell_type": "code",
   "execution_count": 11,
   "metadata": {},
   "outputs": [],
   "source": [
    "def update_theta(theta, gradient, lr):\n",
    "    return theta - lr * gradient"
   ]
  },
  {
   "cell_type": "markdown",
   "metadata": {},
   "source": [
    "$accuracy=\\frac{\\text{Số lần dự đoán đúng}}{\\text{Tổng số lần dự đoán}}$"
   ]
  },
  {
   "cell_type": "code",
   "execution_count": 12,
   "metadata": {},
   "outputs": [],
   "source": [
    "def compute_accuracy(X, y, theta):\n",
    "    y_hat = predict(X, theta).round()\n",
    "    acc = (y_hat == y).mean()\n",
    "    \n",
    "    return acc"
   ]
  },
  {
   "cell_type": "code",
   "execution_count": 13,
   "metadata": {},
   "outputs": [],
   "source": [
    "lr = 0.01\n",
    "epochs = 100\n",
    "batch_size = 16\n",
    "\n",
    "np.random.seed(random_state)\n",
    "theta = np.random.uniform(\n",
    "    size=X_train.shape[1]\n",
    ")"
   ]
  },
  {
   "cell_type": "code",
   "execution_count": 14,
   "metadata": {},
   "outputs": [
    {
     "name": "stdout",
     "output_type": "stream",
     "text": [
      "\n",
      "EPOCH 1:\tTraining loss : 0.703\tValidation loss : 0.599\n",
      "\n",
      "EPOCH 2:\tTraining loss : 0.670\tValidation loss : 0.582\n",
      "\n",
      "EPOCH 3:\tTraining loss : 0.640\tValidation loss : 0.567\n",
      "\n",
      "EPOCH 4:\tTraining loss : 0.614\tValidation loss : 0.555\n",
      "\n",
      "EPOCH 5:\tTraining loss : 0.592\tValidation loss : 0.544\n",
      "\n",
      "EPOCH 6:\tTraining loss : 0.572\tValidation loss : 0.535\n",
      "\n",
      "EPOCH 7:\tTraining loss : 0.554\tValidation loss : 0.528\n",
      "\n",
      "EPOCH 8:\tTraining loss : 0.539\tValidation loss : 0.522\n",
      "\n",
      "EPOCH 9:\tTraining loss : 0.526\tValidation loss : 0.517\n",
      "\n",
      "EPOCH 10:\tTraining loss : 0.514\tValidation loss : 0.513\n",
      "\n",
      "EPOCH 11:\tTraining loss : 0.504\tValidation loss : 0.509\n",
      "\n",
      "EPOCH 12:\tTraining loss : 0.495\tValidation loss : 0.507\n",
      "\n",
      "EPOCH 13:\tTraining loss : 0.487\tValidation loss : 0.505\n",
      "\n",
      "EPOCH 14:\tTraining loss : 0.480\tValidation loss : 0.503\n",
      "\n",
      "EPOCH 15:\tTraining loss : 0.474\tValidation loss : 0.502\n",
      "\n",
      "EPOCH 16:\tTraining loss : 0.468\tValidation loss : 0.501\n",
      "\n",
      "EPOCH 17:\tTraining loss : 0.463\tValidation loss : 0.500\n",
      "\n",
      "EPOCH 18:\tTraining loss : 0.459\tValidation loss : 0.500\n",
      "\n",
      "EPOCH 19:\tTraining loss : 0.455\tValidation loss : 0.500\n",
      "\n",
      "EPOCH 20:\tTraining loss : 0.452\tValidation loss : 0.500\n",
      "\n",
      "EPOCH 21:\tTraining loss : 0.449\tValidation loss : 0.499\n",
      "\n",
      "EPOCH 22:\tTraining loss : 0.446\tValidation loss : 0.500\n",
      "\n",
      "EPOCH 23:\tTraining loss : 0.443\tValidation loss : 0.500\n",
      "\n",
      "EPOCH 24:\tTraining loss : 0.441\tValidation loss : 0.500\n",
      "\n",
      "EPOCH 25:\tTraining loss : 0.439\tValidation loss : 0.500\n",
      "\n",
      "EPOCH 26:\tTraining loss : 0.437\tValidation loss : 0.500\n",
      "\n",
      "EPOCH 27:\tTraining loss : 0.435\tValidation loss : 0.501\n",
      "\n",
      "EPOCH 28:\tTraining loss : 0.434\tValidation loss : 0.501\n",
      "\n",
      "EPOCH 29:\tTraining loss : 0.432\tValidation loss : 0.502\n",
      "\n",
      "EPOCH 30:\tTraining loss : 0.431\tValidation loss : 0.502\n",
      "\n",
      "EPOCH 31:\tTraining loss : 0.430\tValidation loss : 0.502\n",
      "\n",
      "EPOCH 32:\tTraining loss : 0.429\tValidation loss : 0.503\n",
      "\n",
      "EPOCH 33:\tTraining loss : 0.428\tValidation loss : 0.503\n",
      "\n",
      "EPOCH 34:\tTraining loss : 0.427\tValidation loss : 0.504\n",
      "\n",
      "EPOCH 35:\tTraining loss : 0.426\tValidation loss : 0.504\n",
      "\n",
      "EPOCH 36:\tTraining loss : 0.425\tValidation loss : 0.504\n",
      "\n",
      "EPOCH 37:\tTraining loss : 0.424\tValidation loss : 0.505\n",
      "\n",
      "EPOCH 38:\tTraining loss : 0.424\tValidation loss : 0.505\n",
      "\n",
      "EPOCH 39:\tTraining loss : 0.423\tValidation loss : 0.506\n",
      "\n",
      "EPOCH 40:\tTraining loss : 0.422\tValidation loss : 0.506\n",
      "\n",
      "EPOCH 41:\tTraining loss : 0.422\tValidation loss : 0.506\n",
      "\n",
      "EPOCH 42:\tTraining loss : 0.421\tValidation loss : 0.507\n",
      "\n",
      "EPOCH 43:\tTraining loss : 0.421\tValidation loss : 0.507\n",
      "\n",
      "EPOCH 44:\tTraining loss : 0.420\tValidation loss : 0.507\n",
      "\n",
      "EPOCH 45:\tTraining loss : 0.420\tValidation loss : 0.508\n",
      "\n",
      "EPOCH 46:\tTraining loss : 0.420\tValidation loss : 0.508\n",
      "\n",
      "EPOCH 47:\tTraining loss : 0.419\tValidation loss : 0.509\n",
      "\n",
      "EPOCH 48:\tTraining loss : 0.419\tValidation loss : 0.509\n",
      "\n",
      "EPOCH 49:\tTraining loss : 0.418\tValidation loss : 0.509\n",
      "\n",
      "EPOCH 50:\tTraining loss : 0.418\tValidation loss : 0.510\n",
      "\n",
      "EPOCH 51:\tTraining loss : 0.418\tValidation loss : 0.510\n",
      "\n",
      "EPOCH 52:\tTraining loss : 0.417\tValidation loss : 0.510\n",
      "\n",
      "EPOCH 53:\tTraining loss : 0.417\tValidation loss : 0.510\n",
      "\n",
      "EPOCH 54:\tTraining loss : 0.417\tValidation loss : 0.511\n",
      "\n",
      "EPOCH 55:\tTraining loss : 0.417\tValidation loss : 0.511\n",
      "\n",
      "EPOCH 56:\tTraining loss : 0.416\tValidation loss : 0.511\n",
      "\n",
      "EPOCH 57:\tTraining loss : 0.416\tValidation loss : 0.512\n",
      "\n",
      "EPOCH 58:\tTraining loss : 0.416\tValidation loss : 0.512\n",
      "\n",
      "EPOCH 59:\tTraining loss : 0.416\tValidation loss : 0.512\n",
      "\n",
      "EPOCH 60:\tTraining loss : 0.416\tValidation loss : 0.512\n",
      "\n",
      "EPOCH 61:\tTraining loss : 0.415\tValidation loss : 0.513\n",
      "\n",
      "EPOCH 62:\tTraining loss : 0.415\tValidation loss : 0.513\n",
      "\n",
      "EPOCH 63:\tTraining loss : 0.415\tValidation loss : 0.513\n",
      "\n",
      "EPOCH 64:\tTraining loss : 0.415\tValidation loss : 0.513\n",
      "\n",
      "EPOCH 65:\tTraining loss : 0.415\tValidation loss : 0.514\n",
      "\n",
      "EPOCH 66:\tTraining loss : 0.415\tValidation loss : 0.514\n",
      "\n",
      "EPOCH 67:\tTraining loss : 0.415\tValidation loss : 0.514\n",
      "\n",
      "EPOCH 68:\tTraining loss : 0.414\tValidation loss : 0.514\n",
      "\n",
      "EPOCH 69:\tTraining loss : 0.414\tValidation loss : 0.514\n",
      "\n",
      "EPOCH 70:\tTraining loss : 0.414\tValidation loss : 0.515\n",
      "\n",
      "EPOCH 71:\tTraining loss : 0.414\tValidation loss : 0.515\n",
      "\n",
      "EPOCH 72:\tTraining loss : 0.414\tValidation loss : 0.515\n",
      "\n",
      "EPOCH 73:\tTraining loss : 0.414\tValidation loss : 0.515\n",
      "\n",
      "EPOCH 74:\tTraining loss : 0.414\tValidation loss : 0.515\n",
      "\n",
      "EPOCH 75:\tTraining loss : 0.414\tValidation loss : 0.516\n",
      "\n",
      "EPOCH 76:\tTraining loss : 0.414\tValidation loss : 0.516\n",
      "\n",
      "EPOCH 77:\tTraining loss : 0.413\tValidation loss : 0.516\n",
      "\n",
      "EPOCH 78:\tTraining loss : 0.413\tValidation loss : 0.516\n",
      "\n",
      "EPOCH 79:\tTraining loss : 0.413\tValidation loss : 0.516\n",
      "\n",
      "EPOCH 80:\tTraining loss : 0.413\tValidation loss : 0.517\n",
      "\n",
      "EPOCH 81:\tTraining loss : 0.413\tValidation loss : 0.517\n",
      "\n",
      "EPOCH 82:\tTraining loss : 0.413\tValidation loss : 0.517\n",
      "\n",
      "EPOCH 83:\tTraining loss : 0.413\tValidation loss : 0.517\n",
      "\n",
      "EPOCH 84:\tTraining loss : 0.413\tValidation loss : 0.517\n",
      "\n",
      "EPOCH 85:\tTraining loss : 0.413\tValidation loss : 0.517\n",
      "\n",
      "EPOCH 86:\tTraining loss : 0.413\tValidation loss : 0.517\n",
      "\n",
      "EPOCH 87:\tTraining loss : 0.413\tValidation loss : 0.518\n",
      "\n",
      "EPOCH 88:\tTraining loss : 0.413\tValidation loss : 0.518\n",
      "\n",
      "EPOCH 89:\tTraining loss : 0.413\tValidation loss : 0.518\n",
      "\n",
      "EPOCH 90:\tTraining loss : 0.413\tValidation loss : 0.518\n",
      "\n",
      "EPOCH 91:\tTraining loss : 0.413\tValidation loss : 0.518\n",
      "\n",
      "EPOCH 92:\tTraining loss : 0.413\tValidation loss : 0.518\n",
      "\n",
      "EPOCH 93:\tTraining loss : 0.413\tValidation loss : 0.518\n",
      "\n",
      "EPOCH 94:\tTraining loss : 0.412\tValidation loss : 0.519\n",
      "\n",
      "EPOCH 95:\tTraining loss : 0.412\tValidation loss : 0.519\n",
      "\n",
      "EPOCH 96:\tTraining loss : 0.412\tValidation loss : 0.519\n",
      "\n",
      "EPOCH 97:\tTraining loss : 0.412\tValidation loss : 0.519\n",
      "\n",
      "EPOCH 98:\tTraining loss : 0.412\tValidation loss : 0.519\n",
      "\n",
      "EPOCH 99:\tTraining loss : 0.412\tValidation loss : 0.519\n",
      "\n",
      "EPOCH 100:\tTraining loss : 0.412\tValidation loss : 0.519\n"
     ]
    }
   ],
   "source": [
    "train_accs = []\n",
    "train_losses = []\n",
    "val_accs = []\n",
    "val_losses = []\n",
    "\n",
    "for epoch in range(epochs):\n",
    "    train_batch_losses = []\n",
    "    train_batch_accs = []\n",
    "    val_batch_losses = []\n",
    "    val_batch_accs = []\n",
    "    \n",
    "    for i in range(0, X_train.shape[0], batch_size):\n",
    "        X_i = X_train[i:i+batch_size]\n",
    "        y_i = y_train[i:i+batch_size]\n",
    "        \n",
    "        y_hat = predict(X_i, theta)\n",
    "        \n",
    "        train_loss = compute_loss(y_hat, y_i)\n",
    "        gradient = compute_gradient(X_i, y_i, y_hat)\n",
    "        theta = update_theta(theta, gradient, lr)\n",
    "        \n",
    "        train_batch_losses.append(train_loss)\n",
    "        \n",
    "        train_acc = compute_accuracy(X_train, y_train, theta)\n",
    "        train_batch_accs.append(train_acc)\n",
    "        \n",
    "        y_val_hat = predict(X_val, theta)\n",
    "        val_loss = compute_loss(y_val_hat, y_val)\n",
    "        val_batch_losses.append(val_loss)\n",
    "        \n",
    "        val_acc = compute_accuracy(X_val, y_val, theta)\n",
    "        val_batch_accs.append(val_acc)\n",
    "        \n",
    "    train_batch_loss = sum(train_batch_losses) / len(train_batch_losses)\n",
    "    val_batch_loss = sum(val_batch_losses) / len(val_batch_losses)\n",
    "    train_batch_acc = sum(train_batch_accs) / len(train_batch_accs)\n",
    "    val_batch_acc = sum(val_batch_accs) / len(val_batch_accs)\n",
    "    \n",
    "    train_losses.append(train_batch_loss)\n",
    "    val_losses.append(val_batch_loss) \n",
    "    train_accs.append(train_batch_acc)\n",
    "    val_accs.append(val_batch_acc)\n",
    "    \n",
    "    print (f'\\nEPOCH {epoch + 1}:\\tTraining loss : {train_batch_loss:.3f}\\tValidation loss : {val_batch_loss :.3f}')"
   ]
  },
  {
   "cell_type": "code",
   "execution_count": 15,
   "metadata": {},
   "outputs": [
    {
     "data": {
      "text/plain": [
       "Text(0.5, 1.0, 'Validation Accuracy')"
      ]
     },
     "execution_count": 15,
     "metadata": {},
     "output_type": "execute_result"
    },
    {
     "data": {
      "image/png": "[encoded data removed]",
      "text/plain": [
       "<Figure size 1200x1000 with 4 Axes>"
      ]
     },
     "metadata": {},
     "output_type": "display_data"
    }
   ],
   "source": [
    "fig, ax = plt.subplots(2, 2, figsize=(12, 10))\n",
    "ax[0, 0].plot(train_losses)\n",
    "ax[0, 0].set(xlabel='Epoch', ylabel='Loss')\n",
    "ax[0, 0].set_title('Training Loss')\n",
    "\n",
    "ax[0, 1].plot(val_losses)\n",
    "ax[0, 1].set(xlabel='Epoch', ylabel='Loss')\n",
    "ax[0, 1].set_title('Validation Loss')\n",
    "\n",
    "ax[1, 0].plot(train_accs)\n",
    "ax[1, 0].set(xlabel='Epoch', ylabel='Accuracy')\n",
    "ax[1, 0].set_title('Training Accuracy')\n",
    "\n",
    "ax[1, 1].plot(val_accs)\n",
    "ax[1, 1].set(xlabel='Epoch', ylabel='Accuracy')\n",
    "ax[1, 1].set_title('Validation Accuracy')"
   ]
  },
  {
   "cell_type": "code",
   "execution_count": 16,
   "metadata": {},
   "outputs": [
    {
     "name": "stdout",
     "output_type": "stream",
     "text": [
      "Evaluation on validation and test set\n",
      "Accuracy: 0.770949720670391\n",
      "Accuracy: 0.7752808988764045\n"
     ]
    }
   ],
   "source": [
    "val_set_acc = compute_accuracy(X_val, y_val, theta)\n",
    "test_set_acc = compute_accuracy(X_test, y_test, theta)\n",
    "print('Evaluation on validation and test set')\n",
    "print(f'Accuracy: {val_set_acc}')\n",
    "print(f'Accuracy: {test_set_acc}')"
   ]
  },
  {
   "cell_type": "code",
   "execution_count": null,
   "metadata": {},
   "outputs": [],
   "source": []
  }
 ],
 "metadata": {
  "kernelspec": {
   "display_name": "aio2024-hw",
   "language": "python",
   "name": "python3"
  },
  "language_info": {
   "codemirror_mode": {
    "name": "ipython",
    "version": 3
   },
   "file_extension": ".py",
   "mimetype": "text/x-python",
   "name": "python",
   "nbconvert_exporter": "python",
   "pygments_lexer": "ipython3",
   "version": "3.12.9"
  }
 },
 "nbformat": 4,
 "nbformat_minor": 2
}
