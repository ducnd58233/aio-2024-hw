{
 "cells": [
  {
   "cell_type": "markdown",
   "metadata": {},
   "source": [
    "# 5"
   ]
  },
  {
   "cell_type": "code",
   "execution_count": 1,
   "metadata": {},
   "outputs": [
    {
     "name": "stdout",
     "output_type": "stream",
     "text": [
      "X shape: torch.Size([2])\n",
      "y shape: torch.Size([1])\n",
      "W_h shape: torch.Size([2, 2])\n",
      "W_z shape: torch.Size([2, 3])\n",
      "b_h shape: torch.Size([1, 2])\n",
      "b_z shape: torch.Size([1, 3])\n",
      "h shape: torch.Size([1, 2])\n",
      "z shape: torch.Size([1, 3])\n"
     ]
    }
   ],
   "source": [
    "import torch\n",
    "import torch.nn.functional\n",
    "\n",
    "X = torch.tensor([3.0, 2.0])\n",
    "print(f'X shape: {X.shape}')\n",
    "\n",
    "y = torch.tensor([0])\n",
    "print(f'y shape: {y.shape}')\n",
    "\n",
    "W_h = torch.tensor([\n",
    "    [0.8, -1.0], \n",
    "    [0.4, -0.6],\n",
    "])\n",
    "print(f'W_h shape: {W_h.shape}')\n",
    "\n",
    "W_z = torch.tensor([\n",
    "    [0.3, 0.2, 0.1], \n",
    "    [-0.4, -1.0, 0.2],\n",
    "])\n",
    "print(f'W_z shape: {W_z.shape}')\n",
    "\n",
    "b_h = torch.tensor([\n",
    "    [0.0, 0.0],\n",
    "])\n",
    "print(f'b_h shape: {b_h.shape}')\n",
    "\n",
    "b_z = torch.tensor([\n",
    "    [0.0, 0.0, 0.0],\n",
    "])\n",
    "print(f'b_z shape: {b_z.shape}')\n",
    "\n",
    "h = torch.matmul(X, W_h) + b_h\n",
    "h = torch.nn.functional.relu(h)\n",
    "print(f'h shape: {h.shape}')\n",
    "\n",
    "z = torch.matmul(h, W_z) + b_z\n",
    "# y_hat = torch.nn.functional.softmax(z)\n",
    "print(f'z shape: {z.shape}')"
   ]
  },
  {
   "cell_type": "code",
   "execution_count": 3,
   "metadata": {},
   "outputs": [
    {
     "name": "stdout",
     "output_type": "stream",
     "text": [
      "tensor([[3.2000, 0.0000]])\n",
      "tensor([[0.9600, 0.6400, 0.3200]])\n"
     ]
    }
   ],
   "source": [
    "print(h)\n",
    "print(z)\n",
    "# print(y_hat)"
   ]
  },
  {
   "cell_type": "code",
   "execution_count": 4,
   "metadata": {},
   "outputs": [
    {
     "data": {
      "text/plain": [
       "tensor(0.8125)"
      ]
     },
     "execution_count": 4,
     "metadata": {},
     "output_type": "execute_result"
    }
   ],
   "source": [
    "loss_fn = torch.nn.CrossEntropyLoss()\n",
    "loss = loss_fn(z, y)\n",
    "loss"
   ]
  },
  {
   "cell_type": "markdown",
   "metadata": {},
   "source": [
    "# 6"
   ]
  },
  {
   "cell_type": "code",
   "execution_count": 6,
   "metadata": {},
   "outputs": [
    {
     "name": "stdout",
     "output_type": "stream",
     "text": [
      "X shape: torch.Size([1, 2])\n",
      "y shape: torch.Size([1])\n",
      "x shape: torch.Size([1, 2])\n",
      "x with bias shape: torch.Size([1, 3])\n",
      "h shape: torch.Size([1, 2])\n",
      "z shape: torch.Size([1, 3])\n"
     ]
    },
    {
     "data": {
      "text/plain": [
       "tensor(0.7839, grad_fn=<NllLossBackward0>)"
      ]
     },
     "execution_count": 6,
     "metadata": {},
     "output_type": "execute_result"
    }
   ],
   "source": [
    "import torch\n",
    "import torch.nn as nn\n",
    "import numpy as np\n",
    "import random\n",
    "\n",
    "np.random.seed(0)\n",
    "random.seed(0)\n",
    "torch.manual_seed(0)\n",
    "\n",
    "X = torch.tensor([[3.0, 2.0]])\n",
    "print(f'X shape: {X.shape}')\n",
    "\n",
    "y = torch.tensor([0])\n",
    "print(f'y shape: {y.shape}')\n",
    "\n",
    "class SimpleModel(nn.Module):\n",
    "    def __init__(self):\n",
    "        super(SimpleModel, self).__init__()\n",
    "        self.hidden = nn.Linear(3, 2)\n",
    "        self.output = nn.Linear(3, 3)\n",
    "\n",
    "        self.relu = nn.ReLU()\n",
    "        # self.softmax = nn.Softmax(dim=1)\n",
    "    \n",
    "    def forward(self, x):\n",
    "        ones = torch.ones(x.shape[0], 1, dtype=torch.float32)\n",
    "        x_b = torch.cat([x, ones], dim=1)\n",
    "        print(f'x shape: {x.shape}')\n",
    "        print(f'x with bias shape: {x_b.shape}')\n",
    "\n",
    "        h = self.hidden(x_b)\n",
    "        print(f'h shape: {h.shape}')\n",
    "        h = self.relu(h)\n",
    "        h_b = torch.cat([h, ones], dim=1)\n",
    "\n",
    "        z = self.output(h_b)\n",
    "        print(f'z shape: {z.shape}')\n",
    "        # y_pred = self.softmax(z)\n",
    "\n",
    "        # print(f'y_pred shape: {y_pred.shape}')\n",
    "        return z\n",
    "\n",
    "model = SimpleModel()\n",
    "loss_fn = nn.CrossEntropyLoss()\n",
    "\n",
    "y_hat = model(X)\n",
    "loss = loss_fn(y_hat, y)\n",
    "loss\n"
   ]
  },
  {
   "cell_type": "code",
   "execution_count": null,
   "metadata": {},
   "outputs": [],
   "source": []
  }
 ],
 "metadata": {
  "kernelspec": {
   "display_name": "aio2024-hw",
   "language": "python",
   "name": "python3"
  },
  "language_info": {
   "codemirror_mode": {
    "name": "ipython",
    "version": 3
   },
   "file_extension": ".py",
   "mimetype": "text/x-python",
   "name": "python",
   "nbconvert_exporter": "python",
   "pygments_lexer": "ipython3",
   "version": "3.12.7"
  }
 },
 "nbformat": 4,
 "nbformat_minor": 2
}
